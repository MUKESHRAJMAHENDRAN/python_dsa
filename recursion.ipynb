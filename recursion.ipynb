{
 "cells": [
  {
   "cell_type": "markdown",
   "id": "3e66e613-5492-4df0-bf40-2f2b43ef72a9",
   "metadata": {},
   "source": [
    "### 1. [Permutations](https://leetcode.com/problems/permutations/)\n",
    "\n",
    "**Problem Statement:**\n",
    "Given a collection of distinct integers, return all possible permutations.\n",
    "\n",
    "**Example:**\n",
    "```plaintext\n",
    "Input: [1,2,3]\n",
    "Output:\n",
    "[\n",
    " [1,2,3],\n",
    " [1,3,2],\n",
    " [2,1,3],\n",
    " [2,3,1],\n",
    " [3,1,2],\n",
    " [3,2,1]\n",
    "]\n",
    "```"
   ]
  },
  {
   "cell_type": "code",
   "execution_count": 1,
   "id": "1afe78fe-995f-40f4-bd2e-02be214a4c78",
   "metadata": {},
   "outputs": [
    {
     "name": "stdout",
     "output_type": "stream",
     "text": [
      "[[1, 2, 3], [1, 3, 2], [2, 1, 3], [2, 3, 1], [3, 2, 1], [3, 1, 2]]\n"
     ]
    }
   ],
   "source": [
    "def permute(nums):\n",
    "    def backtrack(start=0):\n",
    "        # If we've reached the end of the array, add a copy of the permutation\n",
    "        if start == n:\n",
    "            result.append(nums[:])\n",
    "        for i in range(start, n):\n",
    "            # Swap the current element with the start\n",
    "            nums[start], nums[i] = nums[i], nums[start]\n",
    "            # Recurse on the remainder of the array\n",
    "            backtrack(start + 1)\n",
    "            # Backtrack (undo the swap)\n",
    "            nums[start], nums[i] = nums[i], nums[start]\n",
    "\n",
    "    n = len(nums)\n",
    "    result = []\n",
    "    backtrack()\n",
    "    return result\n",
    "\n",
    "# Sample Test Case\n",
    "print(permute([1, 2, 3]))"
   ]
  },
  {
   "cell_type": "markdown",
   "id": "675112c0-152e-4838-ba6f-b00e0a630db8",
   "metadata": {},
   "source": [
    "### 2. [Subsets](https://leetcode.com/problems/subsets/)\n",
    "\n",
    "**Problem Statement:**\n",
    "Given an integer array `nums`, return all possible subsets (the power set).\n",
    "\n",
    "**Example:**\n",
    "```plaintext\n",
    "Input: [1,2,3]\n",
    "Output:\n",
    "[\n",
    "  [],\n",
    " [1],\n",
    " [2],\n",
    " [3],\n",
    " [1,2],\n",
    " [1,3],\n",
    " [2,3],\n",
    " [1,2,3]\n",
    "]\n",
    "```"
   ]
  },
  {
   "cell_type": "code",
   "execution_count": 2,
   "id": "7d5e3ba2-3832-4d5c-b2de-fba44cf6ffb2",
   "metadata": {},
   "outputs": [
    {
     "name": "stdout",
     "output_type": "stream",
     "text": [
      "[[], [1], [1, 2], [1, 2, 3], [1, 3], [2], [2, 3], [3]]\n"
     ]
    }
   ],
   "source": [
    "def subsets(nums):\n",
    "    def backtrack(start, path):\n",
    "        # Append the current subset (path)\n",
    "        result.append(path)\n",
    "        for i in range(start, len(nums)):\n",
    "            # Include nums[i] in the current path\n",
    "            backtrack(i + 1, path + [nums[i]])\n",
    "\n",
    "    result = []\n",
    "    backtrack(0, [])\n",
    "    return result\n",
    "\n",
    "# Sample Test Case\n",
    "print(subsets([1, 2, 3]))"
   ]
  },
  {
   "cell_type": "markdown",
   "id": "1e5c4a4c-5d91-40c8-8c46-d735c49db759",
   "metadata": {},
   "source": [
    "### 3. [Letter Combinations of a Phone Number](https://leetcode.com/problems/letter-combinations-of-a-phone-number/)\n",
    "\n",
    "**Problem Statement:**\n",
    "Given a string containing digits from 2-9 inclusive, return all possible letter combinations that the number could represent.\n",
    "\n",
    "**Example:**\n",
    "```plaintext\n",
    "Input: \"23\"\n",
    "Output: [\"ad\", \"ae\", \"af\", \"bd\", \"be\", \"bf\", \"cd\", \"ce\", \"cf\"]\n",
    "```"
   ]
  },
  {
   "cell_type": "code",
   "execution_count": 3,
   "id": "936c3ebb-b155-404e-867a-3feb9da28428",
   "metadata": {},
   "outputs": [
    {
     "name": "stdout",
     "output_type": "stream",
     "text": [
      "['ad', 'ae', 'af', 'bd', 'be', 'bf', 'cd', 'ce', 'cf']\n"
     ]
    }
   ],
   "source": [
    "def letterCombinations(digits):\n",
    "    if not digits:\n",
    "        return []\n",
    "\n",
    "    phone = {\n",
    "        \"2\": \"abc\", \"3\": \"def\", \"4\": \"ghi\", \"5\": \"jkl\",\n",
    "        \"6\": \"mno\", \"7\": \"pqrs\", \"8\": \"tuv\", \"9\": \"wxyz\"\n",
    "    }\n",
    "\n",
    "    def backtrack(index, path):\n",
    "        if index == len(digits):\n",
    "            combinations.append(path)\n",
    "            return\n",
    "        letters = phone[digits[index]]\n",
    "        for letter in letters:\n",
    "            backtrack(index + 1, path + letter)\n",
    "\n",
    "    combinations = []\n",
    "    backtrack(0, \"\")\n",
    "    return combinations\n",
    "\n",
    "# Sample Test Case\n",
    "print(letterCombinations(\"23\"))"
   ]
  },
  {
   "cell_type": "markdown",
   "id": "08362587-b46d-44b4-b837-d0145fb6e58b",
   "metadata": {},
   "source": [
    "### 4. [Next Permutation](https://leetcode.com/problems/next-permutation/)\n",
    "\n",
    "**Problem Statement:**\n",
    "Implement the `nextPermutation` function, which rearranges numbers into the lexicographically next greater permutation of numbers. If such an arrangement is not possible, it must rearrange it to the lowest possible order.\n",
    "\n",
    "**Example:**\n",
    "```plaintext\n",
    "Input: [1,2,3]\n",
    "Output: [1,3,2]\n",
    "```"
   ]
  },
  {
   "cell_type": "code",
   "execution_count": 4,
   "id": "0d637d5e-e575-4afa-98a6-2c9cc1daa1d0",
   "metadata": {},
   "outputs": [
    {
     "name": "stdout",
     "output_type": "stream",
     "text": [
      "[1, 3, 2]\n"
     ]
    }
   ],
   "source": [
    "def nextPermutation(nums):\n",
    "    # Find the first descending element from the end\n",
    "    i = j = len(nums) - 1\n",
    "    while i > 0 and nums[i - 1] >= nums[i]:\n",
    "        i -= 1\n",
    "\n",
    "    if i == 0:\n",
    "        nums.reverse()\n",
    "        return nums\n",
    "\n",
    "    # Find a number just larger than nums[i-1] to swap with\n",
    "    while nums[j] <= nums[i - 1]:\n",
    "        j -= 1\n",
    "\n",
    "    # Swap\n",
    "    nums[i - 1], nums[j] = nums[j], nums[i - 1]\n",
    "\n",
    "    # Reverse the rest\n",
    "    nums[i:] = reversed(nums[i:])\n",
    "\n",
    "# Sample Test Case\n",
    "arr = [1, 2, 3]\n",
    "nextPermutation(arr)\n",
    "print(arr)  # Should print [1, 3, 2]"
   ]
  },
  {
   "cell_type": "markdown",
   "id": "d402d6c2-3621-4209-84a5-0f21c752ca3a",
   "metadata": {},
   "source": [
    "### 5. [Generate Parentheses](https://leetcode.com/problems/generate-parentheses/)\n",
    "\n",
    "**Problem Statement:**\n",
    "Given `n` pairs of parentheses, write a function to generate all combinations of well-formed parentheses.\n",
    "\n",
    "**Example:**\n",
    "```plaintext\n",
    "Input: n = 3\n",
    "Output: [\"((()))\", \"(()())\", \"(())()\", \"()(())\", \"()()()\"]\n",
    "```"
   ]
  },
  {
   "cell_type": "code",
   "execution_count": 5,
   "id": "57bef417-e510-4048-8e19-953983642ccf",
   "metadata": {},
   "outputs": [
    {
     "name": "stdout",
     "output_type": "stream",
     "text": [
      "['((()))', '(()())', '(())()', '()(())', '()()()']\n"
     ]
    }
   ],
   "source": [
    "def generateParenthesis(n):\n",
    "    def backtrack(s, left, right):\n",
    "        if len(s) == 2 * n:\n",
    "            result.append(s)\n",
    "            return\n",
    "        if left < n:\n",
    "            backtrack(s + '(', left + 1, right)\n",
    "        if right < left:\n",
    "            backtrack(s + ')', left, right + 1)\n",
    "\n",
    "    result = []\n",
    "    backtrack('', 0, 0)\n",
    "    return result\n",
    "\n",
    "# Sample Test Case\n",
    "print(generateParenthesis(3))"
   ]
  },
  {
   "cell_type": "markdown",
   "id": "b8e56c0b-afc8-484f-b7ff-4ff2afef8de5",
   "metadata": {},
   "source": [
    "### 6. [N-Queens](https://leetcode.com/problems/n-queens/)\n",
    "\n",
    "**Problem Statement:**\n",
    "The n-queens puzzle is the problem of placing n queens on an n×n chessboard such that no two queens threaten each other.\n",
    "\n",
    "**Example:**\n",
    "```plaintext\n",
    "Input: 4\n",
    "Output:\n",
    "[\n",
    " [\".Q..\",  // Solution 1\n",
    "  \"...Q\",\n",
    "  \"Q...\",\n",
    "  \"..Q.\"],\n",
    "\n",
    " [\"..Q.\",  // Solution 2\n",
    "  \"Q...\",\n",
    "  \"...Q\",\n",
    "  \".Q..\"]\n",
    "]"
   ]
  },
  {
   "cell_type": "code",
   "execution_count": 6,
   "id": "92edbe55-b606-4d81-9a7c-a15d1ab70f72",
   "metadata": {},
   "outputs": [
    {
     "name": "stdout",
     "output_type": "stream",
     "text": [
      "[['.Q..', '...Q', 'Q...', '..Q.'], ['..Q.', 'Q...', '...Q', '.Q..']]\n"
     ]
    }
   ],
   "source": [
    "def solveNQueens(n):\n",
    "    def backtrack(row, diagonals, anti_diagonals, cols, state):\n",
    "        if row == n:\n",
    "            board = [\"\".join(r) for r in state]\n",
    "            solutions.append(board)\n",
    "            return\n",
    "\n",
    "        for col in range(n):\n",
    "            diag, anti_diag = row - col, row + col\n",
    "            if col in cols or diag in diagonals or anti_diag in anti_diagonals:\n",
    "                continue\n",
    "\n",
    "            cols.add(col)\n",
    "            diagonals.add(diag)\n",
    "            anti_diagonals.add(anti_diag)\n",
    "            state[row][col] = 'Q'\n",
    "\n",
    "            backtrack(row + 1, diagonals, anti_diagonals, cols, state)\n",
    "\n",
    "            cols.remove(col)\n",
    "            diagonals.remove(diag)\n",
    "            anti_diagonals.remove(anti_diag)\n",
    "            state[row][col] = '.'\n",
    "\n",
    "    solutions = []\n",
    "    state = [['.'] * n for _ in range(n)]\n",
    "    backtrack(0, set(), set(), set(), state)\n",
    "    return solutions\n",
    "\n",
    "# Sample Test Case\n",
    "print(solveNQueens(4))"
   ]
  }
 ],
 "metadata": {
  "kernelspec": {
   "display_name": "Python 3 (ipykernel)",
   "language": "python",
   "name": "python3"
  },
  "language_info": {
   "codemirror_mode": {
    "name": "ipython",
    "version": 3
   },
   "file_extension": ".py",
   "mimetype": "text/x-python",
   "name": "python",
   "nbconvert_exporter": "python",
   "pygments_lexer": "ipython3",
   "version": "3.11.7"
  },
  "widgets": {
   "application/vnd.jupyter.widget-state+json": {
    "state": {},
    "version_major": 2,
    "version_minor": 0
   }
  }
 },
 "nbformat": 4,
 "nbformat_minor": 5
}
