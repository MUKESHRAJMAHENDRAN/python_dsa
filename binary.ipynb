{
 "cells": [
  {
   "cell_type": "markdown",
   "id": "50d60efd-e11b-4233-8a61-06d756be517a",
   "metadata": {},
   "source": [
    "### 1. [Add Binary](https://leetcode.com/problems/add-binary/)\n",
    "**Difficulty**: Easy  \n",
    "**Time**: 15 mins  \n",
    "\n",
    "#### Problem Statement:\n",
    "Given two binary strings `a` and `b`, return their sum as a binary string.\n",
    "\n",
    "#### Sample Input:\n",
    "```plaintext\n",
    "a = \"1010\"\n",
    "b = \"1011\"\n",
    "```\n",
    "\n",
    "#### Sample Output:\n",
    "```plaintext\n",
    "\"10101\"\n",
    "```"
   ]
  },
  {
   "cell_type": "code",
   "execution_count": 1,
   "id": "78340179-5caa-4035-9ebb-9d029c4d0e29",
   "metadata": {},
   "outputs": [
    {
     "name": "stdout",
     "output_type": "stream",
     "text": [
      "10101\n"
     ]
    }
   ],
   "source": [
    "def addBinary(a: str, b: str) -> str:\n",
    "    # Initialize result string and carry\n",
    "    result = []\n",
    "    carry = 0\n",
    "\n",
    "    # Pointers for both strings\n",
    "    i, j = len(a) - 1, len(b) - 1\n",
    "\n",
    "    while i >= 0 or j >= 0 or carry:\n",
    "        # Get current bits, if available, otherwise 0\n",
    "        bit_a = int(a[i]) if i >= 0 else 0\n",
    "        bit_b = int(b[j]) if j >= 0 else 0\n",
    "\n",
    "        # Sum bits and carry\n",
    "        total = bit_a + bit_b + carry\n",
    "\n",
    "        # Compute new carry\n",
    "        carry = total // 2\n",
    "\n",
    "        # Append result of current bit\n",
    "        result.append(str(total % 2))\n",
    "\n",
    "        # Move to the next bits\n",
    "        i -= 1\n",
    "        j -= 1\n",
    "\n",
    "    # The result list holds the bits in reverse order\n",
    "    return ''.join(reversed(result))\n",
    "\n",
    "# Sample test case\n",
    "print(addBinary(\"1010\", \"1011\"))  # Output: \"10101\""
   ]
  },
  {
   "cell_type": "markdown",
   "id": "950ae9cd-3568-4641-8316-177250e01c44",
   "metadata": {},
   "source": [
    "### 2. [Find the Duplicate Number](https://leetcode.com/problems/find-the-duplicate-number/)\n",
    "**Difficulty**: Medium  \n",
    "**Time**: 20 mins  \n",
    "\n",
    "#### Problem Statement:\n",
    "Given an array of integers `nums` containing `n + 1` integers where each integer is between 1 and `n` (inclusive), find the duplicate number.\n",
    "\n",
    "#### Sample Input:\n",
    "```plaintext\n",
    "nums = [1, 3, 4, 2, 2]\n",
    "```\n",
    "\n",
    "#### Sample Output:\n",
    "```plaintext\n",
    "2\n",
    "```"
   ]
  },
  {
   "cell_type": "code",
   "execution_count": 2,
   "id": "3b5166cb-bdb5-4415-b5dd-4710ad513178",
   "metadata": {},
   "outputs": [
    {
     "name": "stdout",
     "output_type": "stream",
     "text": [
      "2\n"
     ]
    }
   ],
   "source": [
    "def findDuplicate(nums):\n",
    "    # Using Floyd's Tortoise and Hare algorithm\n",
    "    # Phase 1: Finding the intersection point of two runners\n",
    "    slow = nums[0]\n",
    "    fast = nums[0]\n",
    "\n",
    "    # Move slow by 1 step and fast by 2 steps\n",
    "    while True:\n",
    "        slow = nums[slow]\n",
    "        fast = nums[nums[fast]]\n",
    "        if slow == fast:\n",
    "            break\n",
    "\n",
    "    # Phase 2: Finding the entrance to the cycle\n",
    "    slow = nums[0]\n",
    "    while slow != fast:\n",
    "        slow = nums[slow]\n",
    "        fast = nums[fast]\n",
    "\n",
    "    return slow\n",
    "\n",
    "# Sample test case\n",
    "print(findDuplicate([1,3,4,2,2]))  # Output: 2"
   ]
  },
  {
   "cell_type": "markdown",
   "id": "5e9a3676-125d-4bed-8f06-f3509c9679af",
   "metadata": {},
   "source": [
    "### 3. [Counting Bits](https://leetcode.com/problems/counting-bits/)\n",
    "**Difficulty**: Easy  \n",
    "**Time**: 15 mins  \n",
    "\n",
    "#### Problem Statement:\n",
    "Given an integer `n`, return an array of the number of 1-bits in the binary representation of all numbers in the range `[0, n]`.\n",
    "\n",
    "#### Sample Input:\n",
    "```plaintext\n",
    "n = 5\n",
    "```\n",
    "\n",
    "#### Sample Output:\n",
    "```plaintext\n",
    "[0, 1, 1, 2, 1, 2]\n",
    "```"
   ]
  },
  {
   "cell_type": "code",
   "execution_count": 3,
   "id": "dc6a089c-38c1-4e3a-a8b7-e72ebf206503",
   "metadata": {},
   "outputs": [
    {
     "name": "stdout",
     "output_type": "stream",
     "text": [
      "[0, 1, 1, 2, 1, 2]\n"
     ]
    }
   ],
   "source": [
    "def countBits(n: int):\n",
    "    dp = [0] * (n + 1)  # Initialize DP array\n",
    "\n",
    "    for i in range(1, n + 1):\n",
    "        # i >> 1 is i // 2, thus inheriting the count of bits from previous power of two\n",
    "        dp[i] = dp[i >> 1] + (i & 1)\n",
    "\n",
    "    return dp\n",
    "\n",
    "# Sample test case\n",
    "print(countBits(5))  # Output: [0, 1, 1, 2, 1, 2]"
   ]
  },
  {
   "cell_type": "markdown",
   "id": "557561f6-f474-4e1c-8aa2-b6db3715f5db",
   "metadata": {},
   "source": [
    "### 4. [Number of 1 Bits](https://leetcode.com/problems/number-of-1-bits/)\n",
    "**Difficulty**: Easy  \n",
    "**Time**: 15 mins  \n",
    "\n",
    "#### Problem Statement:\n",
    "Write a function that takes an integer `n` and returns the number of `1` bits it has.\n",
    "\n",
    "#### Sample Input:\n",
    "```plaintext\n",
    "n = 00000000000000000000000000001011\n",
    "```\n",
    "\n",
    "#### Sample Output:\n",
    "```plaintext\n",
    "3\n",
    "```"
   ]
  },
  {
   "cell_type": "code",
   "execution_count": 4,
   "id": "b543bf3c-6140-4874-9754-8483ded74a59",
   "metadata": {},
   "outputs": [
    {
     "name": "stdout",
     "output_type": "stream",
     "text": [
      "3\n"
     ]
    }
   ],
   "source": [
    "def hammingWeight(n: int) -> int:\n",
    "    count = 0\n",
    "    while n:\n",
    "        # Increment count if the last bit is 1\n",
    "        count += n & 1\n",
    "        # Right shift n to check the next bit\n",
    "        n >>= 1\n",
    "    return count\n",
    "\n",
    "# Sample test case\n",
    "print(hammingWeight(11))  # Output: 3 (binary of 11 is 1011)"
   ]
  },
  {
   "cell_type": "markdown",
   "id": "f774a960-e08c-46d4-a273-7cc9756adc5c",
   "metadata": {},
   "source": [
    "### 5. [Single Number](https://leetcode.com/problems/single-number/)\n",
    "**Difficulty**: Easy  \n",
    "**Time**: 15 mins  \n",
    "\n",
    "#### Problem Statement:\n",
    "Given a non-empty array of integers, every element appears twice except for one. Find that single one.\n",
    "\n",
    "#### Sample Input:\n",
    "```plaintext\n",
    "nums = [2, 2, 1]\n",
    "```\n",
    "\n",
    "#### Sample Output:\n",
    "```plaintext\n",
    "1\n",
    "```"
   ]
  },
  {
   "cell_type": "code",
   "execution_count": 5,
   "id": "9d3ccbc8-2da8-4c63-a967-db5494edebff",
   "metadata": {},
   "outputs": [
    {
     "name": "stdout",
     "output_type": "stream",
     "text": [
      "4\n"
     ]
    }
   ],
   "source": [
    "def singleNumber(nums) -> int:\n",
    "    result = 0\n",
    "\n",
    "    for num in nums:\n",
    "        # XOR operation will cancel out same numbers\n",
    "        result ^= num\n",
    "\n",
    "    return result\n",
    "\n",
    "# Sample test case\n",
    "print(singleNumber([4,1,2,1,2]))  # Output: 4"
   ]
  },
  {
   "cell_type": "markdown",
   "id": "bb2194d1-c829-4278-80f1-c1564d770f87",
   "metadata": {},
   "source": [
    "### 6. [Missing Number](https://leetcode.com/problems/missing-number/)\n",
    "**Difficulty**: Easy  \n",
    "**Time**: 15 mins  \n",
    "\n",
    "#### Problem Statement:\n",
    "Given an array containing `n` distinct numbers taken from the range `[0, n]`, find the one that is missing from the array.\n",
    "\n",
    "#### Sample Input:\n",
    "```plaintext\n",
    "nums = [3, 0, 1]\n",
    "```\n",
    "\n",
    "#### Sample Output:\n",
    "```plaintext\n",
    "2\n",
    "```"
   ]
  },
  {
   "cell_type": "code",
   "execution_count": 6,
   "id": "d3ba9e33-b83d-458e-be87-153d7d9e7e23",
   "metadata": {},
   "outputs": [
    {
     "name": "stdout",
     "output_type": "stream",
     "text": [
      "2\n"
     ]
    }
   ],
   "source": [
    "def missingNumber(nums) -> int:\n",
    "    n = len(nums)\n",
    "    # Sum of first n natural numbers\n",
    "    total = n * (n + 1) // 2\n",
    "    # Subtract the sum of the array from the total to find the missing number\n",
    "    return total - sum(nums)\n",
    "\n",
    "# Sample test case\n",
    "print(missingNumber([3, 0, 1]))  # Output: 2"
   ]
  },
  {
   "cell_type": "markdown",
   "id": "f3cfac32-087a-4459-b374-3caa25fe615b",
   "metadata": {},
   "source": [
    "### 7. [Reverse Bits](https://leetcode.com/problems/reverse-bits/)\n",
    "**Difficulty**: Easy  \n",
    "**Time**: 15 mins  \n",
    "\n",
    "#### Problem Statement:\n",
    "Reverse bits of a given 32 bits unsigned integer.\n",
    "\n",
    "#### Sample Input:\n",
    "```plaintext\n",
    "n = 43261596\n",
    "```\n",
    "\n",
    "#### Sample Output:\n",
    "```plaintext\n",
    "964176192\n",
    "```"
   ]
  },
  {
   "cell_type": "code",
   "execution_count": 7,
   "id": "4a378a24-c0d0-437a-825d-94bff725fb3d",
   "metadata": {},
   "outputs": [
    {
     "name": "stdout",
     "output_type": "stream",
     "text": [
      "964176192\n"
     ]
    }
   ],
   "source": [
    "def reverseBits(n: int) -> int:\n",
    "    result = 0\n",
    "    for i in range(32):\n",
    "        # Shift result to make room for the next bit\n",
    "        result <<= 1\n",
    "        # Append the last bit of n to result\n",
    "        result |= n & 1\n",
    "        # Shift n to the right to process the next bit\n",
    "        n >>= 1\n",
    "    return result\n",
    "\n",
    "# Sample test case\n",
    "print(reverseBits(43261596))  # Output: 964176192 (binary representation: 10100101000001111010011100 reversed: 00111001011110000010100101000000)"
   ]
  }
 ],
 "metadata": {
  "kernelspec": {
   "display_name": "Python 3 (ipykernel)",
   "language": "python",
   "name": "python3"
  },
  "language_info": {
   "codemirror_mode": {
    "name": "ipython",
    "version": 3
   },
   "file_extension": ".py",
   "mimetype": "text/x-python",
   "name": "python",
   "nbconvert_exporter": "python",
   "pygments_lexer": "ipython3",
   "version": "3.11.7"
  },
  "widgets": {
   "application/vnd.jupyter.widget-state+json": {
    "state": {},
    "version_major": 2,
    "version_minor": 0
   }
  }
 },
 "nbformat": 4,
 "nbformat_minor": 5
}
