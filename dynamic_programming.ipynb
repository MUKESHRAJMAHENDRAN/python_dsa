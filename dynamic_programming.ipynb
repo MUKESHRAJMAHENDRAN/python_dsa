{
 "cells": [
  {
   "cell_type": "markdown",
   "id": "eb605ebc-103f-4fae-9ecc-0587d422f631",
   "metadata": {},
   "source": [
    "### 1. [Maximum Subarray](https://leetcode.com/problems/maximum-subarray/)\n",
    "**Problem Statement**:  \n",
    "Given an integer array `nums`, find the contiguous subarray (containing at least one number) which has the largest sum and return its sum.\n",
    "\n",
    "**Sample Input**:  \n",
    "```text\n",
    "nums = [-2,1,-3,4,-1,2,1,-5,4]\n",
    "```\n",
    "\n",
    "**Sample Output**:  \n",
    "```text\n",
    "6\n",
    "```"
   ]
  },
  {
   "cell_type": "code",
   "execution_count": 1,
   "id": "d0f5de8f-85b9-4829-80bb-d701b1f59c40",
   "metadata": {},
   "outputs": [
    {
     "name": "stdout",
     "output_type": "stream",
     "text": [
      "6\n"
     ]
    }
   ],
   "source": [
    "def max_subarray(nums):\n",
    "    # Initialize our variables using the first element.\n",
    "    current_subarray = max_subarray = nums[0]\n",
    "\n",
    "    # Start with the 2nd element since we already used the first one.\n",
    "    for num in nums[1:]:\n",
    "        # If current_subarray is negative, it will decrease the overall sum.\n",
    "        # So we start a new subarray with the current element.\n",
    "        # Otherwise, add the current element to current_subarray.\n",
    "        current_subarray = max(num, current_subarray + num)\n",
    "\n",
    "        # Update max_subarray if found a new max\n",
    "        max_subarray = max(max_subarray, current_subarray)\n",
    "\n",
    "    return max_subarray\n",
    "\n",
    "# Sample test case to check the function\n",
    "print(max_subarray([-2, 1, -3, 4, -1, 2, 1, -5, 4]))  # Output: 6, [4,-1,2,1] has the largest sum"
   ]
  },
  {
   "cell_type": "markdown",
   "id": "c608e359-f636-489e-8318-4264c553b37d",
   "metadata": {},
   "source": [
    "### 2. [Coin Change](https://leetcode.com/problems/coin-change/)\n",
    "**Problem Statement**:  \n",
    "You are given an integer array `coins` representing coins of different denominations and an integer `amount` representing a total amount of money. You want to compute the fewest number of coins that you need to make up that amount. If that amount of money cannot be made up by any combination of the coins, return `-1`.\n",
    "\n",
    "**Sample Input**:  \n",
    "```text\n",
    "coins = [1, 2, 5], amount = 11\n",
    "```\n",
    "\n",
    "**Sample Output**:  \n",
    "```text\n",
    "3\n",
    "```"
   ]
  },
  {
   "cell_type": "code",
   "execution_count": 2,
   "id": "97c20ef9-45f1-4786-accb-1e31ecbd9610",
   "metadata": {},
   "outputs": [
    {
     "name": "stdout",
     "output_type": "stream",
     "text": [
      "3\n"
     ]
    }
   ],
   "source": [
    "def coin_change(coins, amount):\n",
    "    # Initialize the DP array with amount+1 (which is an impossible count)\n",
    "    dp = [float('inf')] * (amount + 1)\n",
    "    dp[0] = 0\n",
    "\n",
    "    # For each coin, compute the minimum coins needed for all amounts up to `amount`\n",
    "    for coin in coins:\n",
    "        for x in range(coin, amount + 1):\n",
    "            dp[x] = min(dp[x], dp[x - coin] + 1)\n",
    "\n",
    "    # Return the result stored at `amount`, if it's inf, return -1\n",
    "    return dp[amount] if dp[amount] != float('inf') else -1\n",
    "\n",
    "# Sample test case to check the function\n",
    "print(coin_change([1, 2, 5], 11))  # Output: 3, 11 can be made with [5, 5, 1]"
   ]
  },
  {
   "cell_type": "markdown",
   "id": "d5d34bbc-6cb2-4355-bc3c-9182ac113f09",
   "metadata": {},
   "source": [
    "### 3. [Climbing Stairs](https://leetcode.com/problems/climbing-stairs/)\n",
    "**Problem Statement**:  \n",
    "You are climbing a staircase. It takes `n` steps to reach the top. Each time you can either climb `1` or `2` steps. In how many distinct ways can you reach the top?\n",
    "\n",
    "**Sample Input**:  \n",
    "```text\n",
    "n = 3`\n",
    "```\n",
    "\n",
    "**Sample Output**:  \n",
    "```text\n",
    "3\n",
    "```"
   ]
  },
  {
   "cell_type": "code",
   "execution_count": 3,
   "id": "75272bc9-1e2b-4ef4-8c49-45b5e550363c",
   "metadata": {},
   "outputs": [
    {
     "name": "stdout",
     "output_type": "stream",
     "text": [
      "5\n"
     ]
    }
   ],
   "source": [
    "def climb_stairs(n):\n",
    "    if n <= 2: \n",
    "        return n\n",
    "    dp = [0] * (n + 1)\n",
    "    # There's one way to climb 1 stair and two ways to climb 2 stairs\n",
    "    dp[1], dp[2] = 1, 2\n",
    "\n",
    "    # Fill the dp array\n",
    "    for i in range(3, n + 1):\n",
    "        dp[i] = dp[i - 1] + dp[i - 2]\n",
    "\n",
    "    return dp[n]\n",
    "\n",
    "# Sample test case to check the function\n",
    "print(climb_stairs(4))  # Output: 5, [1 1 1 1], [2 1 1], [1 2 1], [1 1 2], [2 2]"
   ]
  },
  {
   "cell_type": "markdown",
   "id": "4275f723-1e0b-41aa-a4ac-064db18d968f",
   "metadata": {},
   "source": [
    "### 4. [Partition Equal Subset Sum](https://leetcode.com/problems/partition-equal-subset-sum/)\n",
    "**Problem Statement**:  \n",
    "Given a list of integers `nums`, return true if you can partition the array into two subsets such that the sum of the elements in both subsets is the same.\n",
    "\n",
    "**Sample Input**:  \n",
    "```text\n",
    "nums = [1, 5, 11, 5]\n",
    "```\n",
    "\n",
    "**Sample Output**:  \n",
    "```text\n",
    "true\n",
    "```"
   ]
  },
  {
   "cell_type": "code",
   "execution_count": 4,
   "id": "3a86ff91-4eae-4976-a292-a46417578852",
   "metadata": {},
   "outputs": [
    {
     "name": "stdout",
     "output_type": "stream",
     "text": [
      "True\n"
     ]
    }
   ],
   "source": [
    "def can_partition(nums):\n",
    "    total_sum = sum(nums)\n",
    "    # If total_sum is odd, it's impossible to partition\n",
    "    if total_sum % 2 != 0:\n",
    "        return False\n",
    "\n",
    "    target = total_sum // 2\n",
    "    n = len(nums)\n",
    "\n",
    "    dp = [False] * (target + 1)\n",
    "    dp[0] = True\n",
    "\n",
    "    # Iterate over all numbers in nums\n",
    "    for num in nums:\n",
    "        # Update dp array in reverse to prevent overwriting results during the iteration\n",
    "        for j in range(target, num - 1, -1):\n",
    "            dp[j] = dp[j] or dp[j - num]\n",
    "\n",
    "    return dp[target]\n",
    "\n",
    "# Sample test case to check the function\n",
    "print(can_partition([1, 5, 11, 5]))  # Output: True, [1,5,5] and [11] are subsets with equal sum"
   ]
  },
  {
   "cell_type": "markdown",
   "id": "9d15fb71-d37b-4d04-a18c-872f73fa6520",
   "metadata": {},
   "source": [
    "### 5. [Unique Paths](https://leetcode.com/problems/unique-paths/)\n",
    "**Problem Statement**:  \n",
    "A robot is located at the top-left corner of a `m x n` grid. The robot can only move either down or right at any point in time. How many unique paths are there to reach the bottom-right corner?\n",
    "\n",
    "**Sample Input**:  \n",
    "```text\n",
    "m = 3, n = 7\n",
    "```\n",
    "\n",
    "**Sample Output**:  \n",
    "```text`\n",
    "28\n",
    "```"
   ]
  },
  {
   "cell_type": "code",
   "execution_count": 5,
   "id": "389c9374-18cd-4969-a60f-9a43ad0d96fb",
   "metadata": {},
   "outputs": [
    {
     "name": "stdout",
     "output_type": "stream",
     "text": [
      "28\n"
     ]
    }
   ],
   "source": [
    "def unique_paths(m, n):\n",
    "    # Create a 2D array filled with 1s\n",
    "    dp = [[1] * n for _ in range(m)]\n",
    "\n",
    "    # Fill the dp array\n",
    "    for i in range(1, m):\n",
    "        for j in range(1, n):\n",
    "            dp[i][j] = dp[i - 1][j] + dp[i][j - 1]\n",
    "\n",
    "    return dp[m - 1][n - 1]\n",
    "\n",
    "# Sample test case to check the function\n",
    "print(unique_paths(3, 7))  # Output: 28"
   ]
  },
  {
   "cell_type": "markdown",
   "id": "8d1b12d2-ab54-4725-b4fe-997cbbc151ae",
   "metadata": {},
   "source": [
    "### 6. [House Robber](https://leetcode.com/problems/house-robber/)\n",
    "**Problem Statement**:  \n",
    "You are a professional robber planning to rob houses along a street. Each house has a certain amount of money stashed, the only constraint stopping you from robbing each of them is that adjacent houses have security systems connected, and it will automatically contact the police if two adjacent houses were robbed on the same night.\n",
    "\n",
    "**Sample Input**:  \n",
    "```text\n",
    "nums = [2, 7, 9, 3, 1]\n",
    "```\n",
    "\n",
    "**Sample Output**:  \n",
    "```text\n",
    "12\n",
    "```"
   ]
  },
  {
   "cell_type": "code",
   "execution_count": 6,
   "id": "ffdad003-0d1a-4fb9-a6bd-20cc460b1276",
   "metadata": {},
   "outputs": [
    {
     "name": "stdout",
     "output_type": "stream",
     "text": [
      "12\n"
     ]
    }
   ],
   "source": [
    "def rob(nums):\n",
    "    if not nums:\n",
    "        return 0\n",
    "    if len(nums) == 1:\n",
    "        return nums[0]\n",
    "\n",
    "    # Initialize an array to store the maximum amount of money we can rob up to each house\n",
    "    dp = [0] * len(nums)\n",
    "\n",
    "    # Base cases\n",
    "    dp[0] = nums[0]\n",
    "    dp[1] = max(nums[0], nums[1])\n",
    "\n",
    "    # Fill in the dp array\n",
    "    for i in range(2, len(nums)):\n",
    "        # Either we take the current house and add it to the total up to two houses before,\n",
    "        # or we skip the current house and take the total up to the previous house\n",
    "        dp[i] = max(nums[i] + dp[i-2], dp[i-1])\n",
    "\n",
    "    # The last element contains the answer\n",
    "    return dp[-1]\n",
    "\n",
    "# Sample Test Case\n",
    "# Houses: [2, 7, 9, 3, 1]\n",
    "# Max Money: 12 (rob houses with money 2, 9, and 1)\n",
    "print(rob([2, 7, 9, 3, 1])) # Output: 12"
   ]
  },
  {
   "cell_type": "markdown",
   "id": "b9ce3c6a-097c-42f1-99e8-4da0e59685af",
   "metadata": {},
   "source": [
    "### 7. [Maximum Product Subarray](https://leetcode.com/problems/maximum-product-subarray/)\n",
    "**Problem Statement**:  \n",
    "Given an integer array `nums`, find the contiguous subarray (containing at least one number) which has the largest product and return its product.\n",
    "\n",
    "**Sample Input**:  \n",
    "```text\n",
    "nums = [2, 3, -2, 4]\n",
    "```\n",
    "\n",
    "**Sample Output**:  \n",
    "```text\n",
    "6\n",
    "```"
   ]
  },
  {
   "cell_type": "code",
   "execution_count": 7,
   "id": "c3f8b94a-e66e-4982-a5c0-fca0c3257c06",
   "metadata": {},
   "outputs": [
    {
     "name": "stdout",
     "output_type": "stream",
     "text": [
      "6\n"
     ]
    }
   ],
   "source": [
    "def maxProduct(nums):\n",
    "    if not nums:\n",
    "        return 0\n",
    "\n",
    "    # Initialize variables to store the maximum and minimum product up to the current number\n",
    "    max_so_far = min_so_far = result = nums[0]\n",
    "\n",
    "    for num in nums[1:]:\n",
    "        # If the current number is negative, the roles of max and min are swapped\n",
    "        if num < 0:\n",
    "            max_so_far, min_so_far = min_so_far, max_so_far\n",
    "\n",
    "        # Max/min product for the current number\n",
    "        max_so_far = max(num, max_so_far * num)\n",
    "        min_so_far = min(num, min_so_far * num)\n",
    "\n",
    "        # Update the result with the maximum product found so far\n",
    "        result = max(result, max_so_far)\n",
    "\n",
    "    return result\n",
    "\n",
    "# Sample Test Case\n",
    "# Subarray with max product is [2, 3], product is 6\n",
    "print(maxProduct([2, 3, -2, 4])) # Output: 6"
   ]
  },
  {
   "cell_type": "markdown",
   "id": "37ba3d2b-977e-41c1-8a3a-1a2015505453",
   "metadata": {},
   "source": [
    "### 8. [Longest Increasing Subsequence](https://leetcode.com/problems/longest-increasing-subsequence/)\n",
    "**Problem Statement**:  \n",
    "Given an integer array `nums`, return the length of the longest strictly increasing subsequence.\n",
    "\n",
    "**Sample Input**:  \n",
    "```text\n",
    "nums = [10, 9, 2, 5, 3, 7, 101, 18]\n",
    "```\n",
    "\n",
    "**Sample Output**:  \n",
    "```text\n",
    "4\n",
    "```"
   ]
  },
  {
   "cell_type": "code",
   "execution_count": 8,
   "id": "abedfd45-f074-4b45-aa22-db73264c1ee2",
   "metadata": {},
   "outputs": [
    {
     "name": "stdout",
     "output_type": "stream",
     "text": [
      "4\n"
     ]
    }
   ],
   "source": [
    "def lengthOfLIS(nums):\n",
    "    if not nums:\n",
    "        return 0\n",
    "\n",
    "    # dp array initialized to 1 because the min LIS ending at any position is 1\n",
    "    dp = [1] * len(nums)\n",
    "\n",
    "    # Fill dp array\n",
    "    for i in range(len(nums)):\n",
    "        for j in range(i):\n",
    "            if nums[i] > nums[j]:\n",
    "                dp[i] = max(dp[i], dp[j] + 1)\n",
    "\n",
    "    # The longest increasing subsequence is the maximum value in the dp array\n",
    "    return max(dp)\n",
    "\n",
    "# Sample Test Case\n",
    "# The LIS is [2, 3, 7, 101], length is 4\n",
    "print(lengthOfLIS([10, 9, 2, 5, 3, 7, 101, 18])) # Output: 4"
   ]
  },
  {
   "cell_type": "markdown",
   "id": "b9c9e705-5837-440c-aed9-bd9ad397daf7",
   "metadata": {},
   "source": [
    "### 9. [Jump Game](https://leetcode.com/problems/jump-game/)\n",
    "**Problem Statement**:  \n",
    "You are given an array of non-negative integers `nums`. Each element in the array represents your maximum jump length from that position. Determine if you can reach the last index.\n",
    "\n",
    "**Sample Input**:  \n",
    "```text\n",
    "nums = [2, 3, 1, 1, 4]\n",
    "```\n",
    "\n",
    "**Sample Output**:  \n",
    "```text\n",
    "true\n",
    "```"
   ]
  },
  {
   "cell_type": "code",
   "execution_count": 9,
   "id": "5e3594b5-8bc6-4a78-94ec-58f221d2cef8",
   "metadata": {},
   "outputs": [
    {
     "name": "stdout",
     "output_type": "stream",
     "text": [
      "True\n"
     ]
    }
   ],
   "source": [
    "def canJump(nums):\n",
    "    max_reachable = 0\n",
    "    for i, num in enumerate(nums):\n",
    "        # If the current position is not reachable, return False\n",
    "        if i > max_reachable:\n",
    "            return False\n",
    "        # Update max reachable position\n",
    "        max_reachable = max(max_reachable, i + num)\n",
    "        # If we reach or exceed the last index, return True\n",
    "        if max_reachable >= len(nums) - 1:\n",
    "            return True\n",
    "    return max_reachable >= len(nums) - 1\n",
    "\n",
    "# Sample Test Case\n",
    "# You can jump from index 0 to 1, and from index 1 to the last index (4)\n",
    "print(canJump([2, 3, 1, 1, 4])) # Output: True"
   ]
  },
  {
   "cell_type": "markdown",
   "id": "bbb9106a-ba6b-41a2-a930-1ce9ce7b1293",
   "metadata": {},
   "source": [
    "### 10. [Maximal Square](https://leetcode.com/problems/maximal-square/)\n",
    "**Problem Statement**:  \n",
    "Given a `m x n` binary matrix filled with `0`s and `1`s, find the largest square containing only `1`s and return its area.\n",
    "\n",
    "**Sample Input**:  \n",
    "```text\n",
    "matrix = [\n",
    "  [\"1\",\"0\",\"1\",\"0\",\"0\"],\n",
    "  [\"1\",\"0\",\"1\",\"1\",\"1\"],\n",
    "  [\"1\",\"1\",\"1\",\"1\",\"1\"],\n",
    "  [\"1\",\"0\",\"0\",\"1\",\"0\"]\n",
    "]\n",
    "```\n",
    "\n",
    "**Sample Output**:  \n",
    "```text\n",
    "4\n",
    "```"
   ]
  },
  {
   "cell_type": "code",
   "execution_count": 10,
   "id": "7d30edb9-4248-4371-bfc5-71ff915912bd",
   "metadata": {},
   "outputs": [
    {
     "name": "stdout",
     "output_type": "stream",
     "text": [
      "4\n"
     ]
    }
   ],
   "source": [
    "def maximalSquare(matrix):\n",
    "    if not matrix:\n",
    "        return 0\n",
    "\n",
    "    # Get dimensions of the matrix\n",
    "    rows, cols = len(matrix), len(matrix[0])\n",
    "    dp = [[0] * (cols + 1) for _ in range(rows + 1)]\n",
    "    max_side = 0\n",
    "\n",
    "    for i in range(1, rows + 1):\n",
    "        for j in range(1, cols + 1):\n",
    "            # If the current cell is '1', calculate the size of the square ending at this point\n",
    "            if matrix[i-1][j-1] == '1':\n",
    "                dp[i][j] = min(dp[i-1][j], dp[i][j-1], dp[i-1][j-1]) + 1\n",
    "                max_side = max(max_side, dp[i][j])\n",
    "\n",
    "    # Return the area of the largest square\n",
    "    return max_side * max_side\n",
    "\n",
    "# Sample Test Case\n",
    "# Maximal square has side length 2\n",
    "matrix = [\n",
    "    ['1', '0', '1', '0', '0'],\n",
    "    ['1', '0', '1', '1', '1'],\n",
    "    ['1', '1', '1', '1', '1'],\n",
    "    ['1', '0', '0', '1', '0']\n",
    "]\n",
    "print(maximalSquare(matrix)) # Output: 4"
   ]
  },
  {
   "cell_type": "markdown",
   "id": "c0c4fead-8dca-4178-b052-c68f9b7ecbe5",
   "metadata": {},
   "source": [
    "### 11. [Decode Ways](https://leetcode.com/problems/decode-ways/)\n",
    "**Problem Statement**:  \n",
    "A message containing letters from `A-Z` can be encoded into numbers using the following mapping:\n",
    "```\n",
    "'A' -> \"1\", 'B' -> \"2\", ..., 'Z' -> \"26\"\n",
    "```\n",
    "To decode an encoded message, all the digits must be grouped then decoded, where each group is a valid encoding of a letter. Given a string `s` consisting of digits, return the total number of ways to decode it.\n",
    "\n",
    "**Sample Input**:  \n",
    "```text\n",
    "s = \"226\"\n",
    "```\n",
    "\n",
    "**Sample Output**:  \n",
    "```text\n",
    "3\n",
    "```"
   ]
  },
  {
   "cell_type": "code",
   "execution_count": 11,
   "id": "46e08c56-8e60-4134-8498-adcaeb52caca",
   "metadata": {},
   "outputs": [
    {
     "name": "stdout",
     "output_type": "stream",
     "text": [
      "3\n"
     ]
    }
   ],
   "source": [
    "def numDecodings(s: str) -> int:\n",
    "    # If the string is empty or starts with '0', there are no valid decodings\n",
    "    if not s or s[0] == '0':\n",
    "        return 0\n",
    "\n",
    "    # Initialize dp array where dp[i] is the number of ways to decode s[:i]\n",
    "    dp = [0] * (len(s) + 1)\n",
    "\n",
    "    # Base cases\n",
    "    dp[0] = 1  # There's one way to decode an empty string\n",
    "    dp[1] = 1  # s[0] is guaranteed to be non-zero\n",
    "\n",
    "    # Fill the dp array\n",
    "    for i in range(2, len(s) + 1):\n",
    "        # Check if the last single digit is a valid number (1 to 9)\n",
    "        if 1 <= int(s[i-1:i]) <= 9:\n",
    "            dp[i] += dp[i - 1]\n",
    "\n",
    "        # Check if the last two digits form a valid number (10 to 26)\n",
    "        if 10 <= int(s[i-2:i]) <= 26:\n",
    "            dp[i] += dp[i - 2]\n",
    "\n",
    "    # Final result is stored in dp[len(s)]\n",
    "    return dp[len(s)]\n",
    "\n",
    "# Sample test case\n",
    "s = \"226\"\n",
    "print(numDecodings(s))  # Output: 3 (BZ, VF, BBF)"
   ]
  },
  {
   "cell_type": "code",
   "execution_count": null,
   "id": "8bd4182a-eaca-46f0-a22d-91aafd52d604",
   "metadata": {},
   "outputs": [],
   "source": []
  },
  {
   "cell_type": "markdown",
   "id": "836ebb16-9872-4240-9997-c28ae5078687",
   "metadata": {},
   "source": [
    "### 12. [Combination Sum IV](https://leetcode.com/problems/combination-sum-iv/)\n",
    "**Problem Statement**:  \n",
    "Given an integer array `nums` and an integer `target`, return the number of possible combinations that add up to `target`.\n",
    "\n",
    "**Sample Input**:  \n",
    "```text\n",
    "nums = [1, 2, 3], target = 4\n",
    "```\n",
    "\n",
    "**Sample Output**:  \n",
    "```text\n",
    "7\n",
    "```"
   ]
  },
  {
   "cell_type": "code",
   "execution_count": 12,
   "id": "175fa593-25fc-41ac-86aa-19f9d6b18338",
   "metadata": {},
   "outputs": [
    {
     "name": "stdout",
     "output_type": "stream",
     "text": [
      "7\n"
     ]
    }
   ],
   "source": [
    "def combinationSum4(nums: [int], target: int) -> int:\n",
    "    # Initialize dp array where dp[i] is the number of ways to get sum i\n",
    "    dp = [0] * (target + 1)\n",
    "\n",
    "    # Base case: there's one way to make sum 0, which is using no numbers\n",
    "    dp[0] = 1\n",
    "\n",
    "    # Fill the dp array by finding combinations for each sum from 1 to target\n",
    "    for current_target in range(1, target + 1):\n",
    "        for num in nums:\n",
    "            if current_target - num >= 0:\n",
    "                dp[current_target] += dp[current_target - num]\n",
    "\n",
    "    # Final result is stored in dp[target]\n",
    "    return dp[target]\n",
    "\n",
    "# Sample test case\n",
    "nums = [1, 2, 3]\n",
    "target = 4\n",
    "print(combinationSum4(nums, target))  # Output: 7 (Combination: [1,1,1,1], [1,1,2], [1,2,1], [2,1,1], [1,3], [3,1], [2,2])"
   ]
  }
 ],
 "metadata": {
  "kernelspec": {
   "display_name": "Python 3 (ipykernel)",
   "language": "python",
   "name": "python3"
  },
  "language_info": {
   "codemirror_mode": {
    "name": "ipython",
    "version": 3
   },
   "file_extension": ".py",
   "mimetype": "text/x-python",
   "name": "python",
   "nbconvert_exporter": "python",
   "pygments_lexer": "ipython3",
   "version": "3.11.7"
  },
  "widgets": {
   "application/vnd.jupyter.widget-state+json": {
    "state": {},
    "version_major": 2,
    "version_minor": 0
   }
  }
 },
 "nbformat": 4,
 "nbformat_minor": 5
}
