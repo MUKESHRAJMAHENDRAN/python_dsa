{
 "cells": [
  {
   "cell_type": "code",
   "execution_count": null,
   "id": "45199f02-521d-4c3c-a5f4-8ab88c6a2f5e",
   "metadata": {},
   "outputs": [],
   "source": []
  },
  {
   "cell_type": "code",
   "execution_count": null,
   "id": "d5da11ed-2144-4ed4-a7f4-3a897e087a3c",
   "metadata": {},
   "outputs": [],
   "source": []
  },
  {
   "cell_type": "code",
   "execution_count": null,
   "id": "4e2daf9e-aacf-48a4-8db1-224b91d1ac15",
   "metadata": {},
   "outputs": [],
   "source": []
  },
  {
   "cell_type": "code",
   "execution_count": null,
   "id": "a81c39d3-bb33-47f9-b3cc-7b7cf19575f4",
   "metadata": {},
   "outputs": [],
   "source": []
  },
  {
   "cell_type": "markdown",
   "id": "be09e02d-3635-447c-a7b5-9435d5389ef0",
   "metadata": {},
   "source": [
    "Please explain the problem statement and sample input and output leetcode editorial solution and one sample for test case for test give me everything in markdown(Add more comment on the code so i can undestand better)"
   ]
  },
  {
   "cell_type": "markdown",
   "id": "5d804fa3-a239-4266-a21c-6d5bcf69292e",
   "metadata": {},
   "source": [
    "please provide an leetcode editorial solution with more comment so i can understand better along one sample test case\n",
    "\n",
    "please provide problem statement, sample input and output in markdown cell format"
   ]
  },
  {
   "cell_type": "markdown",
   "id": "68f4a0f1-8d5f-4139-b2fb-1dfe26e2ea50",
   "metadata": {},
   "source": [
    "Make it as good markdown so i can understand better\n",
    "\n"
   ]
  },
  {
   "cell_type": "markdown",
   "id": "72eba6fd-7ebb-4f26-8829-2a4343845328",
   "metadata": {},
   "source": [
    "From the above problem give mt list of problem which is similiar kind so i can follow the pattern , This pattern helps in interview"
   ]
  },
  {
   "cell_type": "markdown",
   "id": "5ffc7e0b-09c5-4428-aa6a-e9399257660a",
   "metadata": {},
   "source": [
    "I am solving this problems in leetcode give me the order \n",
    "i should follow so i can find patterns(similiar kind of problems) so it easier \n",
    "for me understand \n",
    "the same technique for similiar problem and used in interviews"
   ]
  },
  {
   "cell_type": "code",
   "execution_count": null,
   "id": "7d2bfdf0-a306-402a-8ad1-e1dc00a3f4fc",
   "metadata": {},
   "outputs": [],
   "source": []
  }
 ],
 "metadata": {
  "kernelspec": {
   "display_name": "Python 3 (ipykernel)",
   "language": "python",
   "name": "python3"
  },
  "language_info": {
   "codemirror_mode": {
    "name": "ipython",
    "version": 3
   },
   "file_extension": ".py",
   "mimetype": "text/x-python",
   "name": "python",
   "nbconvert_exporter": "python",
   "pygments_lexer": "ipython3",
   "version": "3.11.7"
  },
  "widgets": {
   "application/vnd.jupyter.widget-state+json": {
    "state": {},
    "version_major": 2,
    "version_minor": 0
   }
  }
 },
 "nbformat": 4,
 "nbformat_minor": 5
}
