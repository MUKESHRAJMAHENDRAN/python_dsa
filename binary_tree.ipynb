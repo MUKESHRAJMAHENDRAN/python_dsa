{
 "cells": [
  {
   "cell_type": "markdown",
   "id": "433b6be5-5197-43ba-95c6-4263e3e6ffcd",
   "metadata": {},
   "source": [
    "### 1. [Maximum Depth of Binary Tree](https://leetcode.com/problems/maximum-depth-of-binary-tree/)\n",
    "**Problem Statement:**  \n",
    "Given the `root` of a binary tree, return its maximum depth. A binary tree's maximum depth is the number of nodes along the longest path from the root node down to the farthest leaf node.\n",
    "\n",
    "**Sample Input:**  \n",
    "```\n",
    "Input: root = [3,9,20,null,null,15,7]\n",
    "```\n",
    "\n",
    "**Sample Output:**  \n",
    "```\n",
    "Output: 3\n",
    "```"
   ]
  },
  {
   "cell_type": "code",
   "execution_count": 1,
   "id": "3755e8c7-c78e-4b4e-92d3-49af2b356054",
   "metadata": {},
   "outputs": [
    {
     "name": "stdout",
     "output_type": "stream",
     "text": [
      "3\n"
     ]
    }
   ],
   "source": [
    "class TreeNode:\n",
    "    def __init__(self, val=0, left=None, right=None):\n",
    "        self.val = val\n",
    "        self.left = left\n",
    "        self.right = right\n",
    "\n",
    "class Solution:\n",
    "    def maxDepth(self, root: TreeNode) -> int:\n",
    "        # Base case: If the tree is empty, the depth is 0\n",
    "        if not root:\n",
    "            return 0\n",
    "        \n",
    "        # Recursively find the maximum depth of the left and right subtrees\n",
    "        left_depth = self.maxDepth(root.left)\n",
    "        right_depth = self.maxDepth(root.right)\n",
    "        \n",
    "        # Return the greater of the two depths +1 (for the current root node)\n",
    "        return 1 + max(left_depth, right_depth)\n",
    "\n",
    "# Sample Test Case\n",
    "root = TreeNode(3)\n",
    "root.left = TreeNode(9)\n",
    "root.right = TreeNode(20, TreeNode(15), TreeNode(7))\n",
    "\n",
    "solution = Solution()\n",
    "print(solution.maxDepth(root))  # Expected Output: 3\n"
   ]
  },
  {
   "cell_type": "markdown",
   "id": "919f085d-d038-46fb-aab9-c62adb5fea03",
   "metadata": {},
   "source": [
    "### 2. [Same Tree](https://leetcode.com/problems/same-tree/)\n",
    "**Problem Statement:**  \n",
    "Given the roots of two binary trees `p` and `q`, write a function to check if they are the same or not. Two binary trees are considered the same if they are structurally identical, and the nodes have the same value.\n",
    "\n",
    "**Sample Input:**  \n",
    "```\n",
    "Input: p = [1,2,3], q = [1,2,3]\n",
    "```\n",
    "\n",
    "**Sample Output:**  \n",
    "```\n",
    "Output: true\n",
    "```"
   ]
  },
  {
   "cell_type": "code",
   "execution_count": 2,
   "id": "ab645e44-1571-4641-a769-bf6207e4d0ad",
   "metadata": {},
   "outputs": [
    {
     "name": "stdout",
     "output_type": "stream",
     "text": [
      "True\n"
     ]
    }
   ],
   "source": [
    "class Solution:\n",
    "    def isSameTree(self, p: TreeNode, q: TreeNode) -> bool:\n",
    "        # Base case: If both trees are None, they are the same\n",
    "        if not p and not q:\n",
    "            return True\n",
    "        \n",
    "        # If only one of them is None or their values differ, they are not the same\n",
    "        if not p or not q or p.val != q.val:\n",
    "            return False\n",
    "        \n",
    "        # Recursively check the left and right subtrees\n",
    "        return self.isSameTree(p.left, q.left) and self.isSameTree(p.right, q.right)\n",
    "\n",
    "# Sample Test Case\n",
    "p = TreeNode(1, TreeNode(2), TreeNode(3))\n",
    "q = TreeNode(1, TreeNode(2), TreeNode(3))\n",
    "\n",
    "solution = Solution()\n",
    "print(solution.isSameTree(p, q))  # Expected Output: True\n"
   ]
  },
  {
   "cell_type": "markdown",
   "id": "3faf2ea2-89c3-42dd-a722-060d2e7adaf6",
   "metadata": {},
   "source": [
    "### 3. [Symmetric Tree](https://leetcode.com/problems/symmetric-tree/)\n",
    "**Problem Statement:**  \n",
    "Given the `root` of a binary tree, check whether it is a mirror of itself (i.e., symmetric around its center).\n",
    "\n",
    "**Sample Input:**  \n",
    "```\n",
    "Input: root = [1,2,2,3,4,4,3]\n",
    "```\n",
    "6\n",
    "**Sample Output:**  \n",
    "```\n",
    "Output: true\n",
    "```"
   ]
  },
  {
   "cell_type": "code",
   "execution_count": 3,
   "id": "3cf45235-7d53-4152-a6d5-96edbe707052",
   "metadata": {},
   "outputs": [
    {
     "name": "stdout",
     "output_type": "stream",
     "text": [
      "True\n"
     ]
    }
   ],
   "source": [
    "class Solution:\n",
    "    def isSymmetric(self, root: TreeNode) -> bool:\n",
    "        # Helper function to check if two subtrees are mirror images\n",
    "        def isMirror(t1: TreeNode, t2: TreeNode) -> bool:\n",
    "            # Both are None: symmetric\n",
    "            if not t1 and not t2:\n",
    "                return True\n",
    "            \n",
    "            # Only one is None or values differ: not symmetric\n",
    "            if not t1 or not t2 or t1.val != t2.val:\n",
    "                return False\n",
    "            \n",
    "            # Check if the left subtree of t1 is a mirror of the right subtree of t2 and vice versa\n",
    "            return isMirror(t1.left, t2.right) and isMirror(t1.right, t2.left)\n",
    "        \n",
    "        # The tree is symmetric if its left and right subtrees are mirrors\n",
    "        return isMirror(root, root)\n",
    "\n",
    "# Sample Test Case\n",
    "root = TreeNode(1, TreeNode(2, TreeNode(3), TreeNode(4)), TreeNode(2, TreeNode(4), TreeNode(3)))\n",
    "\n",
    "solution = Solution()\n",
    "print(solution.isSymmetric(root))  # Expected Output: True\n"
   ]
  },
  {
   "cell_type": "markdown",
   "id": "a1da7a25-f113-4481-af66-8e77f9d68b09",
   "metadata": {},
   "source": [
    "### 4. [Invert Binary Tree](https://leetcode.com/problems/invert-binary-tree/)\n",
    "**Problem Statement:**  \n",
    "Given the `root` of a binary tree, invert the tree, and return its root. Inverting a tree means swapping the left and right child of every node in the tree.\n",
    "\n",
    "**Sample Input:**  \n",
    "```\n",
    "Input: root = [4,2,7,1,3,6,9]\n",
    "```\n",
    "\n",
    "**Sample Output:**  \n",
    "```\n",
    "Output: [4,7,2,9,6,3,1]\n",
    "```"
   ]
  },
  {
   "cell_type": "code",
   "execution_count": 5,
   "id": "d53e2b18-37c4-44cd-9a23-8fbe68ecf7d6",
   "metadata": {},
   "outputs": [],
   "source": [
    "class Solution:\n",
    "    def invertTree(self, root: TreeNode) -> TreeNode:\n",
    "        # Base case: If the tree is empty, return None\n",
    "        if not root:\n",
    "            return None\n",
    "        \n",
    "        # Swap the left and right children\n",
    "        root.left, root.right = root.right, root.left\n",
    "        \n",
    "        # Recursively invert the left and right subtrees\n",
    "        self.invertTree(root.left)\n",
    "        self.invertTree(root.right)\n",
    "        \n",
    "        return root\n",
    "\n",
    "# Sample Test Case\n",
    "root = TreeNode(4, TreeNode(2, TreeNode(1), TreeNode(3)), TreeNode(7, TreeNode(6), TreeNode(9)))\n",
    "\n",
    "solution = Solution()\n",
    "inverted_root = solution.invertTree(root)\n",
    "# Expected Output: Tree with root -> 4, left -> 7, right -> 2\n"
   ]
  },
  {
   "cell_type": "markdown",
   "id": "b9c94337-09c7-4728-b10a-485d2e56cad1",
   "metadata": {},
   "source": [
    "### 5. [Balanced Binary Tree](https://leetcode.com/problems/balanced-binary-tree/)\n",
    "**Problem Statement:**  \n",
    "Given a binary tree, determine if it is height-balanced. A binary tree is balanced if the left and right subtrees of every node differ in height by no more than 1.\n",
    "\n",
    "**Sample Input:**  \n",
    "```\n",
    "Input: root = [3,9,20,null,null,15,7]\n",
    "```\n",
    "\n",
    "**Sample Output:**  \n",
    "```\n",
    "Output: true\n",
    "```"
   ]
  },
  {
   "cell_type": "code",
   "execution_count": 6,
   "id": "9d9027d0-6669-4165-9fd6-26d627a8cf8b",
   "metadata": {},
   "outputs": [
    {
     "name": "stdout",
     "output_type": "stream",
     "text": [
      "True\n"
     ]
    }
   ],
   "source": [
    "class Solution:\n",
    "    def isBalanced(self, root: TreeNode) -> bool:\n",
    "        # Helper function to calculate height and check balance\n",
    "        def checkHeight(node: TreeNode) -> int:\n",
    "            if not node:\n",
    "                return 0  # Height of an empty tree is 0\n",
    "            \n",
    "            # Recursively calculate heights of left and right subtrees\n",
    "            left_height = checkHeight(node.left)\n",
    "            right_height = checkHeight(node.right)\n",
    "            \n",
    "            # If either subtree is unbalanced, propagate -1 upward\n",
    "            if left_height == -1 or right_height == -1 or abs(left_height - right_height) > 1:\n",
    "                return -1\n",
    "            \n",
    "            # Return the height of the current node\n",
    "            return 1 + max(left_height, right_height)\n",
    "        \n",
    "        # The tree is balanced if checkHeight doesn't return -1\n",
    "        return checkHeight(root) != -1\n",
    "\n",
    "# Sample Test Case\n",
    "root = TreeNode(3, TreeNode(9), TreeNode(20, TreeNode(15), TreeNode(7)))\n",
    "\n",
    "solution = Solution()\n",
    "print(solution.isBalanced(root))  # Expected Output: True\n"
   ]
  },
  {
   "cell_type": "markdown",
   "id": "26eec386-f1fa-4e29-b3a4-222f341a34e9",
   "metadata": {},
   "source": [
    "### [6. Binary Tree Level Order Traversal](https://leetcode.com/problems/binary-tree-level-order-traversal/)\n",
    "\n",
    "**Problem Statement:**  \n",
    "Given the `root` of a binary tree, return the level order traversal of its nodes' values.  \n",
    "(i.e., from left to right, level by level).\n",
    "\n",
    "**Sample Input:**  \n",
    "```\n",
    "root = [3, 9, 20, null, null, 15, 7]\n",
    "```\n",
    "\n",
    "**Sample Output:**  \n",
    "```\n",
    "[[3], [9, 20], [15, 7]]\n",
    "```"
   ]
  },
  {
   "cell_type": "code",
   "execution_count": 9,
   "id": "f27261cc-f1d0-4ecf-aa0c-daf021a9251d",
   "metadata": {},
   "outputs": [
    {
     "name": "stdout",
     "output_type": "stream",
     "text": [
      "[[3], [9, 20], [15, 7]]\n"
     ]
    }
   ],
   "source": [
    "from collections import deque\n",
    "\n",
    "class TreeNode:\n",
    "    def __init__(self, val=0, left=None, right=None):\n",
    "        self.val = val\n",
    "        self.left = left\n",
    "        self.right = right\n",
    "\n",
    "def levelOrder(root):\n",
    "    if not root:\n",
    "        return []  # Return an empty list if the tree is empty\n",
    "    \n",
    "    result = []  # To store the final level order traversal\n",
    "    queue = deque([root])  # Initialize a queue with the root node\n",
    "    \n",
    "    while queue:\n",
    "        level = []  # List to store nodes at the current level\n",
    "        for _ in range(len(queue)):\n",
    "            node = queue.popleft()  # Remove the front node from the queue\n",
    "            level.append(node.val)  # Add the node's value to the current level\n",
    "            if node.left:\n",
    "                queue.append(node.left)  # Add the left child to the queue\n",
    "            if node.right:\n",
    "                queue.append(node.right)  # Add the right child to the queue\n",
    "        result.append(level)  # Add the current level to the result\n",
    "    \n",
    "    return result\n",
    "\n",
    "# Test Case\n",
    "# Constructing the tree: \n",
    "#         3\n",
    "#        / \\\n",
    "#       9   20\n",
    "#           /  \\\n",
    "#          15   7\n",
    "root = TreeNode(3)\n",
    "root.left = TreeNode(9)\n",
    "root.right = TreeNode(20, TreeNode(15), TreeNode(7))\n",
    "print(levelOrder(root))  # Output: [[3], [9, 20], [15, 7]]\n"
   ]
  },
  {
   "cell_type": "markdown",
   "id": "bf84dcda-0729-4ac6-9519-decc3ee45e4f",
   "metadata": {},
   "source": [
    "### [7. Binary Tree Zigzag Level Order Traversal](https://leetcode.com/problems/binary-tree-zigzag-level-order-traversal/)\n",
    "\n",
    "**Problem Statement:**  \n",
    "Given the `root` of a binary tree, return the zigzag level order traversal of its nodes' values.  \n",
    "(i.e., from left to right, then right to left for the next level and alternate between).\n",
    "\n",
    "**Sample Input:**  \n",
    "```\n",
    "root = [3, 9, 20, null, null, 15, 7]\n",
    "```\n",
    "\n",
    "**Sample Output:**  \n",
    "```\n",
    "[[3], [20, 9], [15, 7]]\n",
    "```"
   ]
  },
  {
   "cell_type": "code",
   "execution_count": 10,
   "id": "c7212b69-324a-4022-bdf7-cdb956dac44e",
   "metadata": {},
   "outputs": [
    {
     "name": "stdout",
     "output_type": "stream",
     "text": [
      "[[1], [3, 2], [4, 5, 6]]\n"
     ]
    }
   ],
   "source": [
    "from collections import deque\n",
    "\n",
    "def zigzagLevelOrder(root):\n",
    "    if not root:\n",
    "        return []\n",
    "    \n",
    "    result = []\n",
    "    queue = deque([root])\n",
    "    left_to_right = True  # Direction toggle\n",
    "    \n",
    "    while queue:\n",
    "        level = deque()  # Use deque to support appending on either side\n",
    "        for _ in range(len(queue)):\n",
    "            node = queue.popleft()\n",
    "            if left_to_right:\n",
    "                level.append(node.val)  # Append to the right\n",
    "            else:\n",
    "                level.appendleft(node.val)  # Append to the left\n",
    "            \n",
    "            if node.left:\n",
    "                queue.append(node.left)\n",
    "            if node.right:\n",
    "                queue.append(node.right)\n",
    "        \n",
    "        result.append(list(level))\n",
    "        left_to_right = not left_to_right  # Toggle the direction\n",
    "    \n",
    "    return result\n",
    "\n",
    "# Test Case\n",
    "# Constructing the tree: \n",
    "#         1\n",
    "#        / \\\n",
    "#       2   3\n",
    "#      / \\   \\\n",
    "#     4   5   6\n",
    "root = TreeNode(1)\n",
    "root.left = TreeNode(2, TreeNode(4), TreeNode(5))\n",
    "root.right = TreeNode(3, None, TreeNode(6))\n",
    "print(zigzagLevelOrder(root))  # Output: [[1], [3, 2], [4, 5, 6]]\n"
   ]
  },
  {
   "cell_type": "markdown",
   "id": "34b42207-fa80-4a33-9c37-b259e1d73af4",
   "metadata": {},
   "source": [
    "### [8. Binary Tree Right Side View](https://leetcode.com/problems/binary-tree-right-side-view/)\n",
    "\n",
    "**Problem Statement:**  \n",
    "Given the `root` of a binary tree, imagine yourself standing on the right side of it.  \n",
    "Return the values of the nodes you can see ordered from top to bottom.\n",
    "\n",
    "**Sample Input:**  \n",
    "```\n",
    "root = [1, 2, 3, null, 5, null, 4]\n",
    "```\n",
    "\n",
    "**Sample Output:**  \n",
    "```\n",
    "[1, 3, 4]\n",
    "```"
   ]
  },
  {
   "cell_type": "code",
   "execution_count": 11,
   "id": "55177a24-6837-4b8d-86d3-0e0f715704e6",
   "metadata": {},
   "outputs": [
    {
     "name": "stdout",
     "output_type": "stream",
     "text": [
      "[1, 3, 4]\n"
     ]
    }
   ],
   "source": [
    "def rightSideView(root):\n",
    "    if not root:\n",
    "        return []\n",
    "    \n",
    "    result = []\n",
    "    queue = deque([root])\n",
    "    \n",
    "    while queue:\n",
    "        for i in range(len(queue)):\n",
    "            node = queue.popleft()\n",
    "            if i == 0:  # Capture the rightmost element of this level\n",
    "                result.append(node.val)\n",
    "            if node.right:\n",
    "                queue.append(node.right)\n",
    "            if node.left:\n",
    "                queue.append(node.left)\n",
    "    \n",
    "    return result\n",
    "\n",
    "# Test Case\n",
    "# Constructing the tree:\n",
    "#         1\n",
    "#        / \\\n",
    "#       2   3\n",
    "#        \\   \\\n",
    "#         5   4\n",
    "root = TreeNode(1)\n",
    "root.left = TreeNode(2, None, TreeNode(5))\n",
    "root.right = TreeNode(3, None, TreeNode(4))\n",
    "print(rightSideView(root))  # Output: [1, 3, 4]\n"
   ]
  },
  {
   "cell_type": "markdown",
   "id": "a505d093-1845-43a5-b648-f6bdffc0ba56",
   "metadata": {},
   "source": [
    "### [9. Path Sum II](https://leetcode.com/problems/path-sum-ii/)\n",
    "\n",
    "**Problem Statement:**  \n",
    "Given the `root` of a binary tree and an integer `targetSum`, return all root-to-leaf paths where each path's sum equals `targetSum`.  \n",
    "A leaf is a node with no children.\n",
    "\n",
    "**Sample Input:**  \n",
    "```\n",
    "root = [5, 4, 8, 11, null, 13, 4, 7, 2, null, null, 5, 1]\n",
    "targetSum = 22\n",
    "```\n",
    "\n",
    "**Sample Output:**  \n",
    "```\n",
    "[[5, 4, 11, 2], [5, 8, 4, 5]]\n",
    "```"
   ]
  },
  {
   "cell_type": "code",
   "execution_count": 13,
   "id": "9e6fd1b4-7aea-4ac3-a59e-03010046c7cb",
   "metadata": {},
   "outputs": [
    {
     "name": "stdout",
     "output_type": "stream",
     "text": [
      "[[5, 4, 11, 2], [5, 8, 4, 5]]\n"
     ]
    }
   ],
   "source": [
    "def pathSum(root, targetSum):\n",
    "    def dfs(node, target, path, result):\n",
    "        if not node:\n",
    "            return\n",
    "        \n",
    "        path.append(node.val)  # Add current node to the path\n",
    "        target -= node.val  # Subtract current node's value from target\n",
    "        \n",
    "        if not node.left and not node.right and target == 0:\n",
    "            result.append(list(path))  # Found a valid path\n",
    "        \n",
    "        dfs(node.left, target, path, result)\n",
    "        dfs(node.right, target, path, result)\n",
    "        path.pop()  # Backtrack\n",
    "    \n",
    "    result = []\n",
    "    dfs(root, targetSum, [], result)\n",
    "    return result\n",
    "\n",
    "# Test Case\n",
    "# Constructing the tree:\n",
    "#         5\n",
    "#        / \\\n",
    "#       4   8\n",
    "#      /   / \\\n",
    "#     11  13  4\n",
    "#    /  \\    / \\\n",
    "#   7    2  5   1\n",
    "root = TreeNode(5)\n",
    "root.left = TreeNode(4, TreeNode(11, TreeNode(7), TreeNode(2)))\n",
    "root.right = TreeNode(8, TreeNode(13), TreeNode(4, TreeNode(5), TreeNode(1)))\n",
    "print(pathSum(root, 22))  # Output: [[5, 4, 11, 2], [5, 8, 4, 5]]\n"
   ]
  },
  {
   "cell_type": "markdown",
   "id": "a01b6f7b-dab1-4424-bde0-a7642a6e0217",
   "metadata": {},
   "source": [
    "### [10. Path Sum III](https://leetcode.com/problems/path-sum-iii/)\n",
    "\n",
    "**Problem Statement:**  \n",
    "Given the `root` of a binary tree and an integer `targetSum`, return the number of paths where the sum of the values along the path equals `targetSum`.  \n",
    "The path does not need to start or end at the root or a leaf, but it must go downwards (i.e., traveling only from parent nodes to child nodes).\n",
    "\n",
    "**Sample Input:**  \n",
    "```\n",
    "root = [10, 5, -3, 3, 2, null, 11, 3, -2, null, 1]\n",
    "targetSum = 8\n",
    "```\n",
    "\n",
    "**Sample Output:**  \n",
    "```\n",
    "3\n",
    "```"
   ]
  },
  {
   "cell_type": "code",
   "execution_count": 14,
   "id": "54142193-ee8a-42bd-b3c6-3a9c463986e7",
   "metadata": {},
   "outputs": [
    {
     "name": "stdout",
     "output_type": "stream",
     "text": [
      "3\n"
     ]
    }
   ],
   "source": [
    "def pathSumIII(root, targetSum):\n",
    "    def dfs(node, curr_path):\n",
    "        if not node:\n",
    "            return 0\n",
    "        \n",
    "        # Add current node to the path\n",
    "        curr_path.append(node.val)\n",
    "        \n",
    "        # Check for valid paths ending at the current node\n",
    "        count = 0\n",
    "        current_sum = 0\n",
    "        for value in reversed(curr_path):\n",
    "            current_sum += value\n",
    "            if current_sum == targetSum:\n",
    "                count += 1\n",
    "        \n",
    "        # Explore children\n",
    "        count += dfs(node.left, curr_path)\n",
    "        count += dfs(node.right, curr_path)\n",
    "        \n",
    "        # Backtrack\n",
    "        curr_path.pop()\n",
    "        return count\n",
    "    \n",
    "    return dfs(root, [])\n",
    "\n",
    "# Test Case\n",
    "# Constructing the tree:\n",
    "#         10\n",
    "#        /  \\\n",
    "#       5   -3\n",
    "#      / \\     \\\n",
    "#     3   2     11\n",
    "#    / \\   \\\n",
    "#   3  -2   1\n",
    "root = TreeNode(10)\n",
    "root.left = TreeNode(5, TreeNode(3, TreeNode(3), TreeNode(-2)), TreeNode(2, None, TreeNode(1)))\n",
    "root.right = TreeNode(-3, None, TreeNode(11))\n",
    "print(pathSumIII(root, 8))  # Output: 3\n"
   ]
  },
  {
   "cell_type": "markdown",
   "id": "8dc93b89-e35a-4199-994f-d63481e104a5",
   "metadata": {},
   "source": [
    "### [11. Construct Binary Tree from Preorder and Inorder Traversal](https://leetcode.com/problems/construct-binary-tree-from-preorder-and-inorder-traversal/)\n",
    "**Problem Statement**:  \n",
    "Given two integer arrays `preorder` and `inorder` where `preorder` is the preorder traversal of a binary tree and `inorder` is the inorder traversal of the same tree, construct and return the binary tree.\n",
    "\n",
    "**Sample Input**:  \n",
    "```\n",
    "preorder = [3, 9, 20, 15, 7]\n",
    "inorder = [9, 3, 15, 20, 7]\n",
    "```\n",
    "\n",
    "**Sample Output**:  \n",
    "A binary tree with the structure:  \n",
    "```\n",
    "    3\n",
    "   / \\\n",
    "  9  20\n",
    "     / \\\n",
    "    15  7\n",
    "```"
   ]
  },
  {
   "cell_type": "code",
   "execution_count": 17,
   "id": "54ffd997-e6e4-4f72-b6d7-917417185021",
   "metadata": {},
   "outputs": [],
   "source": [
    "# Definition for a binary tree node.\n",
    "class TreeNode:\n",
    "    def __init__(self, val=0, left=None, right=None):\n",
    "        self.val = val\n",
    "        self.left = left\n",
    "        self.right = right\n",
    "\n",
    "class Solution:\n",
    "    def buildTree(self, preorder, inorder):\n",
    "        if not preorder or not inorder:\n",
    "            return None\n",
    "\n",
    "        # The first element in the preorder list is the root.\n",
    "        root_value = preorder[0]\n",
    "        root = TreeNode(root_value)\n",
    "\n",
    "        # Find the index of the root in inorder list.\n",
    "        mid = inorder.index(root_value)\n",
    "\n",
    "        # Recursively build the left and right subtrees.\n",
    "        # For the left subtree, take the elements from the start of the preorder list\n",
    "        # (after the root element) up to the length of the left subtree defined by inorder[:mid],\n",
    "        # and use the elements in inorder[:mid].\n",
    "        root.left = self.buildTree(preorder[1:mid+1], inorder[:mid])\n",
    "\n",
    "        # For the right subtree, take the elements from post-left subtree in preorder\n",
    "        # and use the elements in inorder[mid+1:]\n",
    "        root.right = self.buildTree(preorder[mid+1:], inorder[mid+1:])\n",
    "\n",
    "        return root\n",
    "\n",
    "# Sample test case\n",
    "preorder = [3,9,20,15,7]\n",
    "inorder = [9,3,15,20,7]\n",
    "solution = Solution()\n",
    "root = solution.buildTree(preorder, inorder)\n",
    "# The constructed binary tree should have the root with value 3"
   ]
  },
  {
   "cell_type": "code",
   "execution_count": 16,
   "id": "fb8858d5-ee4f-4ece-9b13-a25880404957",
   "metadata": {},
   "outputs": [
    {
     "data": {
      "text/plain": [
       "<__main__.TreeNode at 0x1a9630fa750>"
      ]
     },
     "execution_count": 16,
     "metadata": {},
     "output_type": "execute_result"
    }
   ],
   "source": [
    "root"
   ]
  },
  {
   "cell_type": "markdown",
   "id": "58e99133-9375-404b-b99c-05aed5c68430",
   "metadata": {},
   "source": [
    "### [12. Subtree of Another Tree](https://leetcode.com/problems/subtree-of-another-tree/)\n",
    "**Problem Statement**:  \n",
    "Given the roots of two binary trees `root` and `subRoot`, return `true` if there is a subtree of `root` with the same structure and node values as `subRoot`, and `false` otherwise.\n",
    "\n",
    "**Sample Input**:  \n",
    "```\n",
    "root = [3, 4, 5, 1, 2], subRoot = [4, 1, 2]\n",
    "```\n",
    "\n",
    "**Sample Output**:  \n",
    "```\n",
    "true\n",
    "```"
   ]
  },
  {
   "cell_type": "code",
   "execution_count": 18,
   "id": "11193ac1-37a1-4857-9790-780b3bdc7541",
   "metadata": {},
   "outputs": [],
   "source": [
    "class Solution:\n",
    "    def isSubtree(self, s, t):\n",
    "        if not s:\n",
    "            return False\n",
    "        if self.isSameTree(s, t):\n",
    "            return True\n",
    "        # Recursively check left and right subtree\n",
    "        return self.isSubtree(s.left, t) or self.isSubtree(s.right, t)\n",
    "\n",
    "    def isSameTree(self, s, t):\n",
    "        if not s and not t:\n",
    "            return True\n",
    "        if not s or not t:\n",
    "            return False\n",
    "        if s.val != t.val:\n",
    "            return False\n",
    "        return self.isSameTree(s.left, t.left) and self.isSameTree(s.right, t.right)\n",
    "\n",
    "# Sample test case\n",
    "root_s = TreeNode(3)\n",
    "root_s.left = TreeNode(4)\n",
    "root_s.right = TreeNode(5)\n",
    "root_s.left.left = TreeNode(1)\n",
    "root_s.left.right = TreeNode(2)\n",
    "\n",
    "root_t = TreeNode(4)\n",
    "root_t.left = TreeNode(1)\n",
    "root_t.right = TreeNode(2)\n",
    "\n",
    "solution = Solution()\n",
    "result = solution.isSubtree(root_s, root_t)\n",
    "# Result should be True as tree t is a subtree of s"
   ]
  },
  {
   "cell_type": "code",
   "execution_count": 19,
   "id": "5e96ad67-9554-4c04-b2cc-46ce65e7f4f6",
   "metadata": {},
   "outputs": [
    {
     "data": {
      "text/plain": [
       "True"
      ]
     },
     "execution_count": 19,
     "metadata": {},
     "output_type": "execute_result"
    }
   ],
   "source": [
    "result"
   ]
  },
  {
   "cell_type": "markdown",
   "id": "fab3cd2c-9083-4d9d-ae14-8d84b0076e74",
   "metadata": {},
   "source": [
    "### [13. Diameter of Binary Tree](https://leetcode.com/problems/diameter-of-binary-tree/)\n",
    "**Problem Statement**:  \n",
    "Given the root of a binary tree, return the length of the diameter of the tree. The diameter of a binary tree is the length of the longest path between any two nodes in a tree. This path may or may not pass through the root.\n",
    "\n",
    "**Sample Input**:  \n",
    "```\n",
    "root = [1, 2, 3, 4, 5]\n",
    "```\n",
    "\n",
    "**Sample Output**:  \n",
    "```\n",
    "3\n",
    "```"
   ]
  },
  {
   "cell_type": "code",
   "execution_count": 20,
   "id": "ecf75033-719f-47d7-a738-ac3409fc894f",
   "metadata": {},
   "outputs": [],
   "source": [
    "class Solution:\n",
    "    def diameterOfBinaryTree(self, root):\n",
    "        self.diameter = 0\n",
    "\n",
    "        def longest_path(node):\n",
    "            if not node:\n",
    "                return 0\n",
    "            left_path = longest_path(node.left)\n",
    "            right_path = longest_path(node.right)\n",
    "\n",
    "            # Update the diameter if the path through root is larger\n",
    "            self.diameter = max(self.diameter, left_path + right_path)\n",
    "\n",
    "            # Return the longest path from current node\n",
    "            return max(left_path, right_path) + 1\n",
    "\n",
    "        longest_path(root)\n",
    "        return self.diameter\n",
    "\n",
    "# Sample test case\n",
    "root = TreeNode(1)\n",
    "root.left = TreeNode(2)\n",
    "root.right = TreeNode(3)\n",
    "root.left.left = TreeNode(4)\n",
    "root.left.right = TreeNode(5)\n",
    "\n",
    "solution = Solution()\n",
    "diameter = solution.diameterOfBinaryTree(root)\n",
    "# The diameter should be 3 (path: 4 -> 2 -> 1 -> 3)"
   ]
  },
  {
   "cell_type": "markdown",
   "id": "ebc6729e-c9df-4d1e-9e42-032f76a4776c",
   "metadata": {},
   "source": [
    "### [14. Maximum Width of Binary Tree](https://leetcode.com/problems/maximum-width-of-binary-tree/)\n",
    "**Problem Statement**:  \n",
    "Given the root of a binary tree, return the maximum width of the binary tree. The maximum width of a tree is the maximum width among all levels. The width of one level is defined as the number of nodes between the leftmost and rightmost non-null nodes in the level.\n",
    "\n",
    "**Sample Input**:  \n",
    "```\n",
    "root = [1, 3, 2, 5, 3, null, 9]\n",
    "```\n",
    "\n",
    "**Sample Output**:  \n",
    "```\n",
    "4\n",
    "```"
   ]
  },
  {
   "cell_type": "code",
   "execution_count": 21,
   "id": "09c3aa6e-76a7-424e-bfaf-1f88071e3f25",
   "metadata": {},
   "outputs": [],
   "source": [
    "from collections import deque\n",
    "\n",
    "class Solution:\n",
    "    def widthOfBinaryTree(self, root):\n",
    "        if not root:\n",
    "            return 0\n",
    "\n",
    "        max_width = 0\n",
    "        queue = deque([(root, 0)])\n",
    "\n",
    "        while queue:\n",
    "            level_length = len(queue)\n",
    "            _, first_index = queue[0]\n",
    "            for _ in range(level_length):\n",
    "                node, index = queue.popleft()\n",
    "                if node.left:\n",
    "                    queue.append((node.left, 2 * index))\n",
    "                if node.right:\n",
    "                    queue.append((node.right, 2 * index + 1))\n",
    "\n",
    "            # Current level's width\n",
    "            current_width = index - first_index + 1\n",
    "            max_width = max(max_width, current_width)\n",
    "\n",
    "        return max_width\n",
    "\n",
    "# Sample test case\n",
    "root = TreeNode(1)\n",
    "root.left = TreeNode(3)\n",
    "root.right = TreeNode(2)\n",
    "root.left.left = TreeNode(5)\n",
    "root.left.right = TreeNode(3)\n",
    "root.right.right = TreeNode(9)\n",
    "\n",
    "solution = Solution()\n",
    "width = solution.widthOfBinaryTree(root)\n",
    "# The maximum width should be 4 (level 3 containing nodes 5, 3, x, 9)"
   ]
  },
  {
   "cell_type": "markdown",
   "id": "4a073982-c105-4c3f-ae66-ae1fc6e9ccd9",
   "metadata": {},
   "source": [
    "### [15. Lowest Common Ancestor of a Binary Tree](https://leetcode.com/problems/lowest-common-ancestor-of-a-binary-tree/)\n",
    "**Problem Statement**:  \n",
    "Given a binary tree, find the lowest common ancestor (LCA) of two given nodes in the tree.\n",
    "\n",
    "**Sample Input**:  \n",
    "```\n",
    "root = [3, 5, 1, 6, 2, 0, 8, null, null, 7, 4], p = 5, q = 1\n",
    "```\n",
    "\n",
    "**Sample Output**:  \n",
    "```\n",
    "3\n",
    "```"
   ]
  },
  {
   "cell_type": "code",
   "execution_count": 22,
   "id": "5708a742-8c02-4cc7-a71b-db4df2885ef8",
   "metadata": {},
   "outputs": [
    {
     "name": "stdout",
     "output_type": "stream",
     "text": [
      "LCA of 5 and 1: 3\n"
     ]
    }
   ],
   "source": [
    "# Definition for a binary tree node.\n",
    "class TreeNode:\n",
    "    def __init__(self, x):\n",
    "        self.val = x\n",
    "        self.left = None\n",
    "        self.right = None\n",
    "\n",
    "class Solution:\n",
    "    def lowestCommonAncestor(self, root: 'TreeNode', p: 'TreeNode', q: 'TreeNode') -> 'TreeNode':\n",
    "        # Base Case: if root is None or root matches one of the nodes (p or q)\n",
    "        if not root or root == p or root == q:\n",
    "            return root\n",
    "\n",
    "        # Recursively search in the left subtree\n",
    "        left = self.lowestCommonAncestor(root.left, p, q)\n",
    "\n",
    "        # Recursively search in the right subtree\n",
    "        right = self.lowestCommonAncestor(root.right, p, q)\n",
    "\n",
    "        # If left and right are both non-null, this means p and q are found in separate branches\n",
    "        if left and right:\n",
    "            return root  # this root is the LCA\n",
    "\n",
    "        # Else return the non-null child\n",
    "        return left if left else right\n",
    "\n",
    "# Sample Test Case\n",
    "root = TreeNode(3)\n",
    "root.left = TreeNode(5)\n",
    "root.right = TreeNode(1)\n",
    "root.left.left = TreeNode(6)\n",
    "root.left.right = TreeNode(2)\n",
    "root.right.left = TreeNode(0)\n",
    "root.right.right = TreeNode(8)\n",
    "root.left.right.left = TreeNode(7)\n",
    "root.left.right.right = TreeNode(4)\n",
    "\n",
    "sol = Solution()\n",
    "p = root.left  # Node with value 5\n",
    "q = root.right  # Node with value 1\n",
    "lca = sol.lowestCommonAncestor(root, p, q)\n",
    "print(f\"LCA of {p.val} and {q.val}: {lca.val}\")"
   ]
  },
  {
   "cell_type": "markdown",
   "id": "3c1e5d38-ad26-4895-8e87-830e1ae9de4c",
   "metadata": {},
   "source": [
    "### [16. Serialize and Deserialize Binary Tree](https://leetcode.com/problems/serialize-and-deserialize-binary-tree/)\n",
    "**Problem Statement**:  \n",
    "Design an algorithm to serialize and deserialize a binary tree. Serialization is converting the tree to a string, and deserialization is converting the string back to the original tree structure.\n",
    "\n",
    "**Sample Input**:  \n",
    "```\n",
    "root = [1, 2, 3, null, null, 4, 5]\n",
    "```\n",
    "\n",
    "**Sample Output**:  \n",
    "```\n",
    "Serialization: \"1,2,3,null,null,4,5\"\n",
    "Deserialization: A binary tree with the structure:\n",
    "    1\n",
    "   / \\\n",
    "  2   3\n",
    "     / \\\n",
    "    4   5\n",
    "```"
   ]
  },
  {
   "cell_type": "code",
   "execution_count": 23,
   "id": "f1613467-4504-472c-acd5-d638da253a7d",
   "metadata": {},
   "outputs": [
    {
     "name": "stdout",
     "output_type": "stream",
     "text": [
      "Serialized: 3 5 6 # # 2 7 # # 4 # # 1 0 # # 8 # #\n",
      "Re-serialized: 3 5 6 # # 2 7 # # 4 # # 1 0 # # 8 # #\n"
     ]
    }
   ],
   "source": [
    "class Codec:\n",
    "\n",
    "    def serialize(self, root: 'TreeNode') -> str:\n",
    "        \"\"\"Encodes a tree to a single string.\"\"\"\n",
    "        def preorder(node):\n",
    "            if node:\n",
    "                vals.append(str(node.val))\n",
    "                preorder(node.left)\n",
    "                preorder(node.right)\n",
    "            else:\n",
    "                vals.append('#')\n",
    "\n",
    "        vals = []\n",
    "        preorder(root)\n",
    "        return ' '.join(vals)\n",
    "\n",
    "    def deserialize(self, data: str) -> 'TreeNode':\n",
    "        \"\"\"Decodes your encoded data to tree.\"\"\"\n",
    "        def doDeserialize():\n",
    "            val = next(vals)\n",
    "            if val == '#':\n",
    "                return None\n",
    "            node = TreeNode(int(val))\n",
    "            node.left = doDeserialize()\n",
    "            node.right = doDeserialize()\n",
    "            return node\n",
    "\n",
    "        vals = iter(data.split())\n",
    "        return doDeserialize()\n",
    "\n",
    "# Sample Test Case\n",
    "# Using the same tree structure as before\n",
    "codec = Codec()\n",
    "serialized = codec.serialize(root)\n",
    "print(f\"Serialized: {serialized}\")\n",
    "deserialized = codec.deserialize(serialized)\n",
    "# To verify the deserialization, let's serialize it again and check if it matches\n",
    "print(f\"Re-serialized: {codec.serialize(deserialized)}\")"
   ]
  },
  {
   "cell_type": "markdown",
   "id": "00965906-83a1-46e3-82e5-d408c849e074",
   "metadata": {},
   "source": [
    "### [17. All Nodes Distance K in Binary Tree](https://leetcode.com/problems/all-nodes-distance-k-in-binary-tree/)\n",
    "**Problem Statement**:  \n",
    "Given the root of a binary tree, a target node, and an integer `k`, return an array of the values of all nodes that have a distance `k` from the target node.\n",
    "\n",
    "**Sample Input**:  \n",
    "```\n",
    "root = [3, 5, 1, 6, 2, 0, 8, null, null, 7, 4], target = 5, k = 2\n",
    "```\n",
    "\n",
    "**Sample Output**:  \n",
    "```\n",
    "[7, 4, 1]\n",
    "```"
   ]
  },
  {
   "cell_type": "code",
   "execution_count": 24,
   "id": "603e5056-7cc3-4394-8bf6-483be5d8df5b",
   "metadata": {},
   "outputs": [
    {
     "name": "stdout",
     "output_type": "stream",
     "text": [
      "Nodes distance 2 from target 5: [1, 7, 4]\n"
     ]
    }
   ],
   "source": [
    "class Solution:\n",
    "    def distanceK(self, root: 'TreeNode', target: 'TreeNode', k: int):\n",
    "        from collections import defaultdict, deque\n",
    "        if not root:\n",
    "            return []\n",
    "\n",
    "        # Build the graph from the tree using adjacency list\n",
    "        graph = defaultdict(list)\n",
    "\n",
    "        def buildGraph(node, parent=None):\n",
    "            if node:\n",
    "                if parent:\n",
    "                    graph[node.val].append(parent.val)\n",
    "                    graph[parent.val].append(node.val)\n",
    "                buildGraph(node.left, node)\n",
    "                buildGraph(node.right, node)\n",
    "\n",
    "        buildGraph(root)\n",
    "\n",
    "        # BFS to find all nodes at distance k from the target\n",
    "        queue = deque([(target.val, 0)])  # (current node value, current distance)\n",
    "        visited = set()\n",
    "        visited.add(target.val)\n",
    "\n",
    "        res = []\n",
    "        while queue:\n",
    "            node, dist = queue.popleft()\n",
    "            if dist == k:\n",
    "                res.append(node)\n",
    "            elif dist < k:\n",
    "                for neighbor in graph[node]:\n",
    "                    if neighbor not in visited:\n",
    "                        visited.add(neighbor)\n",
    "                        queue.append((neighbor, dist + 1))\n",
    "\n",
    "        return res\n",
    "\n",
    "# Sample Test Case\n",
    "target = root.left  # Node with value 5\n",
    "distance_k = 2\n",
    "sol = Solution()\n",
    "nodes_distance_k = sol.distanceK(root, target, distance_k)\n",
    "print(f\"Nodes distance {distance_k} from target {target.val}: {nodes_distance_k}\")"
   ]
  },
  {
   "cell_type": "markdown",
   "id": "461f2ef1-9635-42c5-bec7-6dd9b468244e",
   "metadata": {},
   "source": [
    "### [18. Binary Tree Maximum Path Sum](https://leetcode.com/problems/binary-tree-maximum-path-sum/)\n",
    "**Problem Statement**:  \n",
    "Given a non-empty binary tree, return the maximum path sum. A path is defined as any sequence of nodes from some starting node to any node in the tree along the parent-child connections. The path must contain at least one node and does not need to go through the root.\n",
    "\n",
    "**Sample Input**:  \n",
    "```\n",
    "root = [-10, 9, 20, null, null, 15, 7]\n",
    "```\n",
    "\n",
    "**Sample Output**:  \n",
    "```\n",
    "42\n",
    "```"
   ]
  },
  {
   "cell_type": "code",
   "execution_count": 26,
   "id": "d865ddab-ef33-4e8d-9f83-3a1272a21ddd",
   "metadata": {},
   "outputs": [
    {
     "name": "stdout",
     "output_type": "stream",
     "text": [
      "Maximum Path Sum: 26\n"
     ]
    }
   ],
   "source": [
    "class Solution:\n",
    "    def maxPathSum(self, root: 'TreeNode') -> int:\n",
    "        self.max_sum = float('-inf')\n",
    "\n",
    "        def max_gain(node):\n",
    "            if not node:\n",
    "                return 0\n",
    "\n",
    "            # Recursively calculate the maximum path sum from the left subtree\n",
    "            left_gain = max(max_gain(node.left), 0)\n",
    "\n",
    "            # Recursively calculate the maximum path sum from the right subtree\n",
    "            right_gain = max(max_gain(node.right), 0)\n",
    "\n",
    "            # Calculate the price of the current path\n",
    "            price_newpath = node.val + left_gain + right_gain\n",
    "\n",
    "            # Update the global maximum sum\n",
    "            self.max_sum = max(self.max_sum, price_newpath)\n",
    "\n",
    "            # Returning the maximum gain if the current node's value is part of the path\n",
    "            return node.val + max(left_gain, right_gain)\n",
    "\n",
    "        max_gain(root)\n",
    "        return self.max_sum\n",
    "\n",
    "# Sample Test Case\n",
    "sol = Solution()\n",
    "max_path_sum = sol.maxPathSum(root)\n",
    "print(f\"Maximum Path Sum: {max_path_sum}\")"
   ]
  },
  {
   "cell_type": "code",
   "execution_count": null,
   "id": "8a5076fe-23b2-451d-9727-5dd772b0e053",
   "metadata": {},
   "outputs": [],
   "source": []
  },
  {
   "cell_type": "code",
   "execution_count": null,
   "id": "b5eb97ac-da82-4e91-b010-4c531c35d81e",
   "metadata": {},
   "outputs": [],
   "source": []
  },
  {
   "cell_type": "code",
   "execution_count": null,
   "id": "47205873-55b3-4af0-9312-01617b972b71",
   "metadata": {},
   "outputs": [],
   "source": []
  },
  {
   "cell_type": "code",
   "execution_count": null,
   "id": "e062c5fc-24d3-4380-8fcb-515d7afa5871",
   "metadata": {},
   "outputs": [],
   "source": []
  },
  {
   "cell_type": "code",
   "execution_count": null,
   "id": "09b95872-6c81-4c19-98ee-e53dbe7c5970",
   "metadata": {},
   "outputs": [],
   "source": []
  },
  {
   "cell_type": "code",
   "execution_count": null,
   "id": "41852581-022a-4e64-a0b2-bdc74540d9dc",
   "metadata": {},
   "outputs": [],
   "source": []
  },
  {
   "cell_type": "code",
   "execution_count": null,
   "id": "95860b48-c512-4200-8d41-89a7a78f379e",
   "metadata": {},
   "outputs": [],
   "source": []
  }
 ],
 "metadata": {
  "kernelspec": {
   "display_name": "Python 3 (ipykernel)",
   "language": "python",
   "name": "python3"
  },
  "language_info": {
   "codemirror_mode": {
    "name": "ipython",
    "version": 3
   },
   "file_extension": ".py",
   "mimetype": "text/x-python",
   "name": "python",
   "nbconvert_exporter": "python",
   "pygments_lexer": "ipython3",
   "version": "3.11.7"
  },
  "widgets": {
   "application/vnd.jupyter.widget-state+json": {
    "state": {},
    "version_major": 2,
    "version_minor": 0
   }
  }
 },
 "nbformat": 4,
 "nbformat_minor": 5
}
