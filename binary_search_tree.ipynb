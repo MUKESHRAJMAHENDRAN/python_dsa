{
 "cells": [
  {
   "cell_type": "markdown",
   "id": "7ea55466-9149-4eb6-84fa-662331e709dd",
   "metadata": {},
   "source": [
    "### [1. Lowest Common Ancestor of a Binary Search Tree](https://leetcode.com/problems/lowest-common-ancestor-of-a-binary-search-tree/)\n",
    "**Difficulty**: Easy  \n",
    "**Time**: 20 mins\n",
    "\n",
    "#### Problem Statement:\n",
    "Given a binary search tree (BST), find the lowest common ancestor (LCA) of two given nodes in the BST. According to the definition of LCA on a BST, the LCA is the node that satisfies the following conditions:\n",
    "1. The LCA node is located in the path between the two nodes `p` and `q`.\n",
    "2. The node is a descendant of both `p` and `q`.\n",
    "\n",
    "#### Sample Input:\n",
    "```plaintext\n",
    "root = [6,2,8,0,4,7,9,null,null,3,5]\n",
    "p = 2\n",
    "q = 8\n",
    "```\n",
    "\n",
    "#### Sample Output:\n",
    "```plaintext\n",
    "6\n",
    "```"
   ]
  },
  {
   "cell_type": "code",
   "execution_count": 1,
   "id": "63a1300b-d601-4cf7-a546-a35234c7ff7e",
   "metadata": {},
   "outputs": [
    {
     "name": "stdout",
     "output_type": "stream",
     "text": [
      "LCA of 2 and 8 is 6\n"
     ]
    }
   ],
   "source": [
    "class TreeNode:\n",
    "    def __init__(self, val=0, left=None, right=None):\n",
    "        self.val = val\n",
    "        self.left = left\n",
    "        self.right = right\n",
    "\n",
    "def lowestCommonAncestor(root: TreeNode, p: TreeNode, q: TreeNode) -> TreeNode:\n",
    "    # Start from the root node of the BST\n",
    "    current_node = root\n",
    "\n",
    "    while current_node:\n",
    "        # If both nodes p and q are in the right subtree of the current node, go right\n",
    "        if p.val > current_node.val and q.val > current_node.val:\n",
    "            current_node = current_node.right\n",
    "        # If both nodes p and q are in the left subtree of the current node, go left\n",
    "        elif p.val < current_node.val and q.val < current_node.val:\n",
    "            current_node = current_node.left\n",
    "        else:\n",
    "            # We have found the split point, i.e. the LCA node.\n",
    "            return current_node\n",
    "\n",
    "# Sample Test Case\n",
    "# Construct a simple BST\n",
    "root = TreeNode(6)\n",
    "root.left = TreeNode(2)\n",
    "root.right = TreeNode(8)\n",
    "root.left.left = TreeNode(0)\n",
    "root.left.right = TreeNode(4)\n",
    "root.right.left = TreeNode(7)\n",
    "root.right.right = TreeNode(9)\n",
    "root.left.right.left = TreeNode(3)\n",
    "root.left.right.right = TreeNode(5)\n",
    "\n",
    "p = root.left # Node with value 2\n",
    "q = root.right # Node with value 8\n",
    "\n",
    "print(f\"LCA of {p.val} and {q.val} is {lowestCommonAncestor(root, p, q).val}\")  # Output: LCA of 2 and 8 is 6"
   ]
  },
  {
   "cell_type": "markdown",
   "id": "66ed37b6-eae1-41e4-8b95-913e42baa27e",
   "metadata": {},
   "source": [
    "### [2. Validate Binary Search Tree](https://leetcode.com/problems/validate-binary-search-tree/)\n",
    "**Difficulty**: Medium  \n",
    "**Time**: 20 mins\n",
    "\n",
    "#### Problem Statement:\n",
    "Given a binary tree, determine if it is a valid binary search tree (BST). A binary search tree is valid if:\n",
    "1. The left subtree of a node contains only nodes with keys **less than** the node's key.\n",
    "2. The right subtree of a node contains only nodes with keys **greater than** the node's key.\n",
    "3. Both the left and right subtrees must also be binary search trees.\n",
    "\n",
    "#### Sample Input:\n",
    "```plaintext\n",
    "root = [2,1,3]\n",
    "```\n",
    "\n",
    "#### Sample Output:\n",
    "```plaintext\n",
    "true\n",
    "```"
   ]
  },
  {
   "cell_type": "code",
   "execution_count": 2,
   "id": "03cc7bb6-edeb-44b4-b9b2-8f8901abcb4b",
   "metadata": {},
   "outputs": [
    {
     "name": "stdout",
     "output_type": "stream",
     "text": [
      "Is valid BST: True\n"
     ]
    }
   ],
   "source": [
    "class TreeNode:\n",
    "    def __init__(self, val=0, left=None, right=None):\n",
    "        self.val = val\n",
    "        self.left = left\n",
    "        self.right = right\n",
    "\n",
    "def isValidBST(root: TreeNode, low=float('-inf'), high=float('inf')) -> bool:\n",
    "    # Empty trees are valid BSTs\n",
    "    if not root:\n",
    "        return True\n",
    "\n",
    "    # Check the current node value\n",
    "    if root.val <= low or root.val >= high:\n",
    "        return False\n",
    "\n",
    "    # Check recursively for every node.\n",
    "    # The right subtree must have all values > root.val\n",
    "    # The left subtree must have all values < root.val\n",
    "    return (isValidBST(root.left, low, root.val) and\n",
    "            isValidBST(root.right, root.val, high))\n",
    "\n",
    "# Sample Test Case\n",
    "root = TreeNode(2)\n",
    "root.left = TreeNode(1)\n",
    "root.right = TreeNode(3)\n",
    "\n",
    "print(\"Is valid BST:\", isValidBST(root))  # Output: Is valid BST: True"
   ]
  },
  {
   "cell_type": "markdown",
   "id": "86ca036a-c39d-4975-87f7-6d158eeb80a1",
   "metadata": {},
   "source": [
    "### [3. Kth Smallest Element in a BST](https://leetcode.com/problems/kth-smallest-element-in-a-bst/)\n",
    "**Difficulty**: Medium  \n",
    "**Time**: 25 mins\n",
    "\n",
    "#### Problem Statement:\n",
    "Given the root of a binary search tree, and an integer `k`, return the `k`th smallest value (1-indexed) of all the values of the nodes in the BST.\n",
    "\n",
    "#### Sample Input:\n",
    "```plaintext\n",
    "root = [3,1,4,null,2], k = 1\n",
    "```\n",
    "\n",
    "#### Sample Output:\n",
    "```plaintext\n",
    "1\n",
    "```"
   ]
  },
  {
   "cell_type": "code",
   "execution_count": 3,
   "id": "dc0a2bda-d490-48df-89fd-3093587ccf1c",
   "metadata": {},
   "outputs": [
    {
     "name": "stdout",
     "output_type": "stream",
     "text": [
      "The 1th smallest element is 1\n"
     ]
    }
   ],
   "source": [
    "class TreeNode:\n",
    "    def __init__(self, val=0, left=None, right=None):\n",
    "        self.val = val\n",
    "        self.left = left\n",
    "        self.right = right\n",
    "\n",
    "def kthSmallest(root: TreeNode, k: int) -> int:\n",
    "    # Initialize stack for in-order traversal simulation\n",
    "    stack = []\n",
    "\n",
    "    # In-order traversal\n",
    "    while True:\n",
    "        while root:\n",
    "            stack.append(root)\n",
    "            root = root.left\n",
    "        root = stack.pop()\n",
    "        k -= 1\n",
    "        if k == 0:\n",
    "            return root.val\n",
    "        root = root.right\n",
    "\n",
    "# Sample Test Case\n",
    "root = TreeNode(3)\n",
    "root.left = TreeNode(1)\n",
    "root.right = TreeNode(4)\n",
    "root.left.right = TreeNode(2)\n",
    "\n",
    "k = 1\n",
    "print(f\"The {k}th smallest element is {kthSmallest(root, k)}\")  # Output: The 1th smallest element is 1"
   ]
  },
  {
   "cell_type": "markdown",
   "id": "db4683e6-0976-4ca5-88d9-df84a0480904",
   "metadata": {},
   "source": [
    "### [4. Inorder Successor in BST](https://leetcode.com/problems/inorder-successor-in-bst/)\n",
    "**Difficulty**: Medium  \n",
    "**Time**: 30 mins\n",
    "\n",
    "#### Problem Statement:\n",
    "Given a binary search tree and a node `p` in it, find the inorder successor of that node in the BST. The inorder successor of a node is the node with the smallest key greater than `p`'s key. If there is no such node, return `null`.\n",
    "\n",
    "#### Sample Input:\n",
    "```plaintext\n",
    "root = [2,1,3], p = 1\n",
    "```\n",
    "\n",
    "#### Sample Output:\n",
    "```plaintext\n",
    "2\n",
    "```"
   ]
  },
  {
   "cell_type": "code",
   "execution_count": 4,
   "id": "7e84d067-44e9-4cc2-94c3-1649a4c409cc",
   "metadata": {},
   "outputs": [
    {
     "name": "stdout",
     "output_type": "stream",
     "text": [
      "Successor of 3 is 4\n"
     ]
    }
   ],
   "source": [
    "class TreeNode:\n",
    "    def __init__(self, val=0, left=None, right=None):\n",
    "        self.val = val\n",
    "        self.left = left\n",
    "        self.right = right\n",
    "\n",
    "def inorderSuccessor(root: TreeNode, p: TreeNode) -> TreeNode:\n",
    "    successor = None\n",
    "\n",
    "    while root:\n",
    "        if p.val >= root.val:\n",
    "            root = root.right\n",
    "        else:\n",
    "            successor = root\n",
    "            root = root.left\n",
    "\n",
    "    return successor\n",
    "\n",
    "# Sample Test Case\n",
    "root = TreeNode(5)\n",
    "root.left = TreeNode(3)\n",
    "root.right = TreeNode(6)\n",
    "root.left.left = TreeNode(2)\n",
    "root.left.right = TreeNode(4)\n",
    "root.left.left.left = TreeNode(1)\n",
    "\n",
    "p = root.left # Node with value 3\n",
    "\n",
    "successor = inorderSuccessor(root, p)\n",
    "print(f\"Successor of {p.val} is {successor.val if successor else 'None'}\")  # Output: Successor of 3 is 4"
   ]
  },
  {
   "cell_type": "markdown",
   "id": "b23358d0-535a-4db7-a026-c0af94257f0a",
   "metadata": {},
   "source": [
    "### [5. Convert Sorted Array to Binary Search Tree](https://leetcode.com/problems/convert-sorted-array-to-binary-search-tree/)\n",
    "**Difficulty**: Easy  \n",
    "**Time**: 20 mins\n",
    "\n",
    "#### Problem Statement:\n",
    "Given an integer array `nums` where the elements are sorted in **ascending** order, convert it to a height-balanced binary search tree (BST).\n",
    "\n",
    "#### Sample Input:\n",
    "```plaintext\n",
    "nums = [-10,-3,0,5,9]\n",
    "```\n",
    "\n",
    "#### Sample Output:\n",
    "```plaintext\n",
    "[0,-3,9,-10,null,5]\n",
    "```"
   ]
  },
  {
   "cell_type": "code",
   "execution_count": 5,
   "id": "952d1062-70a2-4efb-9016-1bd5ee142e0b",
   "metadata": {},
   "outputs": [
    {
     "name": "stdout",
     "output_type": "stream",
     "text": [
      "In-order traversal of the constructed BST: [-3, 0]\n"
     ]
    }
   ],
   "source": [
    "class TreeNode:\n",
    "    def __init__(self, val=0, left=None, right=None):\n",
    "        self.val = val\n",
    "        self.left = left\n",
    "        self.right = right\n",
    "\n",
    "def sortedArrayToBST(nums: list) -> TreeNode:\n",
    "    if not nums:\n",
    "        return None\n",
    "\n",
    "    mid = len(nums) // 2\n",
    "    root = TreeNode(nums[mid])\n",
    "    root.left = sortedArrayToBST(nums[:mid])\n",
    "    root.right = sortedArrayToBST(nums[mid+1:])\n",
    "\n",
    "    return root\n",
    "\n",
    "# Sample Test Case\n",
    "nums = [-10, -3, 0, 5, 9]\n",
    "root = sortedArrayToBST(nums)\n",
    "\n",
    "def inOrderTraversal(root):\n",
    "    return inOrderTraversal(root.left) + [root.val] if root.left else [] + [root.val] + inOrderTraversal(root.right) if root.right else []\n",
    "\n",
    "print(\"In-order traversal of the constructed BST:\", inOrderTraversal(root))  # Output: In-order traversal of the constructed BST: [-10, -3, 0, 5, 9]"
   ]
  },
  {
   "cell_type": "code",
   "execution_count": null,
   "id": "b8cf85b1-9cf5-4eea-9fd2-c7da28447830",
   "metadata": {},
   "outputs": [],
   "source": []
  }
 ],
 "metadata": {
  "kernelspec": {
   "display_name": "Python 3 (ipykernel)",
   "language": "python",
   "name": "python3"
  },
  "language_info": {
   "codemirror_mode": {
    "name": "ipython",
    "version": 3
   },
   "file_extension": ".py",
   "mimetype": "text/x-python",
   "name": "python",
   "nbconvert_exporter": "python",
   "pygments_lexer": "ipython3",
   "version": "3.11.7"
  },
  "widgets": {
   "application/vnd.jupyter.widget-state+json": {
    "state": {},
    "version_major": 2,
    "version_minor": 0
   }
  }
 },
 "nbformat": 4,
 "nbformat_minor": 5
}
