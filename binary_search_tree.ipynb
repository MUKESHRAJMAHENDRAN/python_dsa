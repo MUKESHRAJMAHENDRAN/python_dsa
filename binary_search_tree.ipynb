{
 "cells": [
  {
   "cell_type": "markdown",
   "id": "acfe8188-9c77-4e7f-b0e7-0b380f3aa886",
   "metadata": {},
   "source": [
    "# Binary Search Tree"
   ]
  },
  {
   "cell_type": "markdown",
   "id": "7ea55466-9149-4eb6-84fa-662331e709dd",
   "metadata": {},
   "source": [
    "### [1. Lowest Common Ancestor of a Binary Search Tree](https://leetcode.com/problems/lowest-common-ancestor-of-a-binary-search-tree/)\n",
    "**Difficulty**: Easy  \n",
    "**Time**: 20 mins\n",
    "\n",
    "#### Problem Statement:\n",
    "Given a binary search tree (BST), find the lowest common ancestor (LCA) of two given nodes in the BST. According to the definition of LCA on a BST, the LCA is the node that satisfies the following conditions:\n",
    "1. The LCA node is located in the path between the two nodes `p` and `q`.\n",
    "2. The node is a descendant of both `p` and `q`.\n",
    "\n",
    "#### Sample Input:\n",
    "```plaintext\n",
    "root = [6,2,8,0,4,7,9,null,null,3,5]\n",
    "p = 2\n",
    "q = 8\n",
    "```\n",
    "\n",
    "#### Sample Output:\n",
    "```plaintext\n",
    "6\n",
    "```"
   ]
  },
  {
   "cell_type": "code",
   "execution_count": 1,
   "id": "63a1300b-d601-4cf7-a546-a35234c7ff7e",
   "metadata": {},
   "outputs": [
    {
     "name": "stdout",
     "output_type": "stream",
     "text": [
      "LCA of 2 and 8 is 6\n"
     ]
    }
   ],
   "source": [
    "class TreeNode:\n",
    "    def __init__(self, val=0, left=None, right=None):\n",
    "        self.val = val\n",
    "        self.left = left\n",
    "        self.right = right\n",
    "\n",
    "def lowestCommonAncestor(root: TreeNode, p: TreeNode, q: TreeNode)-> TreeNode:\n",
    "    # Start from the root node of the BST\n",
    "    current_node = root\n",
    "\n",
    "    while current_node:\n",
    "        # If both nodes p and q are in the right subtree \n",
    "        # of the current node, go right\n",
    "        if p.val > current_node.val and q.val > current_node.val:\n",
    "            current_node = current_node.right\n",
    "        # If both nodes p and q are in the left subtree \n",
    "        # of the current node, go left\n",
    "        elif p.val < current_node.val and q.val < current_node.val:\n",
    "            current_node = current_node.left\n",
    "        else:\n",
    "            # We have found the split point, i.e. the LCA node.\n",
    "            return current_node\n",
    "\n",
    "# Sample Test Case\n",
    "# Construct a simple BST\n",
    "root = TreeNode(6)\n",
    "root.left = TreeNode(2)\n",
    "root.right = TreeNode(8)\n",
    "root.left.left = TreeNode(0)\n",
    "root.left.right = TreeNode(4)\n",
    "root.right.left = TreeNode(7)\n",
    "root.right.right = TreeNode(9)\n",
    "root.left.right.left = TreeNode(3)\n",
    "root.left.right.right = TreeNode(5)\n",
    "\n",
    "p = root.left # Node with value 2\n",
    "q = root.right # Node with value 8\n",
    "# Output: LCA of 2 and 8 is 6\n",
    "print(f\"LCA of {p.val} and {q.val} is {lowestCommonAncestor(root, p, q).val}\")  "
   ]
  },
  {
   "cell_type": "markdown",
   "id": "e4911a99-7eec-4873-abfd-247d403d8762",
   "metadata": {},
   "source": [
    "**Time Complexity:** O(h), where h is the height of the tree, as we traverse from the root to a leaf or the split point.  \n",
    "**Space Complexity:** O(1), as no additional data structures are used, and the traversal is iterative.\n"
   ]
  },
  {
   "cell_type": "markdown",
   "id": "66ed37b6-eae1-41e4-8b95-913e42baa27e",
   "metadata": {},
   "source": [
    "### [2. Validate Binary Search Tree](https://leetcode.com/problems/validate-binary-search-tree/)\n",
    "**Difficulty**: Medium  \n",
    "**Time**: 20 mins\n",
    "\n",
    "#### Problem Statement:\n",
    "Given a binary tree, determine if it is a valid binary search tree (BST). A binary search tree is valid if:\n",
    "1. The left subtree of a node contains only nodes with keys **less than** the node's key.\n",
    "2. The right subtree of a node contains only nodes with keys **greater than** the node's key.\n",
    "3. Both the left and right subtrees must also be binary search trees.\n",
    "\n",
    "#### Sample Input:\n",
    "```plaintext\n",
    "root = [2,1,3]\n",
    "```\n",
    "\n",
    "#### Sample Output:\n",
    "```plaintext\n",
    "true\n",
    "```"
   ]
  },
  {
   "cell_type": "code",
   "execution_count": 2,
   "id": "03cc7bb6-edeb-44b4-b9b2-8f8901abcb4b",
   "metadata": {},
   "outputs": [
    {
     "name": "stdout",
     "output_type": "stream",
     "text": [
      "Is valid BST: True\n"
     ]
    }
   ],
   "source": [
    "class TreeNode:\n",
    "    def __init__(self, val=0, left=None, right=None):\n",
    "        self.val = val\n",
    "        self.left = left\n",
    "        self.right = right\n",
    "\n",
    "def isValidBST(root: TreeNode, low=float('-inf'), high=float('inf')) -> bool:\n",
    "    # Empty trees are valid BSTs\n",
    "    if not root:\n",
    "        return True\n",
    "\n",
    "    # Check the current node value\n",
    "    if root.val <= low or root.val >= high:\n",
    "        return False\n",
    "\n",
    "    # Check recursively for every node.\n",
    "    # The right subtree must have all values > root.val\n",
    "    # The left subtree must have all values < root.val\n",
    "    return (isValidBST(root.left, low, root.val) and\n",
    "            isValidBST(root.right, root.val, high))\n",
    "\n",
    "# Sample Test Case\n",
    "root = TreeNode(2)\n",
    "root.left = TreeNode(1)\n",
    "root.right = TreeNode(3)\n",
    "\n",
    "print(\"Is valid BST:\", isValidBST(root))  # Output: Is valid BST: True"
   ]
  },
  {
   "cell_type": "markdown",
   "id": "e8d0f8a9-e06f-48e8-a5b8-e47d9d7d1ff2",
   "metadata": {},
   "source": [
    "**Time Complexity:** O(n), where n is the number of nodes, as each node is visited once.  \n",
    "**Space Complexity:** O(h), where h is the height of the tree, due to the recursive call stack.\n"
   ]
  },
  {
   "cell_type": "markdown",
   "id": "86ca036a-c39d-4975-87f7-6d158eeb80a1",
   "metadata": {},
   "source": [
    "### [3. Kth Smallest Element in a BST](https://leetcode.com/problems/kth-smallest-element-in-a-bst/)\n",
    "**Difficulty**: Medium  \n",
    "**Time**: 25 mins\n",
    "\n",
    "#### Problem Statement:\n",
    "Given the root of a binary search tree, and an integer `k`, return the `k`th smallest value (1-indexed) of all the values of the nodes in the BST.\n",
    "\n",
    "#### Sample Input:\n",
    "```plaintext\n",
    "root = [3,1,4,null,2], k = 1\n",
    "```\n",
    "\n",
    "#### Sample Output:\n",
    "```plaintext\n",
    "1\n",
    "```"
   ]
  },
  {
   "cell_type": "code",
   "execution_count": 3,
   "id": "dc0a2bda-d490-48df-89fd-3093587ccf1c",
   "metadata": {},
   "outputs": [
    {
     "name": "stdout",
     "output_type": "stream",
     "text": [
      "The 1th smallest element is 1\n"
     ]
    }
   ],
   "source": [
    "class TreeNode:\n",
    "    \"\"\"\n",
    "    Definition for a binary tree node.\n",
    "    \"\"\"\n",
    "    def __init__(self, val=0, left=None, right=None):\n",
    "        self.val = val  # Value of the node\n",
    "        self.left = left  # Left child of the node\n",
    "        self.right = right  # Right child of the node\n",
    "\n",
    "def kthSmallest(root: TreeNode, k: int) -> int:\n",
    "    \"\"\"\n",
    "    Finds the kth smallest element in a Binary Search Tree (BST).\n",
    "    This is achieved using an in-order traversal (left, root, right) since\n",
    "    it visits nodes in ascending order in a BST.\n",
    "\n",
    "    :param root: The root node of the BST\n",
    "    :param k: The position (1-based) of the smallest element to find\n",
    "    :return: The value of the kth smallest element\n",
    "    \"\"\"\n",
    "    # Initialize a stack to simulate in-order traversal without recursion\n",
    "    stack = []\n",
    "\n",
    "    # Perform an iterative in-order traversal\n",
    "    while True:\n",
    "        # Traverse to the leftmost node\n",
    "        while root:\n",
    "            stack.append(root)  # Push the current node onto the stack\n",
    "            root = root.left  # Move to the left child\n",
    "\n",
    "        # Process the node on the top of the stack\n",
    "        root = stack.pop()  # Pop the top node from the stack\n",
    "        k -= 1  # Decrease k as we've found one of the smallest elements\n",
    "\n",
    "        # If k becomes 0, we've found the kth smallest element\n",
    "        if k == 0:\n",
    "            return root.val  # Return the value of the current node\n",
    "\n",
    "        # Move to the right child to continue the traversal\n",
    "        root = root.right\n",
    "\n",
    "# Sample Test Case\n",
    "# Construct the following BST:\n",
    "#       3\n",
    "#      / \\\n",
    "#     1   4\n",
    "#      \\\n",
    "#       2\n",
    "root = TreeNode(3)  # Root node\n",
    "root.left = TreeNode(1)  # Left child of root\n",
    "root.right = TreeNode(4)  # Right child of root\n",
    "root.left.right = TreeNode(2)  # Right child of the left child\n",
    "\n",
    "k = 1  # Find the 1st smallest element\n",
    "print(f\"The {k}th smallest element is {kthSmallest(root, k)}\") \n"
   ]
  },
  {
   "cell_type": "markdown",
   "id": "e994d1e5-ef0a-410c-b6f8-448b65979164",
   "metadata": {},
   "source": [
    "**Time Complexity**: Best case O(k), Worst case O(N), where N is the number of nodes in the tree.  \n",
    "**Space Complexity**: O(log N) for a balanced tree, O(N) for a skewed tree due to stack usage.\n"
   ]
  },
  {
   "cell_type": "markdown",
   "id": "db4683e6-0976-4ca5-88d9-df84a0480904",
   "metadata": {},
   "source": [
    "### [4. Inorder Successor in BST](https://leetcode.com/problems/inorder-successor-in-bst/)\n",
    "**Difficulty**: Medium  \n",
    "**Time**: 30 mins\n",
    "\n",
    "#### Problem Statement:\n",
    "Given a binary search tree and a node `p` in it, find the inorder successor of that node in the BST. The inorder successor of a node is the node with the smallest key greater than `p`'s key. If there is no such node, return `null`.\n",
    "\n",
    "#### Sample Input:\n",
    "```plaintext\n",
    "root = [2,1,3], p = 1\n",
    "```\n",
    "\n",
    "#### Sample Output:\n",
    "```plaintext\n",
    "2\n",
    "```"
   ]
  },
  {
   "cell_type": "code",
   "execution_count": 4,
   "id": "7e84d067-44e9-4cc2-94c3-1649a4c409cc",
   "metadata": {},
   "outputs": [
    {
     "name": "stdout",
     "output_type": "stream",
     "text": [
      "Successor of 3 is 4\n"
     ]
    }
   ],
   "source": [
    "class TreeNode:\n",
    "    def __init__(self, val=0, left=None, right=None):\n",
    "        # Initialize a binary tree node with a value, \n",
    "        # and optional left and right child nodes\n",
    "        self.val = val\n",
    "        self.left = left\n",
    "        self.right = right\n",
    "\n",
    "def inorderSuccessor(root: TreeNode, p: TreeNode) -> TreeNode:\n",
    "    \"\"\"\n",
    "    Finds the inorder successor of a given node `p` \n",
    "    in a binary search tree (BST).\n",
    "    The inorder successor of a node is the node with the \n",
    "    smallest value greater than the given node.\n",
    "    \"\"\"\n",
    "    # Initialize the variable to keep track of the potential successor\n",
    "    successor = None\n",
    "\n",
    "    # Traverse the tree to find the inorder successor\n",
    "    while root:\n",
    "        if p.val >= root.val:\n",
    "            # If the value of `p` is greater than or \n",
    "            # equal to the current root's value,\n",
    "            # move to the right subtree (inorder successor must be larger).\n",
    "            root = root.right\n",
    "        else:\n",
    "            # If the value of `p` is less than the current root's value,\n",
    "            # the current root is a potential successor. Save it.\n",
    "            successor = root\n",
    "            # Move to the left subtree to continue searching \n",
    "            # for a smaller valid successor.\n",
    "            root = root.left\n",
    "\n",
    "    # Return the found successor, or None if no successor exists.\n",
    "    return successor\n",
    "\n",
    "# Sample Test Case\n",
    "# Construct the BST:\n",
    "#         5\n",
    "#       /   \\\n",
    "#      3     6\n",
    "#     / \\\n",
    "#    2   4\n",
    "#   /\n",
    "#  1\n",
    "root = TreeNode(5)\n",
    "root.left = TreeNode(3)\n",
    "root.right = TreeNode(6)\n",
    "root.left.left = TreeNode(2)\n",
    "root.left.right = TreeNode(4)\n",
    "root.left.left.left = TreeNode(1)\n",
    "\n",
    "# Define the target node `p` (node with value 3)\n",
    "p = root.left  # Node with value 3\n",
    "\n",
    "# Find the inorder successor of `p`\n",
    "successor = inorderSuccessor(root, p)\n",
    "\n",
    "# Print the result with an explanation\n",
    "print(f\"Successor of {p.val} is {successor.val if successor else 'None'}\")\n",
    "# Output: Successor of 3 is 4\n"
   ]
  },
  {
   "cell_type": "markdown",
   "id": "af0c1c41-600f-4dc3-938d-351b732e594a",
   "metadata": {},
   "source": [
    "**Time Complexity**: O(h), where h is the height of the tree, as we traverse from the root to a leaf in the worst case.  \n",
    "**Space Complexity**: O(1), as no additional space is used other than a few variables.  \n"
   ]
  },
  {
   "cell_type": "markdown",
   "id": "b23358d0-535a-4db7-a026-c0af94257f0a",
   "metadata": {},
   "source": [
    "### [5. Convert Sorted Array to Binary Search Tree](https://leetcode.com/problems/convert-sorted-array-to-binary-search-tree/)\n",
    "**Difficulty**: Easy  \n",
    "**Time**: 20 mins\n",
    "\n",
    "#### Problem Statement:\n",
    "Given an integer array `nums` where the elements are sorted in **ascending** order, convert it to a height-balanced binary search tree (BST).\n",
    "\n",
    "#### Sample Input:\n",
    "```plaintext\n",
    "nums = [-10,-3,0,5,9]\n",
    "```\n",
    "\n",
    "#### Sample Output:\n",
    "```plaintext\n",
    "[0,-3,9,-10,null,5]\n",
    "```"
   ]
  },
  {
   "cell_type": "code",
   "execution_count": 5,
   "id": "952d1062-70a2-4efb-9016-1bd5ee142e0b",
   "metadata": {},
   "outputs": [
    {
     "name": "stdout",
     "output_type": "stream",
     "text": [
      "In-order traversal of the constructed BST: [-10, -3, 0, 5, 9]\n"
     ]
    }
   ],
   "source": [
    "class TreeNode:\n",
    "    # Definition of a binary tree node.\n",
    "    def __init__(self, val=0, left=None, right=None):\n",
    "        self.val = val  # Value of the node\n",
    "        self.left = left  # Left child of the node\n",
    "        self.right = right  # Right child of the node\n",
    "\n",
    "def sortedArrayToBST(nums: list) -> TreeNode:\n",
    "    \"\"\"\n",
    "    Converts a sorted array into a height-balanced binary search tree (BST).\n",
    "\n",
    "    A height-balanced binary tree is defined as a binary tree in \n",
    "    which the depth of the two subtrees of every node never \n",
    "    differs by more than one.\n",
    "\n",
    "    Args:\n",
    "        nums (list): A sorted (ascending) list of integers.\n",
    "\n",
    "    Returns:\n",
    "        TreeNode: The root of the height-balanced BST.\n",
    "    \"\"\"\n",
    "    if not nums:  # Base case: If the array is empty, return None.\n",
    "        return None\n",
    "\n",
    "    # Find the middle index of the array. This ensures the tree is balanced.\n",
    "    mid = len(nums) // 2\n",
    "\n",
    "    # Create a new tree node with the value at the middle of the array.\n",
    "    root = TreeNode(nums[mid])\n",
    "\n",
    "    # Recursively build the left subtree using the left half of the array.\n",
    "    root.left = sortedArrayToBST(nums[:mid])\n",
    "\n",
    "    # Recursively build the right subtree using the right half of the array.\n",
    "    root.right = sortedArrayToBST(nums[mid+1:])\n",
    "\n",
    "    return root  # Return the root of the constructed BST.\n",
    "\n",
    "# Sample test case\n",
    "nums = [-10, -3, 0, 5, 9]  # Input sorted array\n",
    "root = sortedArrayToBST(nums)  # Construct BST from the array\n",
    "\n",
    "def inOrderTraversal(root):\n",
    "    \"\"\"\n",
    "    Performs an in-order traversal of a binary tree.\n",
    "\n",
    "    In-order traversal visits nodes in ascending order for a BST:\n",
    "    1. Visit the left subtree\n",
    "    2. Visit the root node\n",
    "    3. Visit the right subtree\n",
    "\n",
    "    Args:\n",
    "        root (TreeNode): The root of the binary tree.\n",
    "\n",
    "    Returns:\n",
    "        list: A list of values obtained from the in-order traversal.\n",
    "    \"\"\"\n",
    "    if root is None:  # Base case: If the tree is empty, return an empty list.\n",
    "        return []\n",
    "\n",
    "    # Traverse left subtree, visit root, then traverse right subtree.\n",
    "    return (\n",
    "        inOrderTraversal(root.left) +  # Traverse the left subtree\n",
    "        [root.val] +                   # Visit the root node\n",
    "        inOrderTraversal(root.right)   # Traverse the right subtree\n",
    "    )\n",
    "\n",
    "# Print the in-order traversal of the constructed BST.\n",
    "print(\"In-order traversal of the constructed BST:\", inOrderTraversal(root))\n",
    "# Output: In-order traversal of the constructed BST: [-10, -3, 0, 5, 9]\n"
   ]
  },
  {
   "cell_type": "markdown",
   "id": "3e798762-d6e0-4e2a-bba3-4a0eedd1311b",
   "metadata": {},
   "source": [
    "**Time Complexity**: O(n), where n is the number of elements in the array, as each element is processed exactly once.  \n",
    "**Space Complexity**: O(log n) for the recursion stack, as the tree height for a balanced BST is log(n) in the worst case.\n"
   ]
  },
  {
   "cell_type": "code",
   "execution_count": null,
   "id": "9c4b4b8a-ef99-43bf-ba58-2c2ac98e3507",
   "metadata": {},
   "outputs": [],
   "source": []
  }
 ],
 "metadata": {
  "kernelspec": {
   "display_name": "Python 3 (ipykernel)",
   "language": "python",
   "name": "python3"
  },
  "language_info": {
   "codemirror_mode": {
    "name": "ipython",
    "version": 3
   },
   "file_extension": ".py",
   "mimetype": "text/x-python",
   "name": "python",
   "nbconvert_exporter": "python",
   "pygments_lexer": "ipython3",
   "version": "3.11.7"
  },
  "widgets": {
   "application/vnd.jupyter.widget-state+json": {
    "state": {},
    "version_major": 2,
    "version_minor": 0
   }
  }
 },
 "nbformat": 4,
 "nbformat_minor": 5
}
