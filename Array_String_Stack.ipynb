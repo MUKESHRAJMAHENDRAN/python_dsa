{
 "cells": [
  {
   "cell_type": "markdown",
   "id": "fbb512d7-81a1-4fa9-a444-c90df3186366",
   "metadata": {},
   "source": [
    "# [1. Two Sum Problem](https://leetcode.com/problems/two-sum/description/)\n",
    "\n",
    "Given an array of integers `nums` and an integer `target`, return the indices of the two numbers such that they add up to `target`.\n",
    "\n",
    "## Example\n",
    "\n",
    "- **Input**: \n",
    "  - `nums = [2, 7, 11, 15]`\n",
    "  - `target = 9`\n",
    "- **Output**: \n",
    "  - `[0, 1]`\n",
    "- **Explanation**: \n",
    "  - `nums[0] + nums[1] = 2 + 7 = 9`, so return `[0, 1]`.\n",
    "\n",
    "## Note\n",
    "\n",
    "- Each input would have exactly one solution.\n",
    "- You may not use the same element twice."
   ]
  },
  {
   "cell_type": "code",
   "execution_count": 1,
   "id": "b680a8c3-7f39-4fda-b7f1-880fcedd46b1",
   "metadata": {},
   "outputs": [
    {
     "name": "stdout",
     "output_type": "stream",
     "text": [
      "[1, 4]\n"
     ]
    }
   ],
   "source": [
    "def two_sum_sorted(nums, target):\n",
    "    # Start with two pointers: one at the beginning \n",
    "    # and one at the end of the array\n",
    "    left, right = 0, len(nums) - 1\n",
    "\n",
    "    # Continue looping until the two pointers cross each other\n",
    "    while left < right:\n",
    "        # Calculate the sum of the elements pointed by the left \n",
    "        # and right pointers\n",
    "        current_sum = nums[left] + nums[right]\n",
    "\n",
    "        # If the current sum is equal to the target, we have \n",
    "        # found the solution\n",
    "        if current_sum == target:\n",
    "            # Returning indices, or you could \n",
    "            # return [nums[left], nums[right]]\n",
    "            # to get the actual numbers\n",
    "            return [left, right]  \n",
    "\n",
    "        # If the current sum is less than the target, we need a larger sum\n",
    "        # Increment the left pointer to move to a bigger number\n",
    "        elif current_sum < target:\n",
    "            left += 1\n",
    "\n",
    "        # If the current sum is more than the target, we need a smaller sum\n",
    "        # Decrement the right pointer to move to a smaller number\n",
    "        else:\n",
    "            right -= 1\n",
    "\n",
    "    # If no such pair is found that adds up to the target, \n",
    "    # return an empty list\n",
    "    return []\n",
    "\n",
    "# Example usage\n",
    "# Consider a sorted array where you want two numbers \n",
    "# to add up to a specific target\n",
    "nums = [1, 2, 4, 5, 6, 10]  # This is a sorted array\n",
    "target = 8\n",
    "result = two_sum_sorted(nums, target)\n",
    "print(result)  \n",
    "# This should print indices like [1, 4], corresponding to numbers 2 and 6"
   ]
  },
  {
   "cell_type": "markdown",
   "id": "501e39c8-1116-4c10-8ab8-3f84bceea668",
   "metadata": {},
   "source": [
    "- **Time Complexity**: \\(O(n)\\)\n",
    "    - We use a two-pointer approach, which requires a single pass through the array. Each move (either `left += 1` or `right -= 1`) brings us closer to the solution, making this a linear-time algorithm.\n",
    "- **Space Complexity**: \\(O(1)\\)\n",
    "    - The algorithm uses only a constant amount of space for the pointers `left` and `right`, so no additional space grows with input size."
   ]
  },
  {
   "cell_type": "code",
   "execution_count": 2,
   "id": "85002200-81b4-44a9-b163-b39e261eb96f",
   "metadata": {},
   "outputs": [
    {
     "name": "stdout",
     "output_type": "stream",
     "text": [
      "[0, 1]\n"
     ]
    }
   ],
   "source": [
    "def two_sum(nums, target):\n",
    "    # Dictionary to store the complement and its index\n",
    "    num_to_index = {}\n",
    "\n",
    "    # Iterate over the list to find the two numbers\n",
    "    for index, num in enumerate(nums):\n",
    "        # Calculate the complement\n",
    "        complement = target - num\n",
    "\n",
    "        # If the complement exists in the dictionary, we found a solution\n",
    "        if complement in num_to_index:\n",
    "            return [num_to_index[complement], index]\n",
    "\n",
    "        # Otherwise, store the number with its index\n",
    "        num_to_index[num] = index\n",
    "\n",
    "    # Return an empty list if no solution is found - \n",
    "    # though per the problem statement,\n",
    "    # there should always be one solution.\n",
    "    return []\n",
    "\n",
    "# Example usage:\n",
    "nums = [2, 7, 11, 15]\n",
    "target = 9\n",
    "print(two_sum(nums, target))  # Output: [0, 1]"
   ]
  },
  {
   "cell_type": "markdown",
   "id": "b6d91611-6198-4a2b-bd5b-306b0a86bfa4",
   "metadata": {},
   "source": [
    "1. **Iteration 1**: Index 0, Number 2 → Complement 7 (not in `num_to_index`), store `{2: 0}`.\n",
    "2. **Iteration 2**: Index 1, Number 7 → Complement 2 (found in `num_to_index`), return `[0, 1]`."
   ]
  },
  {
   "cell_type": "markdown",
   "id": "cb507fd2-17a0-477d-9c80-1ba015b6bfdc",
   "metadata": {},
   "source": [
    "- **Time Complexity**: \\(O(n)\\)\n",
    "    - We iterate through the list once, checking and updating the hash map with each element. Each lookup and insertion in a hash map is \\(O(1)\\) on average, making the total time complexity linear.\n",
    "- **Space Complexity**: \\(O(n)\\)\n",
    "    - In the worst case, we store all elements of the input array in the hash map, so space complexity is linear."
   ]
  },
  {
   "cell_type": "markdown",
   "id": "8a1b25aa-befc-4fe9-a7ed-ef551fd948d3",
   "metadata": {},
   "source": [
    "# [2. Contains Duplicate](https://leetcode.com/problems/contains-duplicate/description/)\n",
    "\n",
    "The problem is to determine if a given list of integers, `nums`, contains any duplicates. A duplicate value means that there is at least one integer that appears more than once in the list. The function should return `True` if there are any duplicates and `False` otherwise.\n",
    "\n",
    "### Sample Input and Output\n",
    "\n",
    "Example:\n",
    "\n",
    "- **Input**: `[1, 2, 3, 1]`\n",
    "- **Output**: `True`\n",
    "\n",
    "Explanation: The integer `1` appears twice in the list, thus the output is `True`."
   ]
  },
  {
   "cell_type": "code",
   "execution_count": 3,
   "id": "4471ba90-74d6-49ff-b3b7-0cdfe72fb24c",
   "metadata": {},
   "outputs": [],
   "source": [
    "from typing import List\n",
    "class Solution:\n",
    "    def containsDuplicate(self, nums: List[int]) -> bool:\n",
    "        # Initialize an empty set to keep track of unique elements encountered\n",
    "        unique_set = set()\n",
    "\n",
    "        # Iterate over each element in the input list\n",
    "        for i in nums:\n",
    "            # Check if the element is already in the set\n",
    "            if i in unique_set:\n",
    "                # If found in the set, it's a duplicate, return True\n",
    "                return True\n",
    "            # Add the element to the set since it's unique so far\n",
    "            unique_set.add(i)\n",
    "\n",
    "        # If loop completes without returning True, all elements are unique\n",
    "        return False"
   ]
  },
  {
   "cell_type": "code",
   "execution_count": 4,
   "id": "a19acaf9-f253-43eb-9051-ecb22765a67e",
   "metadata": {},
   "outputs": [
    {
     "name": "stdout",
     "output_type": "stream",
     "text": [
      "False\n"
     ]
    }
   ],
   "source": [
    "solution = Solution()\n",
    "result = solution.containsDuplicate([1, 2, 3, 4])\n",
    "print(result)  # Expected output: False"
   ]
  },
  {
   "cell_type": "markdown",
   "id": "cb9d24bb-af75-429e-ac59-165aad6e4037",
   "metadata": {},
   "source": [
    "### Complexity Analysis\n",
    "\n",
    "- **Time Complexity**: O(n), where n is the number of elements in the list `nums`. This is because we iterate over each element of the list once.\n",
    "\n",
    "- **Space Complexity**: O(n) in the worst case, where n is the total number of unique elements, which depends on how many unique elements can exist in the given list."
   ]
  },
  {
   "cell_type": "markdown",
   "id": "65417b55-80eb-4cd5-9d1b-c04e18c995b8",
   "metadata": {},
   "source": [
    "# [3. Majority Element](https://leetcode.com/problems/majority-element/submissions/1309541135/)\n",
    "\n",
    "The problem requires finding the majority element in an array, which is defined as the element that appears more than `n/2` times, where `n` is the length of the array. One viable algorithm to solve this problem efficiently is the Boyer-Moore Voting Algorithm. This algorithm aims to find a candidate for the majority element with linear time complexity and constant space complexity by progressively canceling out the counts of different elements.\n",
    "\n",
    "### Sample Input and Output\n",
    "\n",
    "**Input:** `[3, 2, 3]`  \n",
    "**Output:** `3`\n",
    "\n",
    "**Input:** `[2, 2, 1, 1, 1, 2, 2]`  \n",
    "**Output:** `2`\n",
    "\n",
    "Here, in the first test case, the number `3` appears `2` times out of `3`, which is more than half the size of the array. In the second test case, `2` appears `4` times out of `7`."
   ]
  },
  {
   "cell_type": "code",
   "execution_count": 5,
   "id": "85420219-9a36-4edd-ab8d-6d14bf7d3068",
   "metadata": {},
   "outputs": [
    {
     "name": "stdout",
     "output_type": "stream",
     "text": [
      "3\n"
     ]
    }
   ],
   "source": [
    "class Solution:\n",
    "    def majorityElement(self, nums: List[int]) -> int:\n",
    "        # Initialize a counter to zero\n",
    "        count = 0\n",
    "        # This variable will hold the candidate for the majority element\n",
    "        majority_element = None\n",
    "\n",
    "        # Iterate through each number in the array\n",
    "        for num in nums:\n",
    "            # When count is zero, choose the current element \n",
    "            # as a new candidate\n",
    "            if count == 0:\n",
    "                majority_element = num\n",
    "                count += 1\n",
    "            elif num == majority_element:\n",
    "                # If the current element is the same as the candidate, \n",
    "                # increment the count\n",
    "                count += 1\n",
    "            else:\n",
    "                # If the current element is different, decrement the count\n",
    "                count -= 1\n",
    "\n",
    "        # Return the candidate as it will be the majority element\n",
    "        return majority_element\n",
    "\n",
    "# Example test case\n",
    "solution = Solution()\n",
    "test_case = [3, 2, 3]\n",
    "print(solution.majorityElement(test_case))  # Output: 3"
   ]
  },
  {
   "cell_type": "markdown",
   "id": "afaddefb-ab87-43a1-b77b-950edfc4610a",
   "metadata": {},
   "source": [
    "### Time and Space Complexity\n",
    "\n",
    "- **Time Complexity:** O(n), where n is the number of elements in the list. We traverse through the list only once.\n",
    "- **Space Complexity:** O(1), as we are using only a few additional variables, independent of the input size."
   ]
  },
  {
   "cell_type": "markdown",
   "id": "5fa862e5-1bef-48c9-a429-4d86ee53d8eb",
   "metadata": {},
   "source": [
    "## [4. Valid anagram](https://leetcode.com/problems/valid-anagram/description/)\n",
    "\n",
    "**Problem Statement:**  \n",
    "Given two strings `s` and `t`, determine if `t` is an anagram of `s`. Two strings are anagrams if one string can be rearranged to form the other string. Both strings consist of lowercase Latin letters.\n",
    "\n",
    "**Sample Input:**  \n",
    "- `s = \"anagram\"`\n",
    "- `t = \"nagaram\"`\n",
    "\n",
    "**Sample Output:**  \n",
    "- `True`\n",
    "\n",
    "**Explanation:**  \n",
    "The string \"nagaram\" is a rearrangement of the string \"anagram\". Both strings have the same character counts, hence they are anagrams."
   ]
  },
  {
   "cell_type": "code",
   "execution_count": 6,
   "id": "62a669e5-0cb5-4de3-b668-5104d4569f5e",
   "metadata": {},
   "outputs": [],
   "source": [
    "class Solution:\n",
    "    def isAnagram(self, s: str, t: str) -> bool:\n",
    "        # Check if the lengths of the strings are the same.\n",
    "        # If not, they can't be anagrams and we can immediately return False.\n",
    "        if len(s) != len(t):\n",
    "            return False\n",
    "\n",
    "        # Create two dictionaries to store the frequency of each character.\n",
    "        count_s, count_t = {}, {}\n",
    "\n",
    "        # Loop through both strings simultaneously by their indices.\n",
    "        for i in range(len(s)):\n",
    "            # Increment the character count for the \n",
    "            # current character in string s\n",
    "            # Retrieve the current count from count_s using get, \n",
    "            # which defaults \n",
    "            # to 0 if the character is not found.\n",
    "            count_s[s[i]] = 1 + count_s.get(s[i], 0)\n",
    "\n",
    "            # Similarly, increment the character count for the current character \n",
    "            # in string t\n",
    "            count_t[t[i]] = 1 + count_t.get(t[i], 0)\n",
    "\n",
    "        # Compare the dictionaries after processing both strings.\n",
    "        # If they're identical, it means both strings have the same character \n",
    "        # counts and are anagrams.\n",
    "        return count_s == count_t"
   ]
  },
  {
   "cell_type": "code",
   "execution_count": 7,
   "id": "1b984b6a-c0a3-43c7-8423-6006c4b1f917",
   "metadata": {},
   "outputs": [
    {
     "name": "stdout",
     "output_type": "stream",
     "text": [
      "True\n"
     ]
    }
   ],
   "source": [
    "# Create an instance of the Solution class\n",
    "solution = Solution()\n",
    "\n",
    "# Test case: Check if \"cinema\" is an anagram of \"iceman\"\n",
    "result = solution.isAnagram(\"cinema\", \"iceman\")\n",
    "print(result)  # Output: True"
   ]
  },
  {
   "cell_type": "markdown",
   "id": "0ddb5f68-1427-4951-a905-84c68adfa47b",
   "metadata": {},
   "source": [
    "## Time and Space Complexity\n",
    "\n",
    "- **Time Complexity:** O(n), where n is the length of the strings. We loop over the strings only once.\n",
    "\n",
    "- **Space Complexity:** O(1), because the primary data structures used (the dictionaries) utilize a constant amount of space relative to the problem size given the fixed character set constraint (26 lowercase letters)."
   ]
  },
  {
   "cell_type": "markdown",
   "id": "02d763b8-49b9-41b8-b73c-5a2e40951f81",
   "metadata": {},
   "source": [
    "## [5. Group Anagrams](https://leetcode.com/problems/group-anagrams/description/)\n",
    "\n",
    "Given an array of strings, group the anagrams together. An anagram is a word formed by rearranging the letters of another word. \n",
    "\n",
    "You can return the answer in any order— the main requirement is that all anagrams are grouped together in sublists.\n",
    "\n",
    "### Example:\n",
    "\n",
    "#### Input:\n",
    "```plaintext\n",
    "strs = [\"eat\", \"tea\", \"tan\", \"ate\", \"nat\", \"bat\"]\n",
    "output = [[\"eat\", \"tea\", \"ate\"],[\"tan\", \"nat\"],[\"bat\"]]\n",
    "```"
   ]
  },
  {
   "cell_type": "code",
   "execution_count": 8,
   "id": "959430ad-9fe6-4ac0-a413-a446f22f1f56",
   "metadata": {},
   "outputs": [
    {
     "name": "stdout",
     "output_type": "stream",
     "text": [
      "[['eat', 'tea', 'ate'], ['tan', 'nat'], ['bat']]\n"
     ]
    }
   ],
   "source": [
    "from collections import defaultdict\n",
    "\n",
    "def groupAnagrams(strs):\n",
    "    anagrams = defaultdict(list)\n",
    "\n",
    "    for s in strs:\n",
    "        # Initialize count array\n",
    "        count = [0] * 26  # There are 26 possible lowercase characters\n",
    "\n",
    "        # Count the frequency of each character in the string\n",
    "        for char in s:\n",
    "            count[ord(char) - ord('a')] += 1\n",
    "\n",
    "        # Use the tuple of counts as the key in the hashmap\n",
    "        key = tuple(count)\n",
    "        anagrams[key].append(s)\n",
    "    # Return all values in the dictionary as a list of lists\n",
    "    return list(anagrams.values())\n",
    "\n",
    "# Example usage:\n",
    "strs = [\"eat\", \"tea\", \"tan\", \"ate\", \"nat\", \"bat\"]\n",
    "print(groupAnagrams(strs))"
   ]
  },
  {
   "cell_type": "markdown",
   "id": "9306d4c4-ab42-4b2e-90ab-66d9c57a0cd0",
   "metadata": {},
   "source": [
    "- **Time Complexity:** \\(O(NK)\\), where \\(N\\) is the number of strings, and \\(K\\) is the maximum length of a string, as we iterate through each character of every string.\n",
    "- **Space Complexity:** \\(O(NK)\\) for storing the grouped anagrams in the dictionary."
   ]
  },
  {
   "cell_type": "markdown",
   "id": "bf77d6f1-b2d5-48f0-887b-5f4121aff4c5",
   "metadata": {},
   "source": [
    "## [6. Longest Substring Without Repeating Characters](https://leetcode.com/problems/longest-substring-without-repeating-characters/description/)\n",
    "\n",
    "The objective is to find the length of the longest substring without repeating characters in a given string `s`. A substring is a contiguous sequence of characters within the string. The challenge is to efficiently manage and track these characters to determine the maximum possible length of such substrings without repetition.\n",
    "\n",
    "### Sample Input and Output\n",
    "\n",
    "- **Input:** `s = \"abcabcbb\"`\n",
    "- **Output:** `3`\n",
    "- **Explanation:** The longest substring without repeating characters is \"abc\", with a length of 3."
   ]
  },
  {
   "cell_type": "code",
   "execution_count": 9,
   "id": "20a31c34-d6bb-4ff1-a428-0ff223da65c0",
   "metadata": {},
   "outputs": [
    {
     "name": "stdout",
     "output_type": "stream",
     "text": [
      "3\n"
     ]
    }
   ],
   "source": [
    "class Solution:\n",
    "    def lengthOfLongestSubstring(self, s: str) -> int:\n",
    "        unique_set = set()  # A set to store unique characters of the current substring\n",
    "        left_pointer = 0    # The starting index of the current substring\n",
    "        max_length = 0      # Variable to keep track of the maximum length found\n",
    "\n",
    "        # Iterate over each character in the string 's' using 'right_pointer' as the index\n",
    "        for right_pointer, char in enumerate(s):\n",
    "            # If the character is already in the set, move the left_pointer to the right\n",
    "            # until the character is removed from the current substring\n",
    "            while char in unique_set:\n",
    "                unique_set.remove(s[left_pointer])  # Remove the character at left_pointer from the set\n",
    "                left_pointer += 1                   # Increment left_pointer to narrow the window\n",
    "\n",
    "            # Add the new unique character to the set\n",
    "            unique_set.add(char)\n",
    "\n",
    "            # Calculate the length of the current substring and update max_length if it's larger\n",
    "            max_length = max(max_length, right_pointer - left_pointer + 1)\n",
    "\n",
    "        return max_length\n",
    "\n",
    "# Example Test Case\n",
    "solution = Solution()\n",
    "s = \"abcabcbb\"\n",
    "print(solution.lengthOfLongestSubstring(s))  # Output: 3"
   ]
  },
  {
   "cell_type": "markdown",
   "id": "a29f17eb-ae88-4876-b1de-080210b9608d",
   "metadata": {},
   "source": [
    "- **Time Complexity:** O(n), where n is the length of the string `s`, as each character is processed at most twice (once when added to the set and once when removed).\n",
    "- **Space Complexity:** O(min(m, n)), where m is the size of the character set (unique characters that can be in `s`) and n is the length of the string. This is due to the space used by the set to store the current substring's characters."
   ]
  },
  {
   "cell_type": "markdown",
   "id": "64ab1ba6-5b12-4733-b580-78b4a98c2c7c",
   "metadata": {},
   "source": [
    "# [7. Subarray Sum Equals K](https://leetcode.com/problems/subarray-sum-equals-k/)\n",
    "\n",
    "## Description\n",
    "Given an integer array `nums` and an integer `k`, you need to find the total number of continuous subarrays whose sum equals to `k`.\n",
    "\n",
    "## Example\n",
    "\n",
    "### Input\n",
    "- `nums = [1, 1, 1]`\n",
    "- `k = 2`\n",
    "\n",
    "### Output\n",
    "- `2`\n",
    "\n",
    "### Explanation\n",
    "The array has the following subarrays whose sum equals `2`:\n",
    "1. The subarray `[1, 1]` starting from index `0` to `1`.\n",
    "2. The subarray `[1, 1]` starting from index `1` to `2`.\n",
    "\n",
    "## Constraints\n",
    "- The length of the array `nums` will be between `1` and `20,000`.\n",
    "- Elements of `nums` will be integers ranging from `-1000` to `1000`.\n",
    "- The integer `k` will be in the range of `-1e7` to `1e7`."
   ]
  },
  {
   "cell_type": "code",
   "execution_count": 10,
   "id": "92621afb-2ff4-49aa-81a2-8ddff5664943",
   "metadata": {},
   "outputs": [
    {
     "name": "stdout",
     "output_type": "stream",
     "text": [
      "2\n"
     ]
    }
   ],
   "source": [
    "def subarraySum(nums, k):\n",
    "    # Initialize count of subarrays found\n",
    "    count = 0\n",
    "    # This variable keeps track of the cumulative sum up to the current position in the array\n",
    "    current_sum = 0\n",
    "    # Using a dictionary to map cumulative sums to their counts\n",
    "    # Start with the base case: the cumulative sum of 0 has occurred once\n",
    "    prefix_sum_count = {0: 1}\n",
    "\n",
    "    # Iterate over each number in the input array\n",
    "    for num in nums:\n",
    "        # Update the cumulative sum by adding the current number\n",
    "        current_sum += num\n",
    "\n",
    "        # Calculate the needed sum which, when subtracted from current_sum, would equal k\n",
    "        needed_sum = current_sum - k\n",
    "\n",
    "        # Check if needed_sum is already in the prefix_sum_count map\n",
    "        # If it is, increment the count by the number of times needed_sum has occurred\n",
    "        if needed_sum in prefix_sum_count:\n",
    "            count += prefix_sum_count[needed_sum]\n",
    "\n",
    "        # Update the hashmap with the current cumulative sum\n",
    "        # If it exists already, increment its count, otherwise add it with a count of 1\n",
    "        prefix_sum_count[current_sum] = prefix_sum_count.get(current_sum, 0) + 1\n",
    "\n",
    "    # Return the total count of subarrays found that sum to k\n",
    "    return count\n",
    "\n",
    "# Example usage\n",
    "nums = [1, 2, 3]\n",
    "k = 3\n",
    "print(subarraySum(nums, k))  # Output will be 2 (subarrays are [1, 2] and [3])"
   ]
  },
  {
   "cell_type": "markdown",
   "id": "dac1a504-64dd-4db8-8a6c-e2307a912830",
   "metadata": {},
   "source": [
    "## Example: nums = [1, 2, 3], k = 3\n",
    "\n",
    "### Iteration Details:\n",
    "\n",
    "1. **When `num = 1`:**\n",
    "   - `current_sum = 1`, `needed_sum = -2`.\n",
    "   - `-2` is not in `prefix_sum_count`; `count` remains 0.\n",
    "   - Update `prefix_sum_count` to `{0: 1, 1: 1}`.\n",
    "\n",
    "2. **When `num = 2`:**\n",
    "   - `current_sum = 3`, `needed_sum = 0`.\n",
    "   - `0` is in `prefix_sum_count` (once), indicating one subarray ([1, 2]) sums to `k`.\n",
    "   - Increment `count` to 1.\n",
    "   - Update `prefix_sum_count` to `{0: 1, 1: 1, 3: 1}`.\n",
    "\n",
    "3. **When `num = 3`:**\n",
    "   - `current_sum = 6`, `needed_sum = 3`.\n",
    "   - `3` is in `prefix_sum_count` (once), indicating another subarray ([3]) sums to `k`.\n",
    "   - Increment `count` to 2.\n",
    "   - Update `prefix_sum_count` to `{0: 1, 1: 1, 3: 1, 6: 1}`.\n",
    "\n",
    "### Conclusion:\n",
    "There are two subarrays that sum to `k`. The function returns `2`."
   ]
  },
  {
   "cell_type": "markdown",
   "id": "59e5708d-b791-4c96-830a-7ed3c5ea6c80",
   "metadata": {},
   "source": [
    "## Complexity Analysis\n",
    "\n",
    "- **Time Complexity:** `O(n)`, where `n` is the number of elements in the array. This is because we traverse the array only once.\n",
    "- **Space Complexity:** `O(n)`, due to the potential storage needed for the cumulative sums in the HashMap."
   ]
  },
  {
   "cell_type": "markdown",
   "id": "bef044eb-23b3-49ce-8ac1-fb82e927bcad",
   "metadata": {},
   "source": [
    "### [8. Find All Anagrams in a String](https://leetcode.com/problems/find-all-anagrams-in-a-string/description/)\n",
    "\n",
    "Given two strings `s` and `p`, return an array of all the start indices of `p`'s anagrams in `s`. You may return the answer in any order.\n",
    "\n",
    "#### Example 1:\n",
    "\n",
    "- **Input:** `s = \"cbaebabacd\"`, `p = \"abc\"`\n",
    "- **Output:** `[0,6]`\n",
    "- **Explanation:**\n",
    "  - The substring with start index = 0 is `\"cba\"`, which is an anagram of `\"abc\"`.\n",
    "  - The substring with start index = 6 is `\"bac\"`, which is an anagram of `\"abc\"`.\n",
    "\n",
    "#### Constraints:\n",
    "- The length of both input strings may vary based on specific problem requirements (not specified here)."
   ]
  },
  {
   "cell_type": "code",
   "execution_count": 11,
   "id": "67d1b9b6-ebbf-40e6-a3e6-b1ead7974e47",
   "metadata": {},
   "outputs": [],
   "source": [
    "from collections import Counter\n",
    "class Solution:\n",
    "    def findAnagrams(self, s: str, p: str) -> List[int]:\n",
    "        # If the length of p is greater than the length of s, it's impossible to have an anagram.\n",
    "        if len(p) > len(s):\n",
    "            return []\n",
    "\n",
    "        # Initialize a Counter to track the current window's character counts in s.\n",
    "        s_count = Counter()\n",
    "        # Initialize a Counter with the character counts of string p.\n",
    "        p_count = Counter(p)\n",
    "        # This will store the starting indices of the anagrams of p in s.\n",
    "        result = []\n",
    "\n",
    "        # Length of the string p to define the sliding window's length.\n",
    "        p_len = len(p)\n",
    "\n",
    "        # Iterate over each character in the string s.\n",
    "        for i in range(len(s)):\n",
    "            # Add the current character to the sliding window counter.\n",
    "            s_count[s[i]] += 1\n",
    "            # If the window size exceeds p's length, we need to remove the oldest character.\n",
    "            if i >= p_len:\n",
    "                # Identify the character that is sliding out of the window.\n",
    "                out_char = s[i-p_len]\n",
    "                # If the count of that character is 1, we remove it from the counter.\n",
    "                if s_count[out_char] == 1:\n",
    "                    del s_count[out_char]\n",
    "                else:\n",
    "                    # Otherwise, just decrement its count.\n",
    "                    s_count[out_char] -= 1\n",
    "\n",
    "            # If current window's character count matches p's character count, we found an anagram.\n",
    "            if s_count == p_count:\n",
    "                # Append the starting index of the anagram.\n",
    "                result.append(i - p_len + 1)\n",
    "\n",
    "        # Return the list of starting indices of anagrams found.\n",
    "        return result"
   ]
  },
  {
   "cell_type": "code",
   "execution_count": 12,
   "id": "ee0dc6d1-f46b-4bb0-a0b6-c64915d0713b",
   "metadata": {},
   "outputs": [
    {
     "name": "stdout",
     "output_type": "stream",
     "text": [
      "Output: [0, 6]\n",
      "Test Passed: True\n"
     ]
    }
   ],
   "source": [
    "s = \"cbaebabacd\"\n",
    "p = \"abc\"\n",
    "expected_output = [0, 6]\n",
    "\n",
    "solution = Solution()\n",
    "result = solution.findAnagrams(s, p)\n",
    "print(\"Output:\", result)  # Should output [0, 6]\n",
    "print(\"Test Passed:\", result == expected_output)  # Should output True"
   ]
  },
  {
   "cell_type": "markdown",
   "id": "001fd135-21c2-432d-80d0-39bb3a1dd2a8",
   "metadata": {},
   "source": [
    "- **Time Complexity:** O(n), where n is the length of the string `s`, since each character is processed at most twice.\n",
    "- **Space Complexity:** O(1), considering the counter size is constant due to the fixed alphabet size."
   ]
  },
  {
   "cell_type": "markdown",
   "id": "1ae14f65-2106-4a37-8b43-781e54ac637b",
   "metadata": {},
   "source": [
    "# [9. Squares of a Sorted Array](https://leetcode.com/problems/squares-of-a-sorted-array/description/)\n",
    "\n",
    "## Problem\n",
    "\n",
    "Given an integer array `nums` sorted in non-decreasing order, return an array of the squares of each number sorted in non-decreasing order.\n",
    "\n",
    "### Example 1:\n",
    "\n",
    "**Input:** `nums = [-4,-1,0,3,10]`  \n",
    "**Output:** `[0,1,9,16,100]`  \n",
    "**Explanation:** After squaring, the array becomes `[16,1,0,9,100]`. After sorting, it becomes `[0,1,9,16,100]`.\n",
    "\n",
    "### Example 2:\n",
    "\n",
    "**Input:** `nums = [-7,-3,2,3,11]`  \n",
    "**Output:** `[4,9,9,49,121]`  \n",
    "\n",
    "## Constraints:\n",
    "\n",
    "- `1 <= nums.length <= 10^4`\n",
    "- `-10^4 <= nums[i] <= 10^4`\n",
    "- `nums` is sorted in non-decreasing order."
   ]
  },
  {
   "cell_type": "code",
   "execution_count": 13,
   "id": "87a7a185-f49b-4e58-aaed-d74ba010fcc0",
   "metadata": {},
   "outputs": [
    {
     "name": "stdout",
     "output_type": "stream",
     "text": [
      "[0, 1, 9, 16, 100]\n"
     ]
    }
   ],
   "source": [
    "def sortedSquares(nums):\n",
    "    # Initialize two pointers: left at the start, right at the end\n",
    "    left = 0\n",
    "    right = len(nums) - 1\n",
    "\n",
    "    # Prepare an output array of the same length as nums initialized with zeros\n",
    "    result = [0] * len(nums)\n",
    "\n",
    "    # Start filling the result array from the last position\n",
    "    position = len(nums) - 1\n",
    "\n",
    "    # Loop until the left pointer exceeds the right pointer\n",
    "    while left <= right:\n",
    "        # Calculate the square of the elements at both pointers\n",
    "        left_square = nums[left] ** 2\n",
    "        right_square = nums[right] ** 2\n",
    "\n",
    "        # Compare squared values: move the larger one to the result[position]\n",
    "        if left_square > right_square:\n",
    "            # If left square is larger, place it at the current position\n",
    "            result[position] = left_square\n",
    "            # Move the left pointer to the right\n",
    "            left += 1\n",
    "        else:\n",
    "            # If right square is larger or equal, place it at the current position\n",
    "            result[position] = right_square\n",
    "            # Move the right pointer to the left\n",
    "            right -= 1\n",
    "\n",
    "        # Move the position backward\n",
    "        position -= 1\n",
    "\n",
    "    return result\n",
    "\n",
    "# Example usage:\n",
    "nums = [-4, -1, 0, 3, 10]\n",
    "print(sortedSquares(nums))  # Output: [0, 1, 9, 16, 100]"
   ]
  },
  {
   "cell_type": "markdown",
   "id": "8e82255a-bffd-44e4-9524-b51d256d281f",
   "metadata": {},
   "source": [
    "- **Time Complexity**: \\(O(n)\\), where \\(n\\) is the length of the input array, because we iterate through the array at most once with both pointers.\n",
    "- **Space Complexity**: \\(O(n)\\), for the output array that stores the squared values."
   ]
  },
  {
   "cell_type": "markdown",
   "id": "239c981a-1430-4036-b653-cc7deff2779f",
   "metadata": {},
   "source": [
    "# [10. 3Sum](https://leetcode.com/problems/3sum/description/)\n",
    "\n",
    "Given an array of `n` integers, find all unique triplets `(a, b, c)` in the array such that `a + b + c = 0`.\n",
    "\n",
    "**Example:**\n",
    "\n",
    "- Input: `[-1, 0, 1, 2, -1, -4]`\n",
    "- Output: `[[-1, 0, 1], [-1, -1, 2]]`"
   ]
  },
  {
   "cell_type": "code",
   "execution_count": 14,
   "id": "35c4f105-4fb1-47af-aa25-477948ea944c",
   "metadata": {},
   "outputs": [
    {
     "name": "stdout",
     "output_type": "stream",
     "text": [
      "[[-1, -1, 2], [-1, 0, 1]]\n"
     ]
    }
   ],
   "source": [
    "from typing import List\n",
    "\n",
    "class Solution:\n",
    "    def threeSum(self, nums: List[int]) -> List[List[int]]:\n",
    "        # Sort the input array to facilitate two-pointer approach\n",
    "        nums.sort()\n",
    "        n = len(nums)\n",
    "        triplets = []  # To store the resulting triplets\n",
    "\n",
    "        # Iterate through the array, treating each number as a \n",
    "        # potential start of a triplet\n",
    "        for i in range(n - 2):\n",
    "            # Since the list is sorted, if the current number is \n",
    "            # greater than zero, \n",
    "            # all further numbers will also be greater than zero, \n",
    "            # making it impossible\n",
    "            # to sum to zero\n",
    "            if nums[i] > 0:\n",
    "                break\n",
    "\n",
    "            # Skip the number if it's the same as the previous \n",
    "            # one to avoid duplicates\n",
    "            if i > 0 and nums[i] == nums[i - 1]:\n",
    "                continue\n",
    "\n",
    "            # Use two pointers to find the other two numbers of the triplet\n",
    "            left, right = i + 1, n - 1\n",
    "\n",
    "            # Continue while the left pointer is less than the right pointer\n",
    "            while left < right:\n",
    "                current_sum = nums[i] + nums[left] + nums[right]\n",
    "\n",
    "                # If the current sum is less than zero, \n",
    "                # move the left pointer to the right\n",
    "                if current_sum < 0:\n",
    "                    left += 1\n",
    "                # If the current sum is greater than zero, \n",
    "                # move the right pointer to the left\n",
    "                elif current_sum > 0:\n",
    "                    right -= 1\n",
    "                # If the current sum is zero, we found a valid triplet\n",
    "                else:\n",
    "                    triplets.append([nums[i], nums[left], nums[right]])\n",
    "\n",
    "                    # Move the left pointer to the right and \n",
    "                    # the right pointer to the left\n",
    "                    left += 1\n",
    "                    right -= 1\n",
    "\n",
    "                    # Skip the same elements to avoid duplicate triplets\n",
    "                    while left < right and nums[left] == nums[left - 1]:\n",
    "                        left += 1\n",
    "                    while left < right and nums[right] == nums[right + 1]:\n",
    "                        right -= 1\n",
    "\n",
    "        return triplets\n",
    "\n",
    "# Example Test Cases\n",
    "solution = Solution()\n",
    "\n",
    "# Test Case 1: Basic Test\n",
    "nums1 = [-1, 0, 1, 2, -1, -4]\n",
    "print(solution.threeSum(nums1))\n",
    "# Possible output: [[-1, -1, 2], [-1, 0, 1]]"
   ]
  },
  {
   "cell_type": "markdown",
   "id": "818fb002-c87e-46b4-b266-7c10db6e77c6",
   "metadata": {},
   "source": [
    "**Time complexity**: O(n^2), where n is the number of elements in the input list, due to the sorting step (O(n log n)) and the nested two-pointer approach (O(n^2)).  \n",
    "**Space complexity**: O(1) if we disregard the space used for the output, as no extra space proportional to input size is used beyond the input array itself."
   ]
  },
  {
   "cell_type": "markdown",
   "id": "17ea9d3e-3b44-4e43-b7a5-059469e5ea38",
   "metadata": {},
   "source": [
    "# [11. 3Sum Closest](https://leetcode.com/problems/3sum-closest/description/)\n",
    "\n",
    "Given an integer array `nums` and an integer `target`, find three integers in `nums` such that the sum is closest to `target`. Return the sum of the three integers. You may assume that each input would have exactly one solution.\n",
    "\n",
    "### Constraints\n",
    "\n",
    "- `3 <= nums.length <= 500`\n",
    "- `-1000 <= nums[i] <= 1000`\n",
    "- `-10^4 <= target <= 10^4`\n",
    "\n",
    "## Examples\n",
    "\n",
    "### Example 1\n",
    "\n",
    "**Input:** nums = [-1, 2, 1, -4],  target = 1\n",
    "\n",
    "**Output:**: 2\n",
    "\n",
    "**Explanation:** The sum that is closest to the target is 2. (-1 + 2 + 1 = 2)"
   ]
  },
  {
   "cell_type": "code",
   "execution_count": 15,
   "id": "1e32bfe7-008c-4aaf-aec3-83bfa9651ea8",
   "metadata": {},
   "outputs": [],
   "source": [
    "class Solution:\n",
    "    def threeSumClosest(self, nums: List[int], target: int) -> int:\n",
    "        # Sort the list to use the two-pointer technique effectively\n",
    "        nums.sort()\n",
    "\n",
    "        # Initialize the closest sum to infinity for comparison\n",
    "        closest_sum = float(\"inf\")\n",
    "\n",
    "        # Length of the list\n",
    "        n = len(nums)\n",
    "\n",
    "        # Loop through each number, treating it as the first number of the triplet\n",
    "        for i in range(n - 2):\n",
    "            # Initialize two pointers, starting after the current number i\n",
    "            left = i + 1\n",
    "            right = n - 1\n",
    "\n",
    "            # Use the two-pointer technique to find the closest sum\n",
    "            while left < right:\n",
    "                # Calculate the current sum of the triplet\n",
    "                current_sum = nums[i] + nums[left] + nums[right]\n",
    "\n",
    "                # If the current sum is exactly the target, return it immediately\n",
    "                if current_sum == target:\n",
    "                    return current_sum\n",
    "\n",
    "                # Check if the current sum is closer to the target than the previously recorded closest sum\n",
    "                if abs(current_sum - target) < abs(closest_sum - target):\n",
    "                    closest_sum = current_sum\n",
    "\n",
    "                # Adjust pointers based on how the current sum compares to the target\n",
    "                if current_sum > target:\n",
    "                    # If current sum is greater than target, move the right pointer left to reduce the sum\n",
    "                    right -= 1\n",
    "                else:\n",
    "                    # If current sum is less than target, move the left pointer right to increase the sum\n",
    "                    left += 1\n",
    "\n",
    "        # Return the closest sum found\n",
    "        return closest_sum"
   ]
  },
  {
   "cell_type": "code",
   "execution_count": 16,
   "id": "b58c6692-fffd-42a2-9152-64471396771e",
   "metadata": {},
   "outputs": [
    {
     "name": "stdout",
     "output_type": "stream",
     "text": [
      "Test Case 1: Expected: 2, Got: 2\n"
     ]
    }
   ],
   "source": [
    "nums = [-1, 2, 1, -4]\n",
    "solution = Solution()\n",
    "target = 1\n",
    "result = solution.threeSumClosest(nums, target)\n",
    "print(f\"Test Case 1: Expected: 2, Got: {result}\")"
   ]
  },
  {
   "cell_type": "markdown",
   "id": "f04c11f4-550e-4450-bd4c-fb04978a1788",
   "metadata": {},
   "source": [
    "- **Time Complexity**: \\(O(n^2)\\), where \\(n\\) is the number of elements in the input list `nums`. This is due to the nested loop created by the two-pointer technique.\n",
    "- **Space Complexity**: \\(O(1)\\), as the algorithm uses a constant amount of extra space regardless of the input size."
   ]
  },
  {
   "cell_type": "markdown",
   "id": "8b299f3c-73f9-4393-a0f9-418fd3d2ffab",
   "metadata": {},
   "source": [
    "## [12. Sort Colors](https://leetcode.com/problems/sort-colors/description/)\n",
    "\n",
    "Given an array `nums` with `n` objects colored red, white, or blue, sort them in-place so that objects of the same color are adjacent, with the colors in the order red, white, and blue.\n",
    "\n",
    "We will use the integers `0`, `1`, and `2` to represent the color red, white, and blue, respectively.\n",
    "\n",
    "You must solve this problem without using the library's sort function.\n",
    "\n",
    "### Example 1\n",
    "\n",
    "- **Input:** `nums = [2, 0, 2, 1, 1, 0]`\n",
    "- **Output:** `[0, 0, 1, 1, 2, 2]`\n"
   ]
  },
  {
   "cell_type": "code",
   "execution_count": 17,
   "id": "7e005a5a-1ad2-421b-87f5-c965532434ad",
   "metadata": {},
   "outputs": [
    {
     "name": "stdout",
     "output_type": "stream",
     "text": [
      "[0, 0, 1, 1, 2, 2]\n"
     ]
    }
   ],
   "source": [
    "def sortColors(nums):\n",
    "    # Initialize the pointers.\n",
    "    # 'low' will track the position where the next 0 should be placed.\n",
    "    # 'mid' will scan through the list to decide elements' positions.\n",
    "    # 'high' will track the position where the next 2 should be placed.\n",
    "    low, mid, high = 0, 0, len(nums) - 1\n",
    "\n",
    "    # Iterate through the list using 'mid' pointer.\n",
    "    while mid <= high:\n",
    "        if nums[mid] == 0:\n",
    "            # If the current element is 0, we need to swap it with the element at 'low'\n",
    "            # position because 'low' marks the boundary for 0's.\n",
    "            nums[low], nums[mid] = nums[mid], nums[low]\n",
    "            # Move 'low' and 'mid' pointers to the right, as we've correctly placed\n",
    "            # a 0 at 'low'.\n",
    "            low += 1\n",
    "            mid += 1\n",
    "        elif nums[mid] == 1:\n",
    "            # If the current element is 1, it's already in the correct place, \n",
    "            # because 1's are in the middle. Just move the 'mid' pointer.\n",
    "            mid += 1\n",
    "        else:  # nums[mid] == 2\n",
    "            # If the current element is 2, we need to swap it with the element at 'high'\n",
    "            # position because 'high' marks the boundary for 2's.\n",
    "            # Note: We do not increment 'mid' here because the element swapped\n",
    "            # from 'high' to 'mid' needs to be evaluated.\n",
    "            nums[mid], nums[high] = nums[high], nums[mid]\n",
    "            # Move 'high' pointer to the left, as we've correctly placed\n",
    "            # a 2 at 'high'.\n",
    "            high -= 1\n",
    "\n",
    "# Example usage:\n",
    "nums = [2, 0, 2, 1, 1, 0]\n",
    "sortColors(nums)\n",
    "print(nums)  # Output: [0, 0, 1, 1, 2, 2]"
   ]
  },
  {
   "cell_type": "markdown",
   "id": "32777903-cf58-41f2-ae22-6ab9100cf15d",
   "metadata": {},
   "source": [
    "- **Time Complexity**: O(n)  \n",
    "  The algorithm makes a single pass over the array with `n` elements, ensuring that each element is processed a constant number of times. Therefore, the time complexity is linear, O(n).\n",
    "\n",
    "- **Space Complexity**: O(1)  \n",
    "  The algorithm utilizes a constant amount of extra space for the pointers (`low`, `mid`, `high`), irrespective of the input size. Hence, the space complexity is O(1)."
   ]
  },
  {
   "cell_type": "markdown",
   "id": "572eb201-7e66-43e0-a37a-c41dd027999f",
   "metadata": {},
   "source": [
    "# [13. Container With Most Water](https://leetcode.com/problems/container-with-most-water/description/)\n",
    "\n",
    "## Problem Description:\n",
    "You are given an array `height` of length `n`. Each element in the array represents the height of a vertical line drawn at that index. The width between each pair of lines is 1. You need to find two lines, which together with the x-axis form a container, such that the container holds the most water.\n",
    "\n",
    "## Example:\n",
    "Given `height = [1,8,6,2,5,4,8,3,7]`, the function should return `49`, which corresponds to the area between the indices `1` and `8`."
   ]
  },
  {
   "cell_type": "code",
   "execution_count": 18,
   "id": "47053e2d-23c6-4e2a-b2f6-33734cd7d494",
   "metadata": {},
   "outputs": [
    {
     "name": "stdout",
     "output_type": "stream",
     "text": [
      "The maximum area is: 49\n"
     ]
    }
   ],
   "source": [
    "from typing import List\n",
    "\n",
    "class Solution:\n",
    "    def maxArea(self, height: List[int]) -> int:\n",
    "        # Initialize two pointers, one starting from the beginning (left)\n",
    "        # and the other from the end (right) of the list.\n",
    "        left, right = 0, len(height) - 1\n",
    "\n",
    "        # Variable to store the maximum area found so far.\n",
    "        max_area = 0\n",
    "\n",
    "        # Continue iterating until the two pointers meet.\n",
    "        while left < right:\n",
    "            # Calculate the width between the two pointers: (right - left)\n",
    "            width = right - left\n",
    "\n",
    "            # Determine the height as the minimum of the \n",
    "            # two heights at the pointers.\n",
    "            current_height = min(height[left], height[right])\n",
    "\n",
    "            # Compute the current area by multiplying width and height.\n",
    "            current_area = width * current_height\n",
    "\n",
    "            # Update the maximum area if the current area is greater.\n",
    "            max_area = max(current_area, max_area)\n",
    "\n",
    "            # Move the pointer pointing to the shorter line to try \n",
    "            # and find a taller container.\n",
    "            # This is because moving the shorter line could potentially \n",
    "            # increase the area.\n",
    "            if height[left] < height[right]:\n",
    "                # Move the 'left' pointer to the right to attempt \n",
    "                # a larger area.\n",
    "                left += 1\n",
    "            else:\n",
    "                # Move the 'right' pointer to the left.\n",
    "                right -= 1\n",
    "\n",
    "        # After the loop, return the maximum area found during all iterations.\n",
    "        return max_area\n",
    "\n",
    "# Define the list of heights representing the vertical lines \n",
    "# on the container walls.\n",
    "height = [1, 8, 6, 2, 5, 4, 8, 3, 7]\n",
    "\n",
    "# Create an instance of the Solution class to access the maxArea function.\n",
    "solution = Solution()\n",
    "\n",
    "# Use the instance to invoke the maxArea function with the list of heights.\n",
    "max_area_result = solution.maxArea(height)\n",
    "\n",
    "# Print the result which is the maximum area that can be contained.\n",
    "print(\"The maximum area is:\", max_area_result)"
   ]
  },
  {
   "cell_type": "markdown",
   "id": "b55c6d33-6df5-4825-83cf-49aa123132a1",
   "metadata": {},
   "source": [
    "- **Time Complexity:** \\(O(n)\\) due to a single pass through the list.\n",
    "- **Space Complexity:** \\(O(1)\\) as it uses a constant amount of extra space."
   ]
  },
  {
   "cell_type": "markdown",
   "id": "260c208b-b174-4efe-904d-31b591562944",
   "metadata": {},
   "source": [
    "# [14. Minimum Window Substring](https://leetcode.com/problems/minimum-window-substring/description/)\n",
    "\n",
    "**Problem Statement:**\n",
    "\n",
    "Given two strings `s` and `t` of lengths `m` and `n` respectively, return the minimum window substring of `s` such that every character in `t` (including duplicates) is included in the window. If there is no such substring, return the empty string `\"\"`. The test cases will be generated such that the answer is unique.\n",
    "\n",
    "**Example:**\n",
    "\n",
    "- **Input:** `s = \"ADOBECODEBANC\"`, `t = \"ABC\"`\n",
    "- **Output:** `\"BANC\"`\n",
    "- **Explanation:** The minimum window substring `\"BANC\"` includes 'A', 'B', and 'C' from string `t`."
   ]
  },
  {
   "cell_type": "code",
   "execution_count": 28,
   "id": "2c7aab9c-b390-4406-9e97-a6bb6661c079",
   "metadata": {},
   "outputs": [
    {
     "name": "stdout",
     "output_type": "stream",
     "text": [
      "BANC\n"
     ]
    }
   ],
   "source": [
    "from collections import Counter\n",
    "\n",
    "class Solution:\n",
    "    def minWindow(self, s: str, t: str) -> str:\n",
    "        # Count each character in string T to know what is needed\n",
    "        target_counter = Counter(t)\n",
    "\n",
    "        # A counter to keep track of characters in the current window\n",
    "        window_counter = Counter()\n",
    "\n",
    "        # Pointers for the left and right boundaries of the window\n",
    "        left = 0\n",
    "\n",
    "        # Variables to track the minimum window\n",
    "        min_left = -1\n",
    "        min_size = float('inf')  # Infinity for comparison to find minimum\n",
    "\n",
    "        # Variables to track the number of unique target characters met\n",
    "        formed = 0\n",
    "        required = len(target_counter)  # Total unique characters to be matched\n",
    "\n",
    "        # Expand the window with the right pointer\n",
    "        for right, char in enumerate(s):\n",
    "            # Add one character from the right to the window\n",
    "            window_counter[char] += 1\n",
    "\n",
    "            # Check if the current character's frequency in the window matches the target\n",
    "            if char in target_counter and window_counter[char] == target_counter[char]:\n",
    "                formed += 1\n",
    "\n",
    "            # Contract the window from the left as long as all target characters are matched\n",
    "            while formed == required:\n",
    "                # Update the minimum window if the current one is smaller\n",
    "                if right - left + 1 < min_size:\n",
    "                    min_size = right - left + 1\n",
    "                    min_left = left  # Store left boundary of the smallest window\n",
    "\n",
    "                # The character at the current left position will be \"removed\" from the window\n",
    "                window_counter[s[left]] -= 1\n",
    "\n",
    "                # If a character is less than needed, decrement formed\n",
    "                if s[left] in target_counter and window_counter[s[left]] < target_counter[s[left]]:\n",
    "                    formed -= 1\n",
    "\n",
    "                # Move the left pointer right to try and find a smaller window\n",
    "                left += 1\n",
    "\n",
    "        # If no valid window is found, return an empty string\n",
    "        return \"\" if min_left == -1 else s[min_left:min_left + min_size]\n",
    "\n",
    "# Example usage:\n",
    "s = \"ADOBECODEBANC\"\n",
    "t = \"ABC\"\n",
    "solution = Solution()\n",
    "print(solution.minWindow(s, t))  # Output: \"BANC\""
   ]
  },
  {
   "cell_type": "markdown",
   "id": "202c1bda-1636-425d-bba2-d0a45ae1227a",
   "metadata": {},
   "source": [
    "- **Time Complexity**: O(m + n), where `m` is the length of string `s` and `n` is the length of string `t`. This results from scanning through `s` with two pointers, effectively making one pass through `s` and handling character frequencies.\n",
    "- **Space Complexity**: O(n + k), where `n` is the number of unique characters in `t` and `k` is the number of unique characters in `s`. This space is used by the frequency counters (`target_counter` and `window_counter`)."
   ]
  },
  {
   "cell_type": "code",
   "execution_count": null,
   "id": "dc3fcf13-de12-4abe-a64f-d347978e6936",
   "metadata": {},
   "outputs": [],
   "source": []
  },
  {
   "cell_type": "code",
   "execution_count": null,
   "id": "31d696c5-03b2-4e0e-9f6b-766428038359",
   "metadata": {},
   "outputs": [],
   "source": [
    "from collections import deque\n",
    "from typing import List\n",
    "\n",
    "class Solution:\n",
    "    def maxSlidingWindow(self, nums: List[int], k: int) -> List[int]:\n",
    "        # Initialize a deque to store indices of the array elements.\n",
    "        # It will help us keep track of the maximum in the current window.\n",
    "        index_queue = deque()\n",
    "\n",
    "        # List to store the maximum of each sliding window.\n",
    "        max_val = []\n",
    "\n",
    "        # Iterate through each element in the array with both index and value.\n",
    "        for index, value in enumerate(nums):\n",
    "            # Remove elements from the front of the deque if they are outside\n",
    "            # the current sliding window's range (i.e., older than index - k + 1).\n",
    "            if index_queue and index - k + 1 > index_queue[0]:\n",
    "                index_queue.popleft()\n",
    "\n",
    "            # Remove elements from the back of the deque if the current element\n",
    "            # is greater than the elements at those indices. This ensures that\n",
    "            # the deque stores indices of elements in decreasing order by value.\n",
    "            while index_queue and nums[index_queue[-1]] <= value:\n",
    "                index_queue.pop()\n",
    "\n",
    "            # Add the current element's index to the deque. At this point,\n",
    "            # all elements in the deque are greater than or equal to the current element.\n",
    "            index_queue.append(index)\n",
    "\n",
    "            # If we've processed at least `k` elements (the first complete window),\n",
    "            # append the maximum for the current window to `max_val`.\n",
    "            # The maximum is the element at the index stored at the front of the deque.\n",
    "            if index >= k - 1:\n",
    "                max_val.append(nums[index_queue[0]])\n",
    "\n",
    "        # Return the list containing the maximum of each sliding window.\n",
    "        return max_val\n",
    "\n",
    "# Example usage\n",
    "sol = Solution()\n",
    "print(sol.maxSlidingWindow([1,3,-1,-3,5,3,6,7], 3)) # Output: [3,3,5,5,6,7]"
   ]
  },
  {
   "cell_type": "code",
   "execution_count": null,
   "id": "9def83cb-627d-4438-a5f8-1299c08136e7",
   "metadata": {},
   "outputs": [],
   "source": []
  },
  {
   "cell_type": "code",
   "execution_count": null,
   "id": "f0018147-e9d8-4bcd-8f6b-f6171bb9d906",
   "metadata": {},
   "outputs": [],
   "source": []
  },
  {
   "cell_type": "code",
   "execution_count": null,
   "id": "ed917908-0c5e-496c-bfa8-1cd46bd84eb6",
   "metadata": {},
   "outputs": [],
   "source": []
  },
  {
   "cell_type": "code",
   "execution_count": null,
   "id": "5fb837aa-449b-4538-ac0c-a8beb6592436",
   "metadata": {},
   "outputs": [],
   "source": []
  },
  {
   "cell_type": "code",
   "execution_count": null,
   "id": "ad20f3b9-2e17-41c3-8614-ad18d71312dd",
   "metadata": {},
   "outputs": [],
   "source": []
  },
  {
   "cell_type": "code",
   "execution_count": null,
   "id": "059517e3-8528-472c-b761-b41f7488945c",
   "metadata": {},
   "outputs": [],
   "source": []
  },
  {
   "cell_type": "code",
   "execution_count": 19,
   "id": "17ca56c2-eb6f-4075-98ff-48d7b5da2eb2",
   "metadata": {},
   "outputs": [
    {
     "name": "stdout",
     "output_type": "stream",
     "text": [
      "3\n"
     ]
    }
   ],
   "source": [
    "class Solution:\n",
    "    def lengthOfLongestSubstring(self, s: str) -> int:\n",
    "        # A set to store unique characters in the current window\n",
    "        unique_set = set()\n",
    "        # Left pointer of the window\n",
    "        left_pointer = 0\n",
    "        # Variable to store the maximum length of substring found\n",
    "        max_length = 0\n",
    "\n",
    "        # Iterate through the string with right_pointer as the moving index\n",
    "        for right_pointer, char in enumerate(s):\n",
    "            # If the character is already in the set, it means we have a duplicate\n",
    "            while char in unique_set:\n",
    "                # Remove the character at left_pointer from the set to shrink the window\n",
    "                unique_set.remove(s[left_pointer])\n",
    "                # Move the left_pointer to the right\n",
    "                left_pointer += 1\n",
    "\n",
    "            # Add the current character to the set\n",
    "            unique_set.add(char)\n",
    "            # Adjust the maximum length if the current window is larger\n",
    "            max_length = max(max_length, right_pointer - left_pointer + 1)\n",
    "\n",
    "        # Return the max length of substring with all unique characters found\n",
    "        return max_length\n",
    "\n",
    "# Test case: Let's take the string \"abcabcbb\" as an example to see how the solution works\n",
    "solution = Solution()\n",
    "result = solution.lengthOfLongestSubstring(\"abcabcbb\")\n",
    "print(result)  # Expected output is 3, that is for the substring \"abc\""
   ]
  },
  {
   "cell_type": "code",
   "execution_count": 20,
   "id": "bc0714b0-49b0-4103-ac27-2a68cc0f5626",
   "metadata": {},
   "outputs": [
    {
     "name": "stdout",
     "output_type": "stream",
     "text": [
      "\"A man, a plan, a canal, Panama\" is a palindrome.\n"
     ]
    }
   ],
   "source": [
    "def is_palindrome(s):\n",
    "    # Convert to lowercase and remove non-alphanumeric characters for an accurate check\n",
    "    clean_s = ''.join(char.lower() for char in s if char.isalnum())\n",
    "\n",
    "    # Initialize two pointers\n",
    "    left, right = 0, len(clean_s) - 1\n",
    "\n",
    "    # Move the pointers towards each other\n",
    "    while left < right:\n",
    "        if clean_s[left] != clean_s[right]:\n",
    "            return False\n",
    "        left += 1\n",
    "        right -= 1\n",
    "\n",
    "    return True\n",
    "\n",
    "# Example usage\n",
    "string = \"A man, a plan, a canal, Panama\"\n",
    "if is_palindrome(string):\n",
    "    print(f'\"{string}\" is a palindrome.')\n",
    "else:\n",
    "    print(f'\"{string}\" is not a palindrome.')"
   ]
  },
  {
   "cell_type": "code",
   "execution_count": 21,
   "id": "34d61780-ba2b-4cad-9d7e-e99b26cfe349",
   "metadata": {},
   "outputs": [],
   "source": [
    "class Solution:\n",
    "    def isAnagram(self, s: str, t: str) -> bool:\n",
    "        # If the lengths of the strings are not equal, they cannot be anagrams.\n",
    "        if len(s) != len(t):\n",
    "            return False\n",
    "\n",
    "        # Initialize two dictionaries to count the frequency of each character\n",
    "        # in both strings s and t.\n",
    "        count_s, count_t = {}, {}\n",
    "\n",
    "        # Iterate over the indices of the strings\n",
    "        for i in range(len(s)):\n",
    "            # For string s, increment the count of the character s[i] in count_s.\n",
    "            # The get method retrieves the current count of s[i], defaulting to 0 if it doesn't exist.\n",
    "            count_s[s[i]] = 1 + count_s.get(s[i], 0)\n",
    "\n",
    "            # Similarly, for string t, increment the count of the character t[i] in count_t.\n",
    "            count_t[t[i]] = 1 + count_t.get(t[i], 0)\n",
    "\n",
    "        # After processing both strings, compare the two dictionaries.\n",
    "        # If the dictionaries are equal, it means both strings have identical character counts,\n",
    "        # and thus they are anagrams of each other.\n",
    "        return count_s == count_t"
   ]
  },
  {
   "cell_type": "code",
   "execution_count": 22,
   "id": "20cdc912-407c-4fd5-b2ca-34ca212a824e",
   "metadata": {},
   "outputs": [
    {
     "name": "stdout",
     "output_type": "stream",
     "text": [
      "True\n"
     ]
    }
   ],
   "source": [
    "# Test case\n",
    "s = \"listen\"\n",
    "t = \"silent\"\n",
    "\n",
    "# Create an instance of the Solution class\n",
    "solution = Solution()\n",
    "\n",
    "# Call the isAnagram method and print the result\n",
    "result = solution.isAnagram(s, t)\n",
    "print(result)  # Expected output: True"
   ]
  },
  {
   "cell_type": "code",
   "execution_count": 23,
   "id": "915e1edb-46ae-4579-b2aa-0971a34df168",
   "metadata": {},
   "outputs": [],
   "source": [
    "from collections import Counter\n",
    "class Solution:\n",
    "    def findAnagrams(self, s: str, p: str) -> List[int]:\n",
    "        # If the length of p is greater than the length of s, it's impossible to have an anagram.\n",
    "        if len(p) > len(s):\n",
    "            return []\n",
    "\n",
    "        # Initialize a Counter to track the current window's character counts in s.\n",
    "        s_count = Counter()\n",
    "        # Initialize a Counter with the character counts of string p.\n",
    "        p_count = Counter(p)\n",
    "        # This will store the starting indices of the anagrams of p in s.\n",
    "        result = []\n",
    "\n",
    "        # Length of the string p to define the sliding window's length.\n",
    "        p_len = len(p)\n",
    "\n",
    "        # Iterate over each character in the string s.\n",
    "        for i in range(len(s)):\n",
    "            # Add the current character to the sliding window counter.\n",
    "            s_count[s[i]] += 1\n",
    "            # If the window size exceeds p's length, we need to remove the oldest character.\n",
    "            if i >= p_len:\n",
    "                # Identify the character that is sliding out of the window.\n",
    "                out_char = s[i-p_len]\n",
    "                # If the count of that character is 1, we remove it from the counter.\n",
    "                if s_count[out_char] == 1:\n",
    "                    del s_count[out_char]\n",
    "                else:\n",
    "                    # Otherwise, just decrement its count.\n",
    "                    s_count[out_char] -= 1\n",
    "\n",
    "            # If current window's character count matches p's character count, we found an anagram.\n",
    "            if s_count == p_count:\n",
    "                # Append the starting index of the anagram.\n",
    "                result.append(i - p_len + 1)\n",
    "\n",
    "        # Return the list of starting indices of anagrams found.\n",
    "        return result"
   ]
  },
  {
   "cell_type": "code",
   "execution_count": 24,
   "id": "0282f47c-39c3-4288-b556-37c0dab38ba8",
   "metadata": {},
   "outputs": [
    {
     "name": "stdout",
     "output_type": "stream",
     "text": [
      "Output: [0, 6]\n",
      "Test Passed: True\n"
     ]
    }
   ],
   "source": [
    "s = \"cbaebabacd\"\n",
    "p = \"abc\"\n",
    "expected_output = [0, 6]\n",
    "\n",
    "solution = Solution()\n",
    "result = solution.findAnagrams(s, p)\n",
    "print(\"Output:\", result)  # Should output [0, 6]\n",
    "print(\"Test Passed:\", result == expected_output)  # Should output True"
   ]
  },
  {
   "cell_type": "code",
   "execution_count": 25,
   "id": "693f7f5a-df46-46cd-bd2b-e85c2de59ce8",
   "metadata": {},
   "outputs": [
    {
     "name": "stdout",
     "output_type": "stream",
     "text": [
      "BANC\n"
     ]
    }
   ],
   "source": [
    "from collections import Counter\n",
    "\n",
    "class Solution:\n",
    "    def minWindow(self, s: str, t: str) -> str:\n",
    "        # Create a counter for characters in t\n",
    "        target_counter = Counter(t) # {'A': 1, 'B': 1, 'C': 1}\n",
    "\n",
    "        # Initialize the window counter\n",
    "        window_counter = Counter()\n",
    "\n",
    "        left = 0  # Initialize left pointer\n",
    "        min_left = -1  # Variable to store starting index of the minimum window\n",
    "        val_char_count = 0  # Count of valid characters based on target comparison\n",
    "        min_size = float('inf')  # Size of the minimum valid window\n",
    "\n",
    "        # Loop over each character in the string 's' using a right pointer\n",
    "        for right, char in enumerate(s):\n",
    "            # Add current character to the window counter\n",
    "            window_counter[char] += 1\n",
    "\n",
    "            # If the character frequency in window does not exceed target, increment valid count\n",
    "            if window_counter[char] <= target_counter[char]:\n",
    "                val_char_count += 1\n",
    "\n",
    "            # When the valid character count matches the length of 't', a valid window is found\n",
    "            while val_char_count == len(t):\n",
    "                # Check if this window is the smallest found so far\n",
    "                if right - left + 1 < min_size:\n",
    "                    min_size = right - left + 1\n",
    "                    min_left = left\n",
    "\n",
    "                # At this point, the window is valid; try to shrink it by moving left pointer\n",
    "                # If removing the left character might affect the valid count\n",
    "                if window_counter[s[left]] <= target_counter[s[left]]:\n",
    "                    val_char_count -= 1\n",
    "\n",
    "                # Remove the character at the left pointer from the window\n",
    "                window_counter[s[left]] -= 1\n",
    "\n",
    "                # Move the left pointer to the right\n",
    "                left += 1\n",
    "\n",
    "        # Return the minimum window if found, otherwise return an empty string\n",
    "        return \"\" if min_left < 0 else s[min_left:min_left + min_size]\n",
    "\n",
    "# Testing the function with the example test case\n",
    "solution = Solution()\n",
    "result = solution.minWindow(\"ADOBECODEBANC\", \"ABC\")\n",
    "print(result)  # Output should be \"BANC\""
   ]
  },
  {
   "cell_type": "code",
   "execution_count": 26,
   "id": "c17d971d-2bce-4b6e-9e02-949c0569e43f",
   "metadata": {},
   "outputs": [
    {
     "name": "stdout",
     "output_type": "stream",
     "text": [
      "4\n"
     ]
    }
   ],
   "source": [
    "class Solution:\n",
    "    def characterReplacement(self, s: str, k: int) -> int:\n",
    "        # This array will track the frequency of each character in the current window.\n",
    "        count = [0] * 26\n",
    "        left = 0  # The starting index of our current window.\n",
    "        max_count = 0  # The highest frequency of any single character in our current window.\n",
    "        result = 0  # The length of the longest valid window we've found so far.\n",
    "\n",
    "        for right in range(len(s)):\n",
    "            # Update the count for the current character at index 'right'.\n",
    "            count[ord(s[right]) - ord('A')] += 1\n",
    "\n",
    "            # Update the max_count to reflect the highest frequency character in the window.\n",
    "            max_count = max(max_count, count[ord(s[right]) - ord('A')])\n",
    "\n",
    "            # If the current window size (right - left + 1) minus the highest frequency\n",
    "            # character is greater than k, reduce the window size from the left.\n",
    "            while (right - left + 1) - max_count > k:\n",
    "                count[ord(s[left]) - ord('A')] -= 1\n",
    "                left += 1\n",
    "\n",
    "            # Check if the current window is the largest valid window we've seen.\n",
    "            result = max(result, right - left + 1)\n",
    "\n",
    "        return result\n",
    "\n",
    "# Let's walk through a test case:\n",
    "# s = \"AABABBA\", k = 1\n",
    "# The goal is to find the longest substring where we can replace up to 1 character\n",
    "# to make all the characters in the substring the same.\n",
    "\n",
    "solution = Solution()\n",
    "test_result = solution.characterReplacement(\"AABABBA\", 1)\n",
    "print(test_result)  # Expected output is 4, for the substring \"ABBA\"."
   ]
  },
  {
   "cell_type": "code",
   "execution_count": 27,
   "id": "f7bd7b40-d562-477b-a18d-6719ef5351ab",
   "metadata": {},
   "outputs": [
    {
     "name": "stdout",
     "output_type": "stream",
     "text": [
      "The longest common prefix is: 'fl'\n"
     ]
    }
   ],
   "source": [
    "class Solution:\n",
    "    def longestCommonPrefix(self, strs: List[str]) -> str:\n",
    "        # If the list of strings is empty, return an empty string as there's no common prefix\n",
    "        if not strs:\n",
    "            return \"\"\n",
    "\n",
    "        # Iterate over each character index of the first string\n",
    "        for i in range(len(strs[0])):\n",
    "            # Get the character at the current index of the first string\n",
    "            char = strs[0][i]\n",
    "\n",
    "            # Compare the character with the corresponding character in all other strings\n",
    "            for j in range(1, len(strs)):\n",
    "                # If the current string length is less than i or the character doesn't match,\n",
    "                # return the substring from the start to the current index (i) as the result\n",
    "                if i == len(strs[j]) or strs[j][i] != char:\n",
    "                    return strs[0][:i]\n",
    "\n",
    "        # If no mismatch is found, return the entire first string as all strings contain it as a prefix\n",
    "        return strs[0]\n",
    "\n",
    "\n",
    "# Test case\n",
    "# Input: A list of strings to find the longest common prefix\n",
    "input_strs = [\"flower\", \"flow\", \"flight\"]\n",
    "# Expected Output: \"fl\"\n",
    "# Explanation: The longest common prefix among the input strings (\"flower\", \"flow\", \"flight\") is \"fl\".\n",
    "\n",
    "solution = Solution()\n",
    "result = solution.longestCommonPrefix(input_strs)\n",
    "print(f\"The longest common prefix is: '{result}'\")"
   ]
  },
  {
   "cell_type": "code",
   "execution_count": null,
   "id": "ed37c49c-3421-42b1-92f8-39126d86f92f",
   "metadata": {},
   "outputs": [],
   "source": []
  },
  {
   "cell_type": "code",
   "execution_count": null,
   "id": "3bf289de-aab0-44ba-8320-6419f7338a19",
   "metadata": {},
   "outputs": [],
   "source": []
  },
  {
   "cell_type": "code",
   "execution_count": null,
   "id": "bae76bcd-890a-4d4d-a353-fa4edccae904",
   "metadata": {},
   "outputs": [],
   "source": []
  },
  {
   "cell_type": "code",
   "execution_count": null,
   "id": "71f6fafa-a475-4a71-b5ab-b7f4aa37ff71",
   "metadata": {},
   "outputs": [],
   "source": []
  },
  {
   "cell_type": "code",
   "execution_count": null,
   "id": "eba888a9-e654-4703-82ae-8e55c0c36ade",
   "metadata": {},
   "outputs": [],
   "source": []
  }
 ],
 "metadata": {
  "kernelspec": {
   "display_name": "Python 3 (ipykernel)",
   "language": "python",
   "name": "python3"
  },
  "language_info": {
   "codemirror_mode": {
    "name": "ipython",
    "version": 3
   },
   "file_extension": ".py",
   "mimetype": "text/x-python",
   "name": "python",
   "nbconvert_exporter": "python",
   "pygments_lexer": "ipython3",
   "version": "3.11.7"
  },
  "widgets": {
   "application/vnd.jupyter.widget-state+json": {
    "state": {},
    "version_major": 2,
    "version_minor": 0
   }
  }
 },
 "nbformat": 4,
 "nbformat_minor": 5
}
