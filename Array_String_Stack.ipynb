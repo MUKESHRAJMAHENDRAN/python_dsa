{
 "cells": [
  {
   "cell_type": "markdown",
   "id": "fbb512d7-81a1-4fa9-a444-c90df3186366",
   "metadata": {},
   "source": [
    "# [1. Two Sum Problem](https://leetcode.com/problems/two-sum/description/)\n",
    "\n",
    "Given an array of integers `nums` and an integer `target`, return the indices of the two numbers such that they add up to `target`.\n",
    "\n",
    "## Example\n",
    "\n",
    "- **Input**: \n",
    "  - `nums = [2, 7, 11, 15]`\n",
    "  - `target = 9`\n",
    "- **Output**: \n",
    "  - `[0, 1]`\n",
    "- **Explanation**: \n",
    "  - `nums[0] + nums[1] = 2 + 7 = 9`, so return `[0, 1]`.\n",
    "\n",
    "## Note\n",
    "\n",
    "- Each input would have exactly one solution.\n",
    "- You may not use the same element twice."
   ]
  },
  {
   "cell_type": "code",
   "execution_count": 1,
   "id": "b680a8c3-7f39-4fda-b7f1-880fcedd46b1",
   "metadata": {},
   "outputs": [
    {
     "name": "stdout",
     "output_type": "stream",
     "text": [
      "[1, 4]\n"
     ]
    }
   ],
   "source": [
    "def two_sum_sorted(nums, target):\n",
    "    # Start with two pointers: one at the beginning \n",
    "    # and one at the end of the array\n",
    "    left, right = 0, len(nums) - 1\n",
    "\n",
    "    # Continue looping until the two pointers cross each other\n",
    "    while left < right:\n",
    "        # Calculate the sum of the elements pointed by the left \n",
    "        # and right pointers\n",
    "        current_sum = nums[left] + nums[right]\n",
    "\n",
    "        # If the current sum is equal to the target, we have \n",
    "        # found the solution\n",
    "        if current_sum == target:\n",
    "            # Returning indices, or you could \n",
    "            # return [nums[left], nums[right]]\n",
    "            # to get the actual numbers\n",
    "            return [left, right]  \n",
    "\n",
    "        # If the current sum is less than the target, we need a larger sum\n",
    "        # Increment the left pointer to move to a bigger number\n",
    "        elif current_sum < target:\n",
    "            left += 1\n",
    "\n",
    "        # If the current sum is more than the target, we need a smaller sum\n",
    "        # Decrement the right pointer to move to a smaller number\n",
    "        else:\n",
    "            right -= 1\n",
    "\n",
    "    # If no such pair is found that adds up to the target, \n",
    "    # return an empty list\n",
    "    return []\n",
    "\n",
    "# Example usage\n",
    "# Consider a sorted array where you want two numbers \n",
    "# to add up to a specific target\n",
    "nums = [1, 2, 4, 5, 6, 10]  # This is a sorted array\n",
    "target = 8\n",
    "result = two_sum_sorted(nums, target)\n",
    "print(result)  \n",
    "# This should print indices like [1, 4], corresponding to numbers 2 and 6"
   ]
  },
  {
   "cell_type": "markdown",
   "id": "501e39c8-1116-4c10-8ab8-3f84bceea668",
   "metadata": {},
   "source": [
    "- **Time Complexity**: \\(O(n)\\)\n",
    "    - We use a two-pointer approach, which requires a single pass through the array. Each move (either `left += 1` or `right -= 1`) brings us closer to the solution, making this a linear-time algorithm.\n",
    "- **Space Complexity**: \\(O(1)\\)\n",
    "    - The algorithm uses only a constant amount of space for the pointers `left` and `right`, so no additional space grows with input size."
   ]
  },
  {
   "cell_type": "code",
   "execution_count": 2,
   "id": "85002200-81b4-44a9-b163-b39e261eb96f",
   "metadata": {},
   "outputs": [
    {
     "name": "stdout",
     "output_type": "stream",
     "text": [
      "[0, 1]\n"
     ]
    }
   ],
   "source": [
    "def two_sum(nums, target):\n",
    "    # Dictionary to store the complement and its index\n",
    "    num_to_index = {}\n",
    "\n",
    "    # Iterate over the list to find the two numbers\n",
    "    for index, num in enumerate(nums):\n",
    "        # Calculate the complement\n",
    "        complement = target - num\n",
    "\n",
    "        # If the complement exists in the dictionary, we found a solution\n",
    "        if complement in num_to_index:\n",
    "            return [num_to_index[complement], index]\n",
    "\n",
    "        # Otherwise, store the number with its index\n",
    "        num_to_index[num] = index\n",
    "\n",
    "    # Return an empty list if no solution is found - \n",
    "    # though per the problem statement,\n",
    "    # there should always be one solution.\n",
    "    return []\n",
    "\n",
    "# Example usage:\n",
    "nums = [2, 7, 11, 15]\n",
    "target = 9\n",
    "print(two_sum(nums, target))  # Output: [0, 1]"
   ]
  },
  {
   "cell_type": "markdown",
   "id": "b6d91611-6198-4a2b-bd5b-306b0a86bfa4",
   "metadata": {},
   "source": [
    "1. **Iteration 1**: Index 0, Number 2 → Complement 7 (not in `num_to_index`), store `{2: 0}`.\n",
    "2. **Iteration 2**: Index 1, Number 7 → Complement 2 (found in `num_to_index`), return `[0, 1]`."
   ]
  },
  {
   "cell_type": "markdown",
   "id": "cb507fd2-17a0-477d-9c80-1ba015b6bfdc",
   "metadata": {},
   "source": [
    "- **Time Complexity**: \\(O(n)\\)\n",
    "    - We iterate through the list once, checking and updating the hash map with each element. Each lookup and insertion in a hash map is \\(O(1)\\) on average, making the total time complexity linear.\n",
    "- **Space Complexity**: \\(O(n)\\)\n",
    "    - In the worst case, we store all elements of the input array in the hash map, so space complexity is linear."
   ]
  },
  {
   "cell_type": "markdown",
   "id": "8a1b25aa-befc-4fe9-a7ed-ef551fd948d3",
   "metadata": {},
   "source": [
    "# [2. Contains Duplicate](https://leetcode.com/problems/contains-duplicate/description/)\n",
    "\n",
    "The problem is to determine if a given list of integers, `nums`, contains any duplicates. A duplicate value means that there is at least one integer that appears more than once in the list. The function should return `True` if there are any duplicates and `False` otherwise.\n",
    "\n",
    "### Sample Input and Output\n",
    "\n",
    "Example:\n",
    "\n",
    "- **Input**: `[1, 2, 3, 1]`\n",
    "- **Output**: `True`\n",
    "\n",
    "Explanation: The integer `1` appears twice in the list, thus the output is `True`."
   ]
  },
  {
   "cell_type": "code",
   "execution_count": 3,
   "id": "4471ba90-74d6-49ff-b3b7-0cdfe72fb24c",
   "metadata": {},
   "outputs": [],
   "source": [
    "from typing import List\n",
    "class Solution:\n",
    "    def containsDuplicate(self, nums: List[int]) -> bool:\n",
    "        # Initialize an empty set to keep track of unique elements encountered\n",
    "        unique_set = set()\n",
    "\n",
    "        # Iterate over each element in the input list\n",
    "        for i in nums:\n",
    "            # Check if the element is already in the set\n",
    "            if i in unique_set:\n",
    "                # If found in the set, it's a duplicate, return True\n",
    "                return True\n",
    "            # Add the element to the set since it's unique so far\n",
    "            unique_set.add(i)\n",
    "\n",
    "        # If loop completes without returning True, all elements are unique\n",
    "        return False"
   ]
  },
  {
   "cell_type": "code",
   "execution_count": 4,
   "id": "a19acaf9-f253-43eb-9051-ecb22765a67e",
   "metadata": {},
   "outputs": [
    {
     "name": "stdout",
     "output_type": "stream",
     "text": [
      "False\n"
     ]
    }
   ],
   "source": [
    "solution = Solution()\n",
    "result = solution.containsDuplicate([1, 2, 3, 4])\n",
    "print(result)  # Expected output: False"
   ]
  },
  {
   "cell_type": "markdown",
   "id": "cb9d24bb-af75-429e-ac59-165aad6e4037",
   "metadata": {},
   "source": [
    "### Complexity Analysis\n",
    "\n",
    "- **Time Complexity**: O(n), where n is the number of elements in the list `nums`. This is because we iterate over each element of the list once.\n",
    "\n",
    "- **Space Complexity**: O(n) in the worst case, where n is the total number of unique elements, which depends on how many unique elements can exist in the given list."
   ]
  },
  {
   "cell_type": "markdown",
   "id": "65417b55-80eb-4cd5-9d1b-c04e18c995b8",
   "metadata": {},
   "source": [
    "# [3. Majority Element](https://leetcode.com/problems/majority-element/submissions/1309541135/)\n",
    "\n",
    "The problem requires finding the majority element in an array, which is defined as the element that appears more than `n/2` times, where `n` is the length of the array. One viable algorithm to solve this problem efficiently is the Boyer-Moore Voting Algorithm. This algorithm aims to find a candidate for the majority element with linear time complexity and constant space complexity by progressively canceling out the counts of different elements.\n",
    "\n",
    "### Sample Input and Output\n",
    "\n",
    "**Input:** `[3, 2, 3]`  \n",
    "**Output:** `3`\n",
    "\n",
    "**Input:** `[2, 2, 1, 1, 1, 2, 2]`  \n",
    "**Output:** `2`\n",
    "\n",
    "Here, in the first test case, the number `3` appears `2` times out of `3`, which is more than half the size of the array. In the second test case, `2` appears `4` times out of `7`."
   ]
  },
  {
   "cell_type": "code",
   "execution_count": 5,
   "id": "85420219-9a36-4edd-ab8d-6d14bf7d3068",
   "metadata": {},
   "outputs": [
    {
     "name": "stdout",
     "output_type": "stream",
     "text": [
      "3\n"
     ]
    }
   ],
   "source": [
    "class Solution:\n",
    "    def majorityElement(self, nums: List[int]) -> int:\n",
    "        # Initialize a counter to zero\n",
    "        count = 0\n",
    "        # This variable will hold the candidate for the majority element\n",
    "        majority_element = None\n",
    "\n",
    "        # Iterate through each number in the array\n",
    "        for num in nums:\n",
    "            # When count is zero, choose the current element \n",
    "            # as a new candidate\n",
    "            if count == 0:\n",
    "                majority_element = num\n",
    "                count += 1\n",
    "            elif num == majority_element:\n",
    "                # If the current element is the same as the candidate, \n",
    "                # increment the count\n",
    "                count += 1\n",
    "            else:\n",
    "                # If the current element is different, decrement the count\n",
    "                count -= 1\n",
    "\n",
    "        # Return the candidate as it will be the majority element\n",
    "        return majority_element\n",
    "\n",
    "# Example test case\n",
    "solution = Solution()\n",
    "test_case = [3, 2, 3]\n",
    "print(solution.majorityElement(test_case))  # Output: 3"
   ]
  },
  {
   "cell_type": "markdown",
   "id": "afaddefb-ab87-43a1-b77b-950edfc4610a",
   "metadata": {},
   "source": [
    "### Time and Space Complexity\n",
    "\n",
    "- **Time Complexity:** O(n), where n is the number of elements in the list. We traverse through the list only once.\n",
    "- **Space Complexity:** O(1), as we are using only a few additional variables, independent of the input size."
   ]
  },
  {
   "cell_type": "markdown",
   "id": "5fa862e5-1bef-48c9-a429-4d86ee53d8eb",
   "metadata": {},
   "source": [
    "## [4. Valid anagram](https://leetcode.com/problems/valid-anagram/description/)\n",
    "\n",
    "**Problem Statement:**  \n",
    "Given two strings `s` and `t`, determine if `t` is an anagram of `s`. Two strings are anagrams if one string can be rearranged to form the other string. Both strings consist of lowercase Latin letters.\n",
    "\n",
    "**Sample Input:**  \n",
    "- `s = \"anagram\"`\n",
    "- `t = \"nagaram\"`\n",
    "\n",
    "**Sample Output:**  \n",
    "- `True`\n",
    "\n",
    "**Explanation:**  \n",
    "The string \"nagaram\" is a rearrangement of the string \"anagram\". Both strings have the same character counts, hence they are anagrams."
   ]
  },
  {
   "cell_type": "code",
   "execution_count": 6,
   "id": "62a669e5-0cb5-4de3-b668-5104d4569f5e",
   "metadata": {},
   "outputs": [],
   "source": [
    "class Solution:\n",
    "    def isAnagram(self, s: str, t: str) -> bool:\n",
    "        # Check if the lengths of the strings are the same.\n",
    "        # If not, they can't be anagrams and we can immediately return False.\n",
    "        if len(s) != len(t):\n",
    "            return False\n",
    "\n",
    "        # Create two dictionaries to store the frequency of each character.\n",
    "        count_s, count_t = {}, {}\n",
    "\n",
    "        # Loop through both strings simultaneously by their indices.\n",
    "        for i in range(len(s)):\n",
    "            # Increment the character count for the \n",
    "            # current character in string s\n",
    "            # Retrieve the current count from count_s using get, \n",
    "            # which defaults \n",
    "            # to 0 if the character is not found.\n",
    "            count_s[s[i]] = 1 + count_s.get(s[i], 0)\n",
    "\n",
    "            # Similarly, increment the character count for the current character \n",
    "            # in string t\n",
    "            count_t[t[i]] = 1 + count_t.get(t[i], 0)\n",
    "\n",
    "        # Compare the dictionaries after processing both strings.\n",
    "        # If they're identical, it means both strings have the same character \n",
    "        # counts and are anagrams.\n",
    "        return count_s == count_t"
   ]
  },
  {
   "cell_type": "code",
   "execution_count": 7,
   "id": "1b984b6a-c0a3-43c7-8423-6006c4b1f917",
   "metadata": {},
   "outputs": [
    {
     "name": "stdout",
     "output_type": "stream",
     "text": [
      "True\n"
     ]
    }
   ],
   "source": [
    "# Create an instance of the Solution class\n",
    "solution = Solution()\n",
    "\n",
    "# Test case: Check if \"cinema\" is an anagram of \"iceman\"\n",
    "result = solution.isAnagram(\"cinema\", \"iceman\")\n",
    "print(result)  # Output: True"
   ]
  },
  {
   "cell_type": "markdown",
   "id": "0ddb5f68-1427-4951-a905-84c68adfa47b",
   "metadata": {},
   "source": [
    "## Time and Space Complexity\n",
    "\n",
    "- **Time Complexity:** O(n), where n is the length of the strings. We loop over the strings only once.\n",
    "\n",
    "- **Space Complexity:** O(1), because the primary data structures used (the dictionaries) utilize a constant amount of space relative to the problem size given the fixed character set constraint (26 lowercase letters)."
   ]
  },
  {
   "cell_type": "markdown",
   "id": "02d763b8-49b9-41b8-b73c-5a2e40951f81",
   "metadata": {},
   "source": [
    "## [5. Group Anagrams](https://leetcode.com/problems/group-anagrams/description/)\n",
    "\n",
    "Given an array of strings, group the anagrams together. An anagram is a word formed by rearranging the letters of another word. \n",
    "\n",
    "You can return the answer in any order— the main requirement is that all anagrams are grouped together in sublists.\n",
    "\n",
    "### Example:\n",
    "\n",
    "#### Input:\n",
    "```plaintext\n",
    "strs = [\"eat\", \"tea\", \"tan\", \"ate\", \"nat\", \"bat\"]\n",
    "output = [[\"eat\", \"tea\", \"ate\"],[\"tan\", \"nat\"],[\"bat\"]]\n",
    "```"
   ]
  },
  {
   "cell_type": "code",
   "execution_count": 8,
   "id": "959430ad-9fe6-4ac0-a413-a446f22f1f56",
   "metadata": {},
   "outputs": [
    {
     "name": "stdout",
     "output_type": "stream",
     "text": [
      "[['eat', 'tea', 'ate'], ['tan', 'nat'], ['bat']]\n"
     ]
    }
   ],
   "source": [
    "from collections import defaultdict\n",
    "\n",
    "def groupAnagrams(strs):\n",
    "    anagrams = defaultdict(list)\n",
    "\n",
    "    for s in strs:\n",
    "        # Initialize count array\n",
    "        count = [0] * 26  # There are 26 possible lowercase characters\n",
    "\n",
    "        # Count the frequency of each character in the string\n",
    "        for char in s:\n",
    "            count[ord(char) - ord('a')] += 1\n",
    "\n",
    "        # Use the tuple of counts as the key in the hashmap\n",
    "        key = tuple(count)\n",
    "        anagrams[key].append(s)\n",
    "    # Return all values in the dictionary as a list of lists\n",
    "    return list(anagrams.values())\n",
    "\n",
    "# Example usage:\n",
    "strs = [\"eat\", \"tea\", \"tan\", \"ate\", \"nat\", \"bat\"]\n",
    "print(groupAnagrams(strs))"
   ]
  },
  {
   "cell_type": "markdown",
   "id": "9306d4c4-ab42-4b2e-90ab-66d9c57a0cd0",
   "metadata": {},
   "source": [
    "- **Time Complexity:** \\(O(NK)\\), where \\(N\\) is the number of strings, and \\(K\\) is the maximum length of a string, as we iterate through each character of every string.\n",
    "- **Space Complexity:** \\(O(NK)\\) for storing the grouped anagrams in the dictionary."
   ]
  },
  {
   "cell_type": "markdown",
   "id": "bf77d6f1-b2d5-48f0-887b-5f4121aff4c5",
   "metadata": {},
   "source": [
    "## [6. Longest Substring Without Repeating Characters](https://leetcode.com/problems/longest-substring-without-repeating-characters/description/)\n",
    "\n",
    "The objective is to find the length of the longest substring without repeating characters in a given string `s`. A substring is a contiguous sequence of characters within the string. The challenge is to efficiently manage and track these characters to determine the maximum possible length of such substrings without repetition.\n",
    "\n",
    "### Sample Input and Output\n",
    "\n",
    "- **Input:** `s = \"abcabcbb\"`\n",
    "- **Output:** `3`\n",
    "- **Explanation:** The longest substring without repeating characters is \"abc\", with a length of 3."
   ]
  },
  {
   "cell_type": "code",
   "execution_count": 9,
   "id": "20a31c34-d6bb-4ff1-a428-0ff223da65c0",
   "metadata": {},
   "outputs": [
    {
     "name": "stdout",
     "output_type": "stream",
     "text": [
      "3\n"
     ]
    }
   ],
   "source": [
    "class Solution:\n",
    "    def lengthOfLongestSubstring(self, s: str) -> int:\n",
    "        unique_set = set()  # A set to store unique characters of the current substring\n",
    "        left_pointer = 0    # The starting index of the current substring\n",
    "        max_length = 0      # Variable to keep track of the maximum length found\n",
    "\n",
    "        # Iterate over each character in the string 's' using 'right_pointer' as the index\n",
    "        for right_pointer, char in enumerate(s):\n",
    "            # If the character is already in the set, move the left_pointer to the right\n",
    "            # until the character is removed from the current substring\n",
    "            while char in unique_set:\n",
    "                unique_set.remove(s[left_pointer])  # Remove the character at left_pointer from the set\n",
    "                left_pointer += 1                   # Increment left_pointer to narrow the window\n",
    "\n",
    "            # Add the new unique character to the set\n",
    "            unique_set.add(char)\n",
    "\n",
    "            # Calculate the length of the current substring and update max_length if it's larger\n",
    "            max_length = max(max_length, right_pointer - left_pointer + 1)\n",
    "\n",
    "        return max_length\n",
    "\n",
    "# Example Test Case\n",
    "solution = Solution()\n",
    "s = \"abcabcbb\"\n",
    "print(solution.lengthOfLongestSubstring(s))  # Output: 3"
   ]
  },
  {
   "cell_type": "markdown",
   "id": "a29f17eb-ae88-4876-b1de-080210b9608d",
   "metadata": {},
   "source": [
    "- **Time Complexity:** O(n), where n is the length of the string `s`, as each character is processed at most twice (once when added to the set and once when removed).\n",
    "- **Space Complexity:** O(min(m, n)), where m is the size of the character set (unique characters that can be in `s`) and n is the length of the string. This is due to the space used by the set to store the current substring's characters."
   ]
  },
  {
   "cell_type": "markdown",
   "id": "64ab1ba6-5b12-4733-b580-78b4a98c2c7c",
   "metadata": {},
   "source": [
    "# [7. Subarray Sum Equals K](https://leetcode.com/problems/subarray-sum-equals-k/)\n",
    "\n",
    "## Description\n",
    "Given an integer array `nums` and an integer `k`, you need to find the total number of continuous subarrays whose sum equals to `k`.\n",
    "\n",
    "## Example\n",
    "\n",
    "### Input\n",
    "- `nums = [1, 1, 1]`\n",
    "- `k = 2`\n",
    "\n",
    "### Output\n",
    "- `2`\n",
    "\n",
    "### Explanation\n",
    "The array has the following subarrays whose sum equals `2`:\n",
    "1. The subarray `[1, 1]` starting from index `0` to `1`.\n",
    "2. The subarray `[1, 1]` starting from index `1` to `2`.\n",
    "\n",
    "## Constraints\n",
    "- The length of the array `nums` will be between `1` and `20,000`.\n",
    "- Elements of `nums` will be integers ranging from `-1000` to `1000`.\n",
    "- The integer `k` will be in the range of `-1e7` to `1e7`."
   ]
  },
  {
   "cell_type": "code",
   "execution_count": 10,
   "id": "92621afb-2ff4-49aa-81a2-8ddff5664943",
   "metadata": {},
   "outputs": [
    {
     "name": "stdout",
     "output_type": "stream",
     "text": [
      "2\n"
     ]
    }
   ],
   "source": [
    "def subarraySum(nums, k):\n",
    "    # Initialize count of subarrays found\n",
    "    count = 0\n",
    "    # This variable keeps track of the cumulative sum up to the current position in the array\n",
    "    current_sum = 0\n",
    "    # Using a dictionary to map cumulative sums to their counts\n",
    "    # Start with the base case: the cumulative sum of 0 has occurred once\n",
    "    prefix_sum_count = {0: 1}\n",
    "\n",
    "    # Iterate over each number in the input array\n",
    "    for num in nums:\n",
    "        # Update the cumulative sum by adding the current number\n",
    "        current_sum += num\n",
    "\n",
    "        # Calculate the needed sum which, when subtracted from current_sum, would equal k\n",
    "        needed_sum = current_sum - k\n",
    "\n",
    "        # Check if needed_sum is already in the prefix_sum_count map\n",
    "        # If it is, increment the count by the number of times needed_sum has occurred\n",
    "        if needed_sum in prefix_sum_count:\n",
    "            count += prefix_sum_count[needed_sum]\n",
    "\n",
    "        # Update the hashmap with the current cumulative sum\n",
    "        # If it exists already, increment its count, otherwise add it with a count of 1\n",
    "        prefix_sum_count[current_sum] = prefix_sum_count.get(current_sum, 0) + 1\n",
    "\n",
    "    # Return the total count of subarrays found that sum to k\n",
    "    return count\n",
    "\n",
    "# Example usage\n",
    "nums = [1, 2, 3]\n",
    "k = 3\n",
    "print(subarraySum(nums, k))  # Output will be 2 (subarrays are [1, 2] and [3])"
   ]
  },
  {
   "cell_type": "markdown",
   "id": "dac1a504-64dd-4db8-8a6c-e2307a912830",
   "metadata": {},
   "source": [
    "## Example: nums = [1, 2, 3], k = 3\n",
    "\n",
    "### Iteration Details:\n",
    "\n",
    "1. **When `num = 1`:**\n",
    "   - `current_sum = 1`, `needed_sum = -2`.\n",
    "   - `-2` is not in `prefix_sum_count`; `count` remains 0.\n",
    "   - Update `prefix_sum_count` to `{0: 1, 1: 1}`.\n",
    "\n",
    "2. **When `num = 2`:**\n",
    "   - `current_sum = 3`, `needed_sum = 0`.\n",
    "   - `0` is in `prefix_sum_count` (once), indicating one subarray ([1, 2]) sums to `k`.\n",
    "   - Increment `count` to 1.\n",
    "   - Update `prefix_sum_count` to `{0: 1, 1: 1, 3: 1}`.\n",
    "\n",
    "3. **When `num = 3`:**\n",
    "   - `current_sum = 6`, `needed_sum = 3`.\n",
    "   - `3` is in `prefix_sum_count` (once), indicating another subarray ([3]) sums to `k`.\n",
    "   - Increment `count` to 2.\n",
    "   - Update `prefix_sum_count` to `{0: 1, 1: 1, 3: 1, 6: 1}`.\n",
    "\n",
    "### Conclusion:\n",
    "There are two subarrays that sum to `k`. The function returns `2`."
   ]
  },
  {
   "cell_type": "markdown",
   "id": "59e5708d-b791-4c96-830a-7ed3c5ea6c80",
   "metadata": {},
   "source": [
    "## Complexity Analysis\n",
    "\n",
    "- **Time Complexity:** `O(n)`, where `n` is the number of elements in the array. This is because we traverse the array only once.\n",
    "- **Space Complexity:** `O(n)`, due to the potential storage needed for the cumulative sums in the HashMap."
   ]
  },
  {
   "cell_type": "markdown",
   "id": "bef044eb-23b3-49ce-8ac1-fb82e927bcad",
   "metadata": {},
   "source": [
    "### [8. Find All Anagrams in a String](https://leetcode.com/problems/find-all-anagrams-in-a-string/description/)\n",
    "\n",
    "Given two strings `s` and `p`, return an array of all the start indices of `p`'s anagrams in `s`. You may return the answer in any order.\n",
    "\n",
    "#### Example 1:\n",
    "\n",
    "- **Input:** `s = \"cbaebabacd\"`, `p = \"abc\"`\n",
    "- **Output:** `[0,6]`\n",
    "- **Explanation:**\n",
    "  - The substring with start index = 0 is `\"cba\"`, which is an anagram of `\"abc\"`.\n",
    "  - The substring with start index = 6 is `\"bac\"`, which is an anagram of `\"abc\"`.\n",
    "\n",
    "#### Constraints:\n",
    "- The length of both input strings may vary based on specific problem requirements (not specified here)."
   ]
  },
  {
   "cell_type": "code",
   "execution_count": 11,
   "id": "67d1b9b6-ebbf-40e6-a3e6-b1ead7974e47",
   "metadata": {},
   "outputs": [],
   "source": [
    "from collections import Counter\n",
    "class Solution:\n",
    "    def findAnagrams(self, s: str, p: str) -> List[int]:\n",
    "        # If the length of p is greater than the length of s, it's impossible to have an anagram.\n",
    "        if len(p) > len(s):\n",
    "            return []\n",
    "\n",
    "        # Initialize a Counter to track the current window's character counts in s.\n",
    "        s_count = Counter()\n",
    "        # Initialize a Counter with the character counts of string p.\n",
    "        p_count = Counter(p)\n",
    "        # This will store the starting indices of the anagrams of p in s.\n",
    "        result = []\n",
    "\n",
    "        # Length of the string p to define the sliding window's length.\n",
    "        p_len = len(p)\n",
    "\n",
    "        # Iterate over each character in the string s.\n",
    "        for i in range(len(s)):\n",
    "            # Add the current character to the sliding window counter.\n",
    "            s_count[s[i]] += 1\n",
    "            # If the window size exceeds p's length, we need to remove the oldest character.\n",
    "            if i >= p_len:\n",
    "                # Identify the character that is sliding out of the window.\n",
    "                out_char = s[i-p_len]\n",
    "                # If the count of that character is 1, we remove it from the counter.\n",
    "                if s_count[out_char] == 1:\n",
    "                    del s_count[out_char]\n",
    "                else:\n",
    "                    # Otherwise, just decrement its count.\n",
    "                    s_count[out_char] -= 1\n",
    "\n",
    "            # If current window's character count matches p's character count, we found an anagram.\n",
    "            if s_count == p_count:\n",
    "                # Append the starting index of the anagram.\n",
    "                result.append(i - p_len + 1)\n",
    "\n",
    "        # Return the list of starting indices of anagrams found.\n",
    "        return result"
   ]
  },
  {
   "cell_type": "code",
   "execution_count": 12,
   "id": "ee0dc6d1-f46b-4bb0-a0b6-c64915d0713b",
   "metadata": {},
   "outputs": [
    {
     "name": "stdout",
     "output_type": "stream",
     "text": [
      "Output: [0, 6]\n",
      "Test Passed: True\n"
     ]
    }
   ],
   "source": [
    "s = \"cbaebabacd\"\n",
    "p = \"abc\"\n",
    "expected_output = [0, 6]\n",
    "\n",
    "solution = Solution()\n",
    "result = solution.findAnagrams(s, p)\n",
    "print(\"Output:\", result)  # Should output [0, 6]\n",
    "print(\"Test Passed:\", result == expected_output)  # Should output True"
   ]
  },
  {
   "cell_type": "markdown",
   "id": "001fd135-21c2-432d-80d0-39bb3a1dd2a8",
   "metadata": {},
   "source": [
    "- **Time Complexity:** O(n), where n is the length of the string `s`, since each character is processed at most twice.\n",
    "- **Space Complexity:** O(1), considering the counter size is constant due to the fixed alphabet size."
   ]
  },
  {
   "cell_type": "markdown",
   "id": "1ae14f65-2106-4a37-8b43-781e54ac637b",
   "metadata": {},
   "source": [
    "# [9. Squares of a Sorted Array](https://leetcode.com/problems/squares-of-a-sorted-array/description/)\n",
    "\n",
    "## Problem\n",
    "\n",
    "Given an integer array `nums` sorted in non-decreasing order, return an array of the squares of each number sorted in non-decreasing order.\n",
    "\n",
    "### Example 1:\n",
    "\n",
    "**Input:** `nums = [-4,-1,0,3,10]`  \n",
    "**Output:** `[0,1,9,16,100]`  \n",
    "**Explanation:** After squaring, the array becomes `[16,1,0,9,100]`. After sorting, it becomes `[0,1,9,16,100]`.\n",
    "\n",
    "### Example 2:\n",
    "\n",
    "**Input:** `nums = [-7,-3,2,3,11]`  \n",
    "**Output:** `[4,9,9,49,121]`  \n",
    "\n",
    "## Constraints:\n",
    "\n",
    "- `1 <= nums.length <= 10^4`\n",
    "- `-10^4 <= nums[i] <= 10^4`\n",
    "- `nums` is sorted in non-decreasing order."
   ]
  },
  {
   "cell_type": "code",
   "execution_count": 13,
   "id": "87a7a185-f49b-4e58-aaed-d74ba010fcc0",
   "metadata": {},
   "outputs": [
    {
     "name": "stdout",
     "output_type": "stream",
     "text": [
      "[0, 1, 9, 16, 100]\n"
     ]
    }
   ],
   "source": [
    "def sortedSquares(nums):\n",
    "    # Initialize two pointers: left at the start, right at the end\n",
    "    left = 0\n",
    "    right = len(nums) - 1\n",
    "\n",
    "    # Prepare an output array of the same length as nums initialized with zeros\n",
    "    result = [0] * len(nums)\n",
    "\n",
    "    # Start filling the result array from the last position\n",
    "    position = len(nums) - 1\n",
    "\n",
    "    # Loop until the left pointer exceeds the right pointer\n",
    "    while left <= right:\n",
    "        # Calculate the square of the elements at both pointers\n",
    "        left_square = nums[left] ** 2\n",
    "        right_square = nums[right] ** 2\n",
    "\n",
    "        # Compare squared values: move the larger one to the result[position]\n",
    "        if left_square > right_square:\n",
    "            # If left square is larger, place it at the current position\n",
    "            result[position] = left_square\n",
    "            # Move the left pointer to the right\n",
    "            left += 1\n",
    "        else:\n",
    "            # If right square is larger or equal, place it at the current position\n",
    "            result[position] = right_square\n",
    "            # Move the right pointer to the left\n",
    "            right -= 1\n",
    "\n",
    "        # Move the position backward\n",
    "        position -= 1\n",
    "\n",
    "    return result\n",
    "\n",
    "# Example usage:\n",
    "nums = [-4, -1, 0, 3, 10]\n",
    "print(sortedSquares(nums))  # Output: [0, 1, 9, 16, 100]"
   ]
  },
  {
   "cell_type": "markdown",
   "id": "8e82255a-bffd-44e4-9524-b51d256d281f",
   "metadata": {},
   "source": [
    "- **Time Complexity**: \\(O(n)\\), where \\(n\\) is the length of the input array, because we iterate through the array at most once with both pointers.\n",
    "- **Space Complexity**: \\(O(n)\\), for the output array that stores the squared values."
   ]
  },
  {
   "cell_type": "markdown",
   "id": "239c981a-1430-4036-b653-cc7deff2779f",
   "metadata": {},
   "source": [
    "# [10. 3Sum](https://leetcode.com/problems/3sum/description/)\n",
    "\n",
    "Given an array of `n` integers, find all unique triplets `(a, b, c)` in the array such that `a + b + c = 0`.\n",
    "\n",
    "**Example:**\n",
    "\n",
    "- Input: `[-1, 0, 1, 2, -1, -4]`\n",
    "- Output: `[[-1, 0, 1], [-1, -1, 2]]`"
   ]
  },
  {
   "cell_type": "code",
   "execution_count": 14,
   "id": "35c4f105-4fb1-47af-aa25-477948ea944c",
   "metadata": {},
   "outputs": [
    {
     "name": "stdout",
     "output_type": "stream",
     "text": [
      "[[-1, -1, 2], [-1, 0, 1]]\n"
     ]
    }
   ],
   "source": [
    "from typing import List\n",
    "\n",
    "class Solution:\n",
    "    def threeSum(self, nums: List[int]) -> List[List[int]]:\n",
    "        # Sort the input array to facilitate two-pointer approach\n",
    "        nums.sort()\n",
    "        n = len(nums)\n",
    "        triplets = []  # To store the resulting triplets\n",
    "\n",
    "        # Iterate through the array, treating each number as a \n",
    "        # potential start of a triplet\n",
    "        for i in range(n - 2):\n",
    "            # Since the list is sorted, if the current number is \n",
    "            # greater than zero, \n",
    "            # all further numbers will also be greater than zero, \n",
    "            # making it impossible\n",
    "            # to sum to zero\n",
    "            if nums[i] > 0:\n",
    "                break\n",
    "\n",
    "            # Skip the number if it's the same as the previous \n",
    "            # one to avoid duplicates\n",
    "            if i > 0 and nums[i] == nums[i - 1]:\n",
    "                continue\n",
    "\n",
    "            # Use two pointers to find the other two numbers of the triplet\n",
    "            left, right = i + 1, n - 1\n",
    "\n",
    "            # Continue while the left pointer is less than the right pointer\n",
    "            while left < right:\n",
    "                current_sum = nums[i] + nums[left] + nums[right]\n",
    "\n",
    "                # If the current sum is less than zero, \n",
    "                # move the left pointer to the right\n",
    "                if current_sum < 0:\n",
    "                    left += 1\n",
    "                # If the current sum is greater than zero, \n",
    "                # move the right pointer to the left\n",
    "                elif current_sum > 0:\n",
    "                    right -= 1\n",
    "                # If the current sum is zero, we found a valid triplet\n",
    "                else:\n",
    "                    triplets.append([nums[i], nums[left], nums[right]])\n",
    "\n",
    "                    # Move the left pointer to the right and \n",
    "                    # the right pointer to the left\n",
    "                    left += 1\n",
    "                    right -= 1\n",
    "\n",
    "                    # Skip the same elements to avoid duplicate triplets\n",
    "                    while left < right and nums[left] == nums[left - 1]:\n",
    "                        left += 1\n",
    "                    while left < right and nums[right] == nums[right + 1]:\n",
    "                        right -= 1\n",
    "\n",
    "        return triplets\n",
    "\n",
    "# Example Test Cases\n",
    "solution = Solution()\n",
    "\n",
    "# Test Case 1: Basic Test\n",
    "nums1 = [-1, 0, 1, 2, -1, -4]\n",
    "print(solution.threeSum(nums1))\n",
    "# Possible output: [[-1, -1, 2], [-1, 0, 1]]"
   ]
  },
  {
   "cell_type": "markdown",
   "id": "818fb002-c87e-46b4-b266-7c10db6e77c6",
   "metadata": {},
   "source": [
    "**Time complexity**: O(n^2), where n is the number of elements in the input list, due to the sorting step (O(n log n)) and the nested two-pointer approach (O(n^2)).  \n",
    "**Space complexity**: O(1) if we disregard the space used for the output, as no extra space proportional to input size is used beyond the input array itself."
   ]
  },
  {
   "cell_type": "markdown",
   "id": "17ea9d3e-3b44-4e43-b7a5-059469e5ea38",
   "metadata": {},
   "source": [
    "# [11. 3Sum Closest](https://leetcode.com/problems/3sum-closest/description/)\n",
    "\n",
    "Given an integer array `nums` and an integer `target`, find three integers in `nums` such that the sum is closest to `target`. Return the sum of the three integers. You may assume that each input would have exactly one solution.\n",
    "\n",
    "### Constraints\n",
    "\n",
    "- `3 <= nums.length <= 500`\n",
    "- `-1000 <= nums[i] <= 1000`\n",
    "- `-10^4 <= target <= 10^4`\n",
    "\n",
    "## Examples\n",
    "\n",
    "**Input:** nums = [-1, 2, 1, -4],  target = 1\n",
    "\n",
    "**Output:**: 2\n",
    "\n",
    "**Explanation:** The sum that is closest to the target is 2. (-1 + 2 + 1 = 2)"
   ]
  },
  {
   "cell_type": "code",
   "execution_count": 15,
   "id": "1e32bfe7-008c-4aaf-aec3-83bfa9651ea8",
   "metadata": {},
   "outputs": [],
   "source": [
    "class Solution:\n",
    "    def threeSumClosest(self, nums: List[int], target: int) -> int:\n",
    "        # Sort the list to use the two-pointer technique effectively\n",
    "        nums.sort()\n",
    "\n",
    "        # Initialize the closest sum to infinity for comparison\n",
    "        closest_sum = float(\"inf\")\n",
    "\n",
    "        # Length of the list\n",
    "        n = len(nums)\n",
    "\n",
    "        # Loop through each number, treating it as the first number of the triplet\n",
    "        for i in range(n - 2):\n",
    "            # Initialize two pointers, starting after the current number i\n",
    "            left = i + 1\n",
    "            right = n - 1\n",
    "\n",
    "            # Use the two-pointer technique to find the closest sum\n",
    "            while left < right:\n",
    "                # Calculate the current sum of the triplet\n",
    "                current_sum = nums[i] + nums[left] + nums[right]\n",
    "\n",
    "                # If the current sum is exactly the target, return it immediately\n",
    "                if current_sum == target:\n",
    "                    return current_sum\n",
    "\n",
    "                # Check if the current sum is closer to the target than the previously recorded closest sum\n",
    "                if abs(current_sum - target) < abs(closest_sum - target):\n",
    "                    closest_sum = current_sum\n",
    "\n",
    "                # Adjust pointers based on how the current sum compares to the target\n",
    "                if current_sum > target:\n",
    "                    # If current sum is greater than target, move the right pointer left to reduce the sum\n",
    "                    right -= 1\n",
    "                else:\n",
    "                    # If current sum is less than target, move the left pointer right to increase the sum\n",
    "                    left += 1\n",
    "\n",
    "        # Return the closest sum found\n",
    "        return closest_sum"
   ]
  },
  {
   "cell_type": "code",
   "execution_count": 16,
   "id": "b58c6692-fffd-42a2-9152-64471396771e",
   "metadata": {},
   "outputs": [
    {
     "name": "stdout",
     "output_type": "stream",
     "text": [
      "Test Case 1: Expected: 2, Got: 2\n"
     ]
    }
   ],
   "source": [
    "nums = [-1, 2, 1, -4]\n",
    "solution = Solution()\n",
    "target = 1\n",
    "result = solution.threeSumClosest(nums, target)\n",
    "print(f\"Test Case 1: Expected: 2, Got: {result}\")"
   ]
  },
  {
   "cell_type": "markdown",
   "id": "f04c11f4-550e-4450-bd4c-fb04978a1788",
   "metadata": {},
   "source": [
    "- **Time Complexity**: \\(O(n^2)\\), where \\(n\\) is the number of elements in the input list `nums`. This is due to the nested loop created by the two-pointer technique.\n",
    "- **Space Complexity**: \\(O(1)\\), as the algorithm uses a constant amount of extra space regardless of the input size."
   ]
  },
  {
   "cell_type": "markdown",
   "id": "8b299f3c-73f9-4393-a0f9-418fd3d2ffab",
   "metadata": {},
   "source": [
    "## [12. Sort Colors](https://leetcode.com/problems/sort-colors/description/)\n",
    "\n",
    "Given an array `nums` with `n` objects colored red, white, or blue, sort them in-place so that objects of the same color are adjacent, with the colors in the order red, white, and blue.\n",
    "\n",
    "We will use the integers `0`, `1`, and `2` to represent the color red, white, and blue, respectively.\n",
    "\n",
    "You must solve this problem without using the library's sort function.\n",
    "\n",
    "### Example 1\n",
    "\n",
    "- **Input:** `nums = [2, 0, 2, 1, 1, 0]`\n",
    "- **Output:** `[0, 0, 1, 1, 2, 2]`\n"
   ]
  },
  {
   "cell_type": "code",
   "execution_count": 17,
   "id": "7e005a5a-1ad2-421b-87f5-c965532434ad",
   "metadata": {},
   "outputs": [
    {
     "name": "stdout",
     "output_type": "stream",
     "text": [
      "[0, 0, 1, 1, 2, 2]\n"
     ]
    }
   ],
   "source": [
    "def sortColors(nums):\n",
    "    # Initialize the pointers.\n",
    "    # 'low' will track the position where the next 0 should be placed.\n",
    "    # 'mid' will scan through the list to decide elements' positions.\n",
    "    # 'high' will track the position where the next 2 should be placed.\n",
    "    low, mid, high = 0, 0, len(nums) - 1\n",
    "\n",
    "    # Iterate through the list using 'mid' pointer.\n",
    "    while mid <= high:\n",
    "        if nums[mid] == 0:\n",
    "            # If the current element is 0, we need to swap it with the element at 'low'\n",
    "            # position because 'low' marks the boundary for 0's.\n",
    "            nums[low], nums[mid] = nums[mid], nums[low]\n",
    "            # Move 'low' and 'mid' pointers to the right, as we've correctly placed\n",
    "            # a 0 at 'low'.\n",
    "            low += 1\n",
    "            mid += 1\n",
    "        elif nums[mid] == 1:\n",
    "            # If the current element is 1, it's already in the correct place, \n",
    "            # because 1's are in the middle. Just move the 'mid' pointer.\n",
    "            mid += 1\n",
    "        else:  # nums[mid] == 2\n",
    "            # If the current element is 2, we need to swap it with the element at 'high'\n",
    "            # position because 'high' marks the boundary for 2's.\n",
    "            # Note: We do not increment 'mid' here because the element swapped\n",
    "            # from 'high' to 'mid' needs to be evaluated.\n",
    "            nums[mid], nums[high] = nums[high], nums[mid]\n",
    "            # Move 'high' pointer to the left, as we've correctly placed\n",
    "            # a 2 at 'high'.\n",
    "            high -= 1\n",
    "\n",
    "# Example usage:\n",
    "nums = [2, 0, 2, 1, 1, 0]\n",
    "sortColors(nums)\n",
    "print(nums)  # Output: [0, 0, 1, 1, 2, 2]"
   ]
  },
  {
   "cell_type": "markdown",
   "id": "32777903-cf58-41f2-ae22-6ab9100cf15d",
   "metadata": {},
   "source": [
    "- **Time Complexity**: O(n)  \n",
    "  The algorithm makes a single pass over the array with `n` elements, ensuring that each element is processed a constant number of times. Therefore, the time complexity is linear, O(n).\n",
    "\n",
    "- **Space Complexity**: O(1)  \n",
    "  The algorithm utilizes a constant amount of extra space for the pointers (`low`, `mid`, `high`), irrespective of the input size. Hence, the space complexity is O(1)."
   ]
  },
  {
   "cell_type": "markdown",
   "id": "572eb201-7e66-43e0-a37a-c41dd027999f",
   "metadata": {},
   "source": [
    "# [13. Container With Most Water](https://leetcode.com/problems/container-with-most-water/description/)\n",
    "\n",
    "## Problem Description:\n",
    "You are given an array `height` of length `n`. Each element in the array represents the height of a vertical line drawn at that index. The width between each pair of lines is 1. You need to find two lines, which together with the x-axis form a container, such that the container holds the most water.\n",
    "\n",
    "## Example:\n",
    "Given `height = [1,8,6,2,5,4,8,3,7]`, the function should return `49`, which corresponds to the area between the indices `1` and `8`."
   ]
  },
  {
   "cell_type": "code",
   "execution_count": 18,
   "id": "47053e2d-23c6-4e2a-b2f6-33734cd7d494",
   "metadata": {},
   "outputs": [
    {
     "name": "stdout",
     "output_type": "stream",
     "text": [
      "The maximum area is: 49\n"
     ]
    }
   ],
   "source": [
    "from typing import List\n",
    "\n",
    "class Solution:\n",
    "    def maxArea(self, height: List[int]) -> int:\n",
    "        # Initialize two pointers, one starting from the beginning (left)\n",
    "        # and the other from the end (right) of the list.\n",
    "        left, right = 0, len(height) - 1\n",
    "\n",
    "        # Variable to store the maximum area found so far.\n",
    "        max_area = 0\n",
    "\n",
    "        # Continue iterating until the two pointers meet.\n",
    "        while left < right:\n",
    "            # Calculate the width between the two pointers: (right - left)\n",
    "            width = right - left\n",
    "\n",
    "            # Determine the height as the minimum of the \n",
    "            # two heights at the pointers.\n",
    "            current_height = min(height[left], height[right])\n",
    "\n",
    "            # Compute the current area by multiplying width and height.\n",
    "            current_area = width * current_height\n",
    "\n",
    "            # Update the maximum area if the current area is greater.\n",
    "            max_area = max(current_area, max_area)\n",
    "\n",
    "            # Move the pointer pointing to the shorter line to try \n",
    "            # and find a taller container.\n",
    "            # This is because moving the shorter line could potentially \n",
    "            # increase the area.\n",
    "            if height[left] < height[right]:\n",
    "                # Move the 'left' pointer to the right to attempt \n",
    "                # a larger area.\n",
    "                left += 1\n",
    "            else:\n",
    "                # Move the 'right' pointer to the left.\n",
    "                right -= 1\n",
    "\n",
    "        # After the loop, return the maximum area found during all iterations.\n",
    "        return max_area\n",
    "\n",
    "# Define the list of heights representing the vertical lines \n",
    "# on the container walls.\n",
    "height = [1, 8, 6, 2, 5, 4, 8, 3, 7]\n",
    "\n",
    "# Create an instance of the Solution class to access the maxArea function.\n",
    "solution = Solution()\n",
    "\n",
    "# Use the instance to invoke the maxArea function with the list of heights.\n",
    "max_area_result = solution.maxArea(height)\n",
    "\n",
    "# Print the result which is the maximum area that can be contained.\n",
    "print(\"The maximum area is:\", max_area_result)"
   ]
  },
  {
   "cell_type": "markdown",
   "id": "b55c6d33-6df5-4825-83cf-49aa123132a1",
   "metadata": {},
   "source": [
    "- **Time Complexity:** \\(O(n)\\) due to a single pass through the list.\n",
    "- **Space Complexity:** \\(O(1)\\) as it uses a constant amount of extra space."
   ]
  },
  {
   "cell_type": "markdown",
   "id": "260c208b-b174-4efe-904d-31b591562944",
   "metadata": {},
   "source": [
    "# [14. Minimum Window Substring](https://leetcode.com/problems/minimum-window-substring/description/)\n",
    "\n",
    "**Problem Statement:**\n",
    "\n",
    "Given two strings `s` and `t` of lengths `m` and `n` respectively, return the minimum window substring of `s` such that every character in `t` (including duplicates) is included in the window. If there is no such substring, return the empty string `\"\"`. The test cases will be generated such that the answer is unique.\n",
    "\n",
    "**Example:**\n",
    "\n",
    "- **Input:** `s = \"ADOBECODEBANC\"`, `t = \"ABC\"`\n",
    "- **Output:** `\"BANC\"`\n",
    "- **Explanation:** The minimum window substring `\"BANC\"` includes 'A', 'B', and 'C' from string `t`."
   ]
  },
  {
   "cell_type": "code",
   "execution_count": 19,
   "id": "2c7aab9c-b390-4406-9e97-a6bb6661c079",
   "metadata": {},
   "outputs": [
    {
     "name": "stdout",
     "output_type": "stream",
     "text": [
      "BANC\n"
     ]
    }
   ],
   "source": [
    "from collections import Counter\n",
    "\n",
    "class Solution:\n",
    "    def minWindow(self, s: str, t: str) -> str:\n",
    "        # Count each character in string T to know what is needed\n",
    "        target_counter = Counter(t)\n",
    "\n",
    "        # A counter to keep track of characters in the current window\n",
    "        window_counter = Counter()\n",
    "\n",
    "        # Pointers for the left and right boundaries of the window\n",
    "        left = 0\n",
    "\n",
    "        # Variables to track the minimum window\n",
    "        min_left = -1\n",
    "        min_size = float('inf')  # Infinity for comparison to find minimum\n",
    "\n",
    "        # Variables to track the number of unique target characters met\n",
    "        formed = 0\n",
    "        required = len(target_counter)  # Total unique characters to be matched\n",
    "\n",
    "        # Expand the window with the right pointer\n",
    "        for right, char in enumerate(s):\n",
    "            # Add one character from the right to the window\n",
    "            window_counter[char] += 1\n",
    "\n",
    "            # Check if the current character's frequency in the window matches the target\n",
    "            if char in target_counter and window_counter[char] == target_counter[char]:\n",
    "                formed += 1\n",
    "\n",
    "            # Contract the window from the left as long as all target characters are matched\n",
    "            while formed == required:\n",
    "                # Update the minimum window if the current one is smaller\n",
    "                if right - left + 1 < min_size:\n",
    "                    min_size = right - left + 1\n",
    "                    min_left = left  # Store left boundary of the smallest window\n",
    "\n",
    "                # The character at the current left position will be \"removed\" from the window\n",
    "                window_counter[s[left]] -= 1\n",
    "\n",
    "                # If a character is less than needed, decrement formed\n",
    "                if s[left] in target_counter and window_counter[s[left]] < target_counter[s[left]]:\n",
    "                    formed -= 1\n",
    "\n",
    "                # Move the left pointer right to try and find a smaller window\n",
    "                left += 1\n",
    "\n",
    "        # If no valid window is found, return an empty string\n",
    "        return \"\" if min_left == -1 else s[min_left:min_left + min_size]\n",
    "\n",
    "# Example usage:\n",
    "s = \"ADOBECODEBANC\"\n",
    "t = \"ABC\"\n",
    "solution = Solution()\n",
    "print(solution.minWindow(s, t))  # Output: \"BANC\""
   ]
  },
  {
   "cell_type": "markdown",
   "id": "202c1bda-1636-425d-bba2-d0a45ae1227a",
   "metadata": {},
   "source": [
    "- **Time Complexity**: O(m + n), where `m` is the length of string `s` and `n` is the length of string `t`. This results from scanning through `s` with two pointers, effectively making one pass through `s` and handling character frequencies.\n",
    "- **Space Complexity**: O(n + k), where `n` is the number of unique characters in `t` and `k` is the number of unique characters in `s`. This space is used by the frequency counters (`target_counter` and `window_counter`)."
   ]
  },
  {
   "cell_type": "markdown",
   "id": "5e0a57c9-d302-4ff9-95af-efa3cbc7c261",
   "metadata": {},
   "source": [
    "## [15. Sliding Window Maximum](https://leetcode.com/problems/sliding-window-maximum/description/)\n",
    "\n",
    "You are given an array of integers `nums`, there is a sliding window of size `k` which is moving from the very left of the array to the very right. You can only see the `k` numbers in the window. Each time the sliding window moves right by one position.\n",
    "\n",
    "Return the max sliding window.\n",
    "\n",
    "### Examples\n",
    "\n",
    "#### Example 1:\n",
    "\n",
    "**Input:**\n",
    "nums = [1,3,-1,-3,5,3,6,7], k = 3\n",
    "\n",
    "**Output:**\n",
    "\n",
    "[3,3,5,5,6,7]\n",
    "\n",
    "**Explanation:**\n",
    "\n",
    "| Window position               | Max |\n",
    "|-------------------------------|-----|\n",
    "| `[1  3  -1] -3  5  3  6  7`   |  3  |\n",
    "| ` 1 [3  -1  -3] 5  3  6  7`   |  3  |\n",
    "| ` 1  3 [-1  -3  5] 3  6  7`   |  5  |\n",
    "| ` 1  3  -1 [-3  5  3] 6  7`   |  5  |\n",
    "| ` 1  3  -1  -3 [5  3  6] 7`   |  6  |\n",
    "| ` 1  3  -1  -3  5 [3  6  7]`  |  7  |\n"
   ]
  },
  {
   "cell_type": "code",
   "execution_count": 20,
   "id": "31d696c5-03b2-4e0e-9f6b-766428038359",
   "metadata": {},
   "outputs": [
    {
     "name": "stdout",
     "output_type": "stream",
     "text": [
      "[3, 3, 5, 5, 6, 7]\n"
     ]
    }
   ],
   "source": [
    "from collections import deque\n",
    "from typing import List\n",
    "\n",
    "class Solution:\n",
    "    def maxSlidingWindow(self, nums: List[int], k: int) -> List[int]:\n",
    "        # Initialize a deque to store indices of the array elements.\n",
    "        # It will help us keep track of the maximum in the current window.\n",
    "        index_queue = deque()\n",
    "\n",
    "        # List to store the maximum of each sliding window.\n",
    "        max_val = []\n",
    "\n",
    "        # Iterate through each element in the array with both index and value.\n",
    "        for index, value in enumerate(nums):\n",
    "            # Remove elements from the front of the deque if they are outside\n",
    "            # the current sliding window's range (i.e., older than index - k + 1).\n",
    "            if index_queue and index - k + 1 > index_queue[0]:\n",
    "                index_queue.popleft()\n",
    "\n",
    "            # Remove elements from the back of the deque if the current element\n",
    "            # is greater than the elements at those indices. This ensures that\n",
    "            # the deque stores indices of elements in decreasing order by value.\n",
    "            while index_queue and nums[index_queue[-1]] <= value:\n",
    "                index_queue.pop()\n",
    "\n",
    "            # Add the current element's index to the deque. At this point,\n",
    "            # all elements in the deque are greater than or equal to the current element.\n",
    "            index_queue.append(index)\n",
    "\n",
    "            # If we've processed at least `k` elements (the first complete window),\n",
    "            # append the maximum for the current window to `max_val`.\n",
    "            # The maximum is the element at the index stored at the front of the deque.\n",
    "            if index >= k - 1:\n",
    "                max_val.append(nums[index_queue[0]])\n",
    "\n",
    "        # Return the list containing the maximum of each sliding window.\n",
    "        return max_val\n",
    "\n",
    "# Example usage\n",
    "sol = Solution()\n",
    "print(sol.maxSlidingWindow([1,3,-1,-3,5,3,6,7], 3)) # Output: [3,3,5,5,6,7]"
   ]
  },
  {
   "cell_type": "markdown",
   "id": "8f6e7312-70a3-4ae6-b83d-8d35934ac028",
   "metadata": {},
   "source": [
    "- **Time Complexity**: O(n), where n is the number of elements in the input list `nums`. Each element is processed at most twice (once added and once removed from the deque).\n",
    "\n",
    "- **Space Complexity**: O(k), where k is the size of the sliding window. This space is used by the deque to store indices of elements within the current window."
   ]
  },
  {
   "cell_type": "markdown",
   "id": "599318b0-f49f-4d6e-a8bb-29e3d13f1f23",
   "metadata": {},
   "source": [
    "## [16. Longest Substring Without Repeating Characters](https://leetcode.com/problems/longest-substring-without-repeating-characters/description/)\n",
    "\n",
    "**Description:**  \n",
    "Given a string `s`, find the length of the longest substring without repeating characters.\n",
    "\n",
    "### Example 1:\n",
    "\n",
    "- **Input:** `s = \"abcabcbb\"`\n",
    "- **Output:** `3`\n",
    "- **Explanation:** The answer is `\"abc\"`, with the length of 3.\n"
   ]
  },
  {
   "cell_type": "code",
   "execution_count": 21,
   "id": "ed917908-0c5e-496c-bfa8-1cd46bd84eb6",
   "metadata": {},
   "outputs": [
    {
     "name": "stdout",
     "output_type": "stream",
     "text": [
      "3\n"
     ]
    }
   ],
   "source": [
    "class Solution:\n",
    "    def lengthOfLongestSubstring(self, s: str) -> int:\n",
    "        # Set to store unique characters in the current window\n",
    "        unique_set = set()\n",
    "\n",
    "        # Left pointer of the sliding window\n",
    "        left_pointer = 0 \n",
    "\n",
    "        # Variable to store the maximum length of substring found\n",
    "        max_length = 0 \n",
    "\n",
    "        # Iterate over the string using the right pointer\n",
    "        for right_pointer, char in enumerate(s):\n",
    "            # If character is already in the set, slide the window\n",
    "            # from the left until the character can be added\n",
    "            while char in unique_set:\n",
    "                unique_set.remove(s[left_pointer])  # Remove the leftmost character\n",
    "                left_pointer += 1  # Move the left pointer to the right\n",
    "\n",
    "            # Add the current character to the set\n",
    "            unique_set.add(char)\n",
    "\n",
    "            # Calculate the length of the current window and update max length if needed\n",
    "            max_length = max(max_length, right_pointer - left_pointer + 1)\n",
    "\n",
    "        # Return the maximum length found\n",
    "        return max_length\n",
    "\n",
    "# Test case\n",
    "s = \"abcabcbb\"\n",
    "# Explanation: The answer is \"abc\", with the length of 3.\n",
    "print(Solution().lengthOfLongestSubstring(s))  # Output: 3"
   ]
  },
  {
   "cell_type": "markdown",
   "id": "97cc4c92-bf19-4588-bb90-278501ecd8b3",
   "metadata": {},
   "source": [
    "- **Time Complexity:** \\(O(n)\\)\n",
    "  - The algorithm processes each character in the string once, moving the left and right pointers at most \\(n\\) times, where \\(n\\) is the length of the string.\n",
    "\n",
    "- **Space Complexity:** \\(O(min(n, m))\\)\n",
    "  - Using a set to store characters in the current window, space is proportional to the size of the window, bounded by the smaller of \\(n\\) (total characters in the string) and \\(m\\) (number of unique characters in the character set)."
   ]
  },
  {
   "cell_type": "markdown",
   "id": "c099e13a-4678-4a99-92b1-79b8877b5b43",
   "metadata": {},
   "source": [
    "# [17. Best Time to Buy and Sell Stock](https://leetcode.com/problems/best-time-to-buy-and-sell-stock/description/)\n",
    "\n",
    "You are given an array `prices` where `prices[i]` is the price of a given stock on the `i`th day.\n",
    "\n",
    "You want to maximize your profit by choosing a single day to buy one stock and choosing a different day in the future to sell that stock.\n",
    "\n",
    "Return the maximum profit you can achieve from this transaction. If you cannot achieve any profit, return `0`.\n",
    "\n",
    "## Example:\n",
    "\n",
    "- **Input:** `prices = [7,1,5,3,6,4]`\n",
    "- **Output:** `5`\n",
    "- **Explanation:** Buy on day 2 (price = 1) and sell on day 5 (price = 6), profit = 6 - 1 = 5.  \n",
    "  Note that buying on day 2 and selling on day 1 is not allowed because you must buy before you sell."
   ]
  },
  {
   "cell_type": "code",
   "execution_count": 22,
   "id": "059517e3-8528-472c-b761-b41f7488945c",
   "metadata": {},
   "outputs": [
    {
     "name": "stdout",
     "output_type": "stream",
     "text": [
      "5\n"
     ]
    }
   ],
   "source": [
    "class Solution:\n",
    "    def maxProfit(self, prices: List[int]) -> int:\n",
    "        # Initialize variables to track the maximum profit and the minimum price seen so far.\n",
    "        max_price = 0\n",
    "        min_price = float('inf')\n",
    "\n",
    "        # Iterate over each price in the list of prices.\n",
    "        for price in prices:\n",
    "            # Update the maximum profit by checking if selling at the current price\n",
    "            # and buying at the minimum price seen so far gives a higher profit.\n",
    "            max_price = max(max_price, price - min_price)\n",
    "\n",
    "            # Update the minimum price to the lesser of the current price or the\n",
    "            # minimum price seen so far.\n",
    "            min_price = min(price, min_price)\n",
    "\n",
    "        # Return the maximum profit found.\n",
    "        return max_price\n",
    "\n",
    "# Test Case\n",
    "prices = [7, 1, 5, 3, 6, 4]\n",
    "solution = Solution()\n",
    "print(solution.maxProfit(prices))  # Expected output: 5\n",
    "\n",
    "# Explanation of Test Case:\n",
    "# The maximum profit can be achieved by buying on day 2 (price = 1) and selling on day 5 (price = 6).\n",
    "# The profit is 6 - 1 = 5, which is the maximum possible profit for this sequence of prices."
   ]
  },
  {
   "cell_type": "markdown",
   "id": "3b4924c5-9d2a-484c-ad10-3446e48eded9",
   "metadata": {},
   "source": [
    "- **Time Complexity:** \\(O(n)\\)  \n",
    "  The algorithm iterates through each element of the `prices` list exactly once, where \\(n\\) is the number of days (or elements in the list).\n",
    "\n",
    "- **Space Complexity:** \\(O(1)\\)  \n",
    "  The algorithm uses a constant amount of extra space regardless of the size of the input, as it only requires a few extra variables to hold the state."
   ]
  },
  {
   "cell_type": "markdown",
   "id": "edc3c5be-2153-490f-bfba-9a8931ea8426",
   "metadata": {},
   "source": [
    "## 18. Meeting Rooms\n",
    "\n",
    "Given an array of meeting time intervals consisting of start and end times `[[s1, e1], [s2, e2], ...]` (inclusive of the start time and exclusive of the end time), determine if a person can attend all meetings without any scheduling conflicts.\n",
    "\n",
    "### Example 1\n",
    "\n",
    "- **Input:** `intervals = [[0, 30], [5, 10], [15, 20]]`\n",
    "- **Output:** `False`\n",
    "- **Explanation:** \n",
    "  - The meeting `[0, 30]` overlaps with `[5, 10]`, making it impossible to attend all without conflict.\n",
    "\n",
    "### Example 2\n",
    "\n",
    "- **Input:** `intervals = [[7, 10], [2, 4]]`\n",
    "- **Output:** `True`\n",
    "- **Explanation:** \n",
    "  - The meetings `[7, 10]` and `[2, 4]` do not overlap, allowing attendance at all meetings."
   ]
  },
  {
   "cell_type": "code",
   "execution_count": 23,
   "id": "6ef312cb-c2bc-4ff5-9c5e-45da7dfb087c",
   "metadata": {},
   "outputs": [
    {
     "name": "stdout",
     "output_type": "stream",
     "text": [
      "False\n"
     ]
    }
   ],
   "source": [
    "def canAttendMeetings(intervals):\n",
    "    # Sort the intervals based on their start times\n",
    "    intervals.sort(key=lambda x: x[0])\n",
    "\n",
    "    # Iterate through the sorted intervals and check for overlaps\n",
    "    for i in range(1, len(intervals)):\n",
    "        # If there is an overlap, return False\n",
    "        if intervals[i][0] < intervals[i-1][1]:\n",
    "            return False\n",
    "\n",
    "    # If no overlaps are found, return True\n",
    "    return True\n",
    "\n",
    "# Example usage:\n",
    "intervals = [[0, 30], [5, 10], [15, 20]]\n",
    "print(canAttendMeetings(intervals))  # Output: False"
   ]
  },
  {
   "cell_type": "markdown",
   "id": "da897759-8506-4cc4-9236-466dd18d4660",
   "metadata": {},
   "source": [
    "- **Time Complexity:** O(n log n) - This is due to the sorting of the intervals.\n",
    "- **Space Complexity:** O(1) - Assuming the sort is done in place, aside from the input storage."
   ]
  },
  {
   "cell_type": "markdown",
   "id": "b3ec7584-e004-4f5a-9818-9d774b2a80ab",
   "metadata": {},
   "source": [
    "# [19. Insert Interval](https://leetcode.com/problems/insert-interval/description/)\n",
    "\n",
    "## Problem Description\n",
    "\n",
    "You are given an array of non-overlapping intervals `intervals` where `intervals[i] = [starti, endi]` represent the start and the end of the ith interval and `intervals` is sorted in ascending order by `starti`. You are also given an interval `newInterval = [start, end]` that represents the start and end of another interval.\n",
    "\n",
    "Insert `newInterval` into `intervals` such that `intervals` is still sorted in ascending order by `starti` and `intervals` still does not have any overlapping intervals (merge overlapping intervals if necessary).\n",
    "\n",
    "Return `intervals` after the insertion.\n",
    "\n",
    "Note that you don't need to modify `intervals` in-place. You can make a new array and return it.\n",
    "\n",
    "## Example\n",
    "\n",
    "**Example 1:**\n",
    "\n",
    "- **Input:** \n",
    "  - `intervals = [[1,3],[6,9]]`\n",
    "  - `newInterval = [2,5]`\n",
    "- **Output:** `[[1,5],[6,9]]`\n"
   ]
  },
  {
   "cell_type": "code",
   "execution_count": 24,
   "id": "758f8811-679d-4e8b-8617-892e567800c4",
   "metadata": {},
   "outputs": [],
   "source": [
    "from typing import List\n",
    "\n",
    "class Solution:\n",
    "    def insert(self, intervals: List[List[int]], newInterval: List[int]) -> List[List[int]]:\n",
    "        # Edge case: if the list of intervals is empty, just return the new interval wrapped in a list\n",
    "        if not intervals:\n",
    "            return [newInterval]\n",
    "\n",
    "        n = len(intervals)\n",
    "        target = newInterval[0]  # The start of the new interval that we'll compare against existing intervals\n",
    "\n",
    "        left, right = 0, n - 1  # Set initial binary search boundaries\n",
    "\n",
    "        # Perform binary search to find the insertion position based on interval starts\n",
    "        while left <= right:\n",
    "            mid = left + (right - left) // 2  # Avoid potential overflow with this computation of mid\n",
    "            if intervals[mid][0] < target:\n",
    "                left = mid + 1  # Move to the right half if mid interval starts before the new interval\n",
    "            else:\n",
    "                right = mid - 1  # Move to the left half otherwise\n",
    "\n",
    "        # Insert the new interval at the found index 'left'\n",
    "        intervals.insert(left, newInterval)\n",
    "\n",
    "        # This list will hold the merged, non-overlapping intervals\n",
    "        res = []\n",
    "\n",
    "        # Iterate through the intervals to merge them as needed\n",
    "        for i in intervals:\n",
    "            # If the result list is empty or the last interval in result does not overlap with the current, add the current\n",
    "            if not res or res[-1][1] < i[0]:\n",
    "                res.append(i)\n",
    "            else:\n",
    "                # Merge the current interval with the last interval in result by updating the end\n",
    "                res[-1][1] = max(res[-1][1], i[1])\n",
    "\n",
    "        # Return the merged list of intervals\n",
    "        return res"
   ]
  },
  {
   "cell_type": "markdown",
   "id": "3e6fc25d-2b9f-4bde-83e4-1ed01d60d13e",
   "metadata": {},
   "source": [
    "- **Time Complexity:** (O(n)) - The complexity is dominated by the merging step, which involves iterating over all intervals. The binary search for insertion takes (O(log n)), but is outweighed by the (O(n)) for merging.\n",
    "- **Space Complexity:** (O(n)) - In the worst case, the extra space usage results from the `res` list, which, in the worst case, could store all intervals if none are merged."
   ]
  },
  {
   "cell_type": "markdown",
   "id": "a35970df-d0ec-4c57-87cd-154540ec6cf9",
   "metadata": {},
   "source": [
    "# [20. Merge Intervals](https://leetcode.com/problems/merge-intervals/description/)\n",
    "\n",
    "## Problem Statement\n",
    "\n",
    "Given an array of intervals where `intervals[i] = [start_i, end_i]`, merge all overlapping intervals, and return an array of the non-overlapping intervals that cover all the intervals in the input.\n",
    "\n",
    "## Example\n",
    "\n",
    "- **Input:** `intervals = [[1,3],[2,6],[8,10],[15,18]]`\n",
    "- **Output:** `[[1,6],[8,10],[15,18]]`\n",
    "- **Explanation:** Since intervals [1,3] and [2,6] overlap, merge them into [1,6].\n"
   ]
  },
  {
   "cell_type": "code",
   "execution_count": 25,
   "id": "9cb5751a-73a8-448e-8204-a2a265aabc58",
   "metadata": {},
   "outputs": [
    {
     "name": "stdout",
     "output_type": "stream",
     "text": [
      "[[1, 6], [8, 10], [15, 18]]\n"
     ]
    }
   ],
   "source": [
    "from typing import List\n",
    "\n",
    "class Solution:\n",
    "    def merge(self, intervals: List[List[int]]) -> List[List[int]]:\n",
    "        # First, sort the intervals list based on the starting times\n",
    "        intervals.sort(key=lambda x: x[0])\n",
    "\n",
    "        # Initialize an empty list to store the merged intervals\n",
    "        merged = []\n",
    "\n",
    "        # Iterate over each interval in the sorted list\n",
    "        for interval in intervals:\n",
    "            # Check if the merged list is empty or there is no overlap with the last interval in merged\n",
    "            if not merged or merged[-1][1] < interval[0]:\n",
    "                # If no overlap, append the current interval to merged\n",
    "                merged.append(interval)\n",
    "            else:\n",
    "                # If there is overlap, merge the current interval with the last interval in merged\n",
    "                merged[-1][1] = max(merged[-1][1], interval[1])\n",
    "\n",
    "        # Return the merged list of intervals\n",
    "        return merged\n",
    "\n",
    "# Test case\n",
    "intervals = [[1, 3], [2, 6], [8, 10], [15, 18]]\n",
    "solution = Solution()\n",
    "result = solution.merge(intervals)\n",
    "print(result)  # Output: [[1, 6], [8, 10], [15, 18]]"
   ]
  },
  {
   "cell_type": "markdown",
   "id": "e468baf3-60e6-40aa-9f9b-97948c762e75",
   "metadata": {},
   "source": [
    "- **Time Complexity:** O(n log n), where n is the number of intervals. The complexity arises from sorting the `intervals` list. The traversal through the list to merge intervals takes O(n) time.\n",
    "- **Space Complexity:** O(n), where n is the number of intervals. This is due to the storage required for the `merged` list in the worst-case scenario where no intervals are overlapping."
   ]
  },
  {
   "cell_type": "markdown",
   "id": "962c655c-8b11-478e-829f-a874f24fd519",
   "metadata": {},
   "source": [
    "# [21. Non-overlapping Intervals](https://leetcode.com/problems/non-overlapping-intervals/description/)\n",
    "\n",
    "Given an array of intervals `intervals` where `intervals[i] = [starti, endi]`, return the minimum number of intervals you need to remove to make the rest of the intervals non-overlapping. Note that intervals which only touch at a point are considered non-overlapping. For example, `[1, 2]` and `[2, 3]` are non-overlapping.\n",
    "\n",
    "## Example\n",
    "\n",
    "- **Input:** `intervals = [[1,2],[2,3],[3,4],[1,3]]`\n",
    "- **Output:** `1`\n",
    "- **Explanation:** `[1,3]` can be removed and the rest of the intervals are non-overlapping."
   ]
  },
  {
   "cell_type": "code",
   "execution_count": 26,
   "id": "67fd34b9-d2e4-4f96-90ee-232f95443cbb",
   "metadata": {},
   "outputs": [],
   "source": [
    "class Solution:\n",
    "    def eraseOverlapIntervals(self, intervals: List[List[int]]) -> int:\n",
    "        # Sort intervals based on their end times to maximize the number of non-overlapping intervals\n",
    "        intervals.sort(key=lambda x: x[1])\n",
    "\n",
    "        # Initialize the count of intervals to be removed\n",
    "        remove_interval_count = 0\n",
    "\n",
    "        # Initialize the end time of the first interval\n",
    "        end_time = intervals[0][1]\n",
    "\n",
    "        # Iterate over the rest of the intervals\n",
    "        for start, end in intervals[1:]:\n",
    "            # If the start of the current interval is greater than or equal to the end of the last non-overlapping interval\n",
    "            if start >= end_time:\n",
    "                # Update the end time to the end of the current interval\n",
    "                end_time = end\n",
    "            else:\n",
    "                # If the current interval overlaps, increment the removal count\n",
    "                remove_interval_count += 1\n",
    "\n",
    "        # Return the total number of intervals that need to be removed to make the rest non-overlapping\n",
    "        return remove_interval_count"
   ]
  },
  {
   "cell_type": "code",
   "execution_count": 27,
   "id": "14201bfc-6c5f-49eb-b54b-7f38b5ca30d4",
   "metadata": {},
   "outputs": [
    {
     "name": "stdout",
     "output_type": "stream",
     "text": [
      "1\n"
     ]
    }
   ],
   "source": [
    "intervals = [[1, 2], [2, 3], [3, 4], [1, 3]]\n",
    "solution = Solution()\n",
    "print(solution.eraseOverlapIntervals(intervals))  # Output should be 1"
   ]
  },
  {
   "cell_type": "markdown",
   "id": "01aa1443-e93b-4afe-bfaf-99e4a7c8a4ad",
   "metadata": {},
   "source": [
    "**Time Complexity:** \\(O(n log n)\\) due to the sorting of intervals.\n",
    "\n",
    "**Space Complexity:** \\(O(1)\\) since the algorithm uses a constant amount of extra space."
   ]
  },
  {
   "cell_type": "markdown",
   "id": "52e9cd69-2b3e-4c1a-83ee-4a4fdb186e4e",
   "metadata": {},
   "source": [
    "# 22. Meeting Rooms II\n",
    "\n",
    "## Problem Statement\n",
    "Given an array of intervals where each interval represents a meeting's start and end time, determine the minimum number of conference rooms required to accommodate all the meetings without overlapping. Each meeting is represented as a pair of integers `[start, end]` where `start < end`.\n",
    "\n",
    "## Example\n",
    "\n",
    "**Input:**\n",
    "\n",
    "[[0, 30], [5, 10], [15, 20]]\n",
    "\n",
    "**Output:**\n",
    "\n",
    "2\n",
    "\n",
    "**Explanation:**\n",
    "- The first meeting is from 0 to 30.\n",
    "- The second meeting is from 5 to 10.m Since it overlaps with the first meeting, a new room is needed.\n",
    "- The third meeting is from 15 to 20. At this time, the second meeting has ended, but the first is still ongoing, so a new room is needed.\n",
    "- Thus, a total of 2 rooms are required to host all meetings without any overlap.\n",
    "\n",
    "## Another Example\n",
    "\n",
    "**Input:**\n",
    "\n",
    "[[7, 10], [2, 4]]\n",
    "\n",
    "**Output:**\n",
    "\n",
    "1\n",
    "\n",
    "**Explanation:**\n",
    "- The first meeting is from 7 to 10.\n",
    "- The second meeting is from 2 to 4. There is no overlap, so both can share the same room.\n",
    "- Thus, only 1 room is required."
   ]
  },
  {
   "cell_type": "code",
   "execution_count": 28,
   "id": "f8086440-be64-4b3c-8854-30f3e64c819a",
   "metadata": {},
   "outputs": [
    {
     "name": "stdout",
     "output_type": "stream",
     "text": [
      "2\n"
     ]
    }
   ],
   "source": [
    "import heapq\n",
    "\n",
    "def minMeetingRooms(intervals):\n",
    "    if not intervals:\n",
    "        return 0\n",
    "\n",
    "    # Sort the intervals based on start time\n",
    "    intervals.sort(key=lambda x: x[0])\n",
    "\n",
    "    # Min-heap to track end times of meetings\n",
    "    min_heap = []\n",
    "\n",
    "    # Add the first meeting's end time to the heap\n",
    "    heapq.heappush(min_heap, intervals[0][1])\n",
    "\n",
    "    # Iterate over remaining intervals\n",
    "    for i in range(1, len(intervals)):\n",
    "        # If the room is free (i.e., the earliest meeting has ended), remove it\n",
    "        if intervals[i][0] >= min_heap[0]:\n",
    "            heapq.heappop(min_heap)\n",
    "\n",
    "        # Add the current meeting's end time to the heap\n",
    "        heapq.heappush(min_heap, intervals[i][1])\n",
    "\n",
    "    # The size of the heap is the number of rooms required\n",
    "    return len(min_heap)\n",
    "\n",
    "# Example usage:\n",
    "meetings = [[0, 30], [5, 10], [15, 20]]\n",
    "print(minMeetingRooms(meetings))  # Output: 2"
   ]
  },
  {
   "cell_type": "markdown",
   "id": "7fe67dd5-75d6-4004-9933-2ed5928b2366",
   "metadata": {},
   "source": [
    "- **Time Complexity**: \\(O(N log N)\\) due to sorting the intervals and using a min-heap for managing meeting end times.\n",
    "- **Space Complexity**: \\(O(N)\\) to store the end times of meetings in the min-heap."
   ]
  },
  {
   "cell_type": "markdown",
   "id": "36722240-3c16-44a5-8cd0-7449664b00cc",
   "metadata": {},
   "source": [
    "# [23. Gas Station](https://leetcode.com/problems/gas-station/description/)\n",
    "\n",
    "## Problem\n",
    "\n",
    "There are `n` gas stations along a circular route, where the amount of gas at the `i-th` station is `gas[i]`.\n",
    "\n",
    "You have a car with an unlimited gas tank and it costs `cost[i]` of gas to travel from the `i-th` station to its next (`i + 1`)-th station. You begin the journey with an empty tank at one of the gas stations.\n",
    "\n",
    "Given two integer arrays `gas` and `cost`, return the starting gas station's index if you can travel around the circuit once in the clockwise direction, otherwise return `-1`. If there exists a solution, it is guaranteed to be unique.\n",
    "\n",
    "## Example\n",
    "\n",
    "**Example 1:**\n",
    "\n",
    "Input: gas = [1,2,3,4,5], cost = [3,4,5,1,2] Output: 3\n",
    "\n",
    "**Explanation:**\n",
    "\n",
    "Start at station 3 (index 3) and fill up with 4 unit of gas. Your tank = 0 + 4 = 4\n",
    "\n",
    "Travel to station 4. Your tank = 4 - 1 + 5 = 8\n",
    "\n",
    "Travel to station 0. Your tank = 8 - 2 + 1 = 7\n",
    "\n",
    "Travel to station 1. Your tank = 7 - 3 + 2 = 6\n",
    "\n",
    "Travel to station 2. Your tank = 6 - 4 + 3 = 5\n",
    "\n",
    "Travel to station 3. The cost is 5. Your gas is just enough to travel back to station 3.\n",
    "\n",
    "Therefore, return 3 as the starting index."
   ]
  },
  {
   "cell_type": "code",
   "execution_count": 29,
   "id": "4d5ca55f-62f7-42d9-8839-f0641e318744",
   "metadata": {},
   "outputs": [
    {
     "name": "stdout",
     "output_type": "stream",
     "text": [
      "3\n"
     ]
    }
   ],
   "source": [
    "def canCompleteCircuit(gas, cost):\n",
    "    # Initialize total and current tank balances\n",
    "    total_tank, current_tank = 0, 0\n",
    "    # Start checking from the first gas station\n",
    "    starting_station = 0\n",
    "\n",
    "    # Iterate over each gas station\n",
    "    for i in range(len(gas)):\n",
    "        # Calculate the net gain/loss of gas at station i\n",
    "        balance = gas[i] - cost[i]\n",
    "        # Update the total tank balance after visiting station i\n",
    "        total_tank += balance\n",
    "        # Update the current tank balance after visiting station i\n",
    "        current_tank += balance\n",
    "\n",
    "        # If at any station the current tank balance is negative,\n",
    "        # it indicates that we cannot start from our current starting station\n",
    "        if current_tank < 0:\n",
    "            # Set the next station as the new starting station\n",
    "            starting_station = i + 1\n",
    "            # Reset the current tank balance because we'll start fresh from the next station\n",
    "            current_tank = 0\n",
    "\n",
    "    # After checking all the stations, if total_tank is non-negative,\n",
    "    # it means the circuit can be completed, return the starting station\n",
    "    if total_tank >= 0:\n",
    "        return starting_station\n",
    "    else:\n",
    "        # Otherwise, it is impossible to complete the circuit with any starting point\n",
    "        return -1\n",
    "\n",
    "# Example usage\n",
    "gas = [1, 2, 3, 4, 5]   # Gas available at each station\n",
    "cost = [3, 4, 5, 1, 2]  # Cost to travel to the next station\n",
    "print(canCompleteCircuit(gas, cost))  # Output: 3"
   ]
  },
  {
   "cell_type": "markdown",
   "id": "21049a21-39c7-4d1e-86d4-0c829375ea3d",
   "metadata": {},
   "source": [
    "- **Time Complexity**: O(n) - We iterate over the list of gas stations once, making the complexity linear relative to the number of stations.\n",
    "- **Space Complexity**: O(1) - The algorithm uses a constant amount of extra space, irrespective of the input size."
   ]
  },
  {
   "cell_type": "markdown",
   "id": "091e28df-200b-4cc0-88c2-ea9db708904c",
   "metadata": {},
   "source": [
    "## [24. Product of Array Except Self](https://leetcode.com/problems/product-of-array-except-self/description/)\n",
    "\n",
    "Given an integer array `nums`, return an array `answer` such that `answer[i]` is equal to the product of all the elements of `nums` except `nums[i]`.\n",
    "\n",
    "The product of any prefix or suffix of `nums` is guaranteed to fit in a 32-bit integer.\n",
    "\n",
    "You must write an algorithm that runs in `O(n)` time and without using the division operation.\n",
    "\n",
    "## Example\n",
    "\n",
    "**Input:**\n",
    "\n",
    "nums = [1,2,3,4]\n",
    "\n",
    "**Output:**\n",
    "\n",
    "[24,12,8,6]"
   ]
  },
  {
   "cell_type": "code",
   "execution_count": 30,
   "id": "e03a0bc4-792b-4d2a-927d-c2b4b8906050",
   "metadata": {},
   "outputs": [],
   "source": [
    "from typing import List\n",
    "\n",
    "class Solution:\n",
    "    def productExceptSelf(self, nums: List[int]) -> List[int]:\n",
    "        # Initialize the result array with 1s. This array will store the final product results.\n",
    "        result = [1] * len(nums)\n",
    "\n",
    "        # Compute the prefix product for each element.\n",
    "        # The prefix product for `result[i]` is the product of all elements to the left of `i`.\n",
    "        for i in range(1, len(nums)):\n",
    "            result[i] = result[i-1] * nums[i-1]\n",
    "\n",
    "        # Initialize a variable `postfix` to accumulate the postfix product.\n",
    "        postfix = 1\n",
    "        # Compute the postfix product for each element and multiply it with the current prefix product.\n",
    "        # The postfix product is the product of all elements to the right of `i`.\n",
    "        for i in range(len(nums)-1, -1, -1):\n",
    "            # Multiply the current value in result[i] (which is the prefix product) by the current postfix product.\n",
    "            result[i] = result[i] * postfix\n",
    "            # Update the postfix product for the next iteration to include the current element.\n",
    "            postfix = postfix * nums[i]\n",
    "\n",
    "        return result"
   ]
  },
  {
   "cell_type": "code",
   "execution_count": 31,
   "id": "4b5f53ae-947b-4d2a-92a6-74db870e8d58",
   "metadata": {},
   "outputs": [
    {
     "name": "stdout",
     "output_type": "stream",
     "text": [
      "[24, 12, 8, 6]\n"
     ]
    }
   ],
   "source": [
    "# Create an instance of the Solution class\n",
    "solution = Solution()\n",
    "\n",
    "# Define the input\n",
    "nums = [1, 2, 3, 4]\n",
    "\n",
    "# Get the output using the productExceptSelf method\n",
    "output = solution.productExceptSelf(nums)\n",
    "\n",
    "# Print the output\n",
    "print(output)  # Expected output: [24, 12, 8, 6]"
   ]
  },
  {
   "cell_type": "markdown",
   "id": "d9d9ed45-3df0-431a-8ba6-e37c2e4fb709",
   "metadata": {},
   "source": [
    "- **Time Complexity**: \\(O(n)\\) - The function iterates through the input list twice (once for prefix products and once for postfix products), where \\(n\\) is the number of elements in the input list.\n",
    "\n",
    "- **Space Complexity**: \\(O(1)\\) (excluding the output list) - The function uses a constant amount of additional space for the `postfix` variable; the `result` list is not considered extra space since it is part of the output.`"
   ]
  },
  {
   "cell_type": "markdown",
   "id": "43ff6218-04d6-4bde-9cf9-1565ac1968d3",
   "metadata": {},
   "source": [
    "## [25. Rotate Array](https://leetcode.com/problems/rotate-array/description/)\n",
    "\n",
    "### Problem Description\n",
    "\n",
    "Given an integer array `nums`, rotate the array to the right by `k` steps, where `k` is non-negative.\n",
    "\n",
    "### Example:\n",
    "\n",
    "text = [1,2,3,4,5,6,7], , k = 3\n",
    "\n",
    "Output: [5,6,7,1,2,3,4]\n",
    "\n",
    "**Explanation:**\n",
    "\n",
    "- Rotate 1 step to the right: \\([7,1,2,3,4,5,6]\\)\n",
    "- Rotate 2 steps to the right: \\([6,7,1,2,3,4,5]\\)\n",
    "- Rotate 3 steps to the right: \\([5,6,7,1,2,3,4]\\)\n"
   ]
  },
  {
   "cell_type": "code",
   "execution_count": 32,
   "id": "0b1248a6-cc60-4930-81e6-88ef4c0449d7",
   "metadata": {},
   "outputs": [],
   "source": [
    "class Solution:\n",
    "    def rotate(self, nums: List[int], k: int) -> None:\n",
    "        \"\"\"\n",
    "        Rotates the array `nums` to the right by `k` steps in place.\n",
    "        \"\"\"\n",
    "        # Calculate the effective rotations needed, as rotating by the length of the array results in the same array.\n",
    "        # This handles cases where k is greater than the length of the array.\n",
    "        k %= len(nums)\n",
    "\n",
    "        # Slice the array into two parts:\n",
    "        # 1. The last k elements (which will move to the front after rotation).\n",
    "        # 2. The rest of the array (which moves to the back after rotation).\n",
    "        # Then concatenate these two parts in reverse order.\n",
    "        nums[:] = nums[-k:] + nums[:-k]\n",
    "\n",
    "        # nums[-k:] provides the last k elements of the array.\n",
    "        # nums[:-k] provides all elements except the last k ones.\n",
    "        # The result of the concatenation assigns the rotated version back to the original array using nums[:] = ..."
   ]
  },
  {
   "cell_type": "markdown",
   "id": "bf902f86-db55-4b59-ad1c-0bb61b9fc0e9",
   "metadata": {},
   "source": [
    "- **Time Complexity**: \\( O(n) \\) - The solution involves slicing the array and concatenating two lists, both of which require linear time proportional to the size of the array.\n",
    "- **Space Complexity**: \\( O(n) \\) - While the operation modifies the array in place, the slicing operation creates temporary sublists that occupy additional space."
   ]
  },
  {
   "cell_type": "markdown",
   "id": "e42e4add-34f0-4801-9b27-2134ce5ed7a3",
   "metadata": {},
   "source": [
    "## [26. Longest Consecutive Sequence](https://leetcode.com/problems/longest-consecutive-sequence/description/)\n",
    "\n",
    "Given an unsorted array of integers `nums`, return the length of the longest consecutive elements sequence.\n",
    "\n",
    "You must write an algorithm that runs in **O(n)** time.\n",
    "\n",
    "#### Example 1:\n",
    "\n",
    "- **Input:** `nums = [100,4,200,1,3,2]`\n",
    "- **Output:** `4`\n",
    "- **Explanation:** The longest consecutive elements sequence is `[1, 2, 3, 4]`. Therefore its length is `4`."
   ]
  },
  {
   "cell_type": "code",
   "execution_count": 33,
   "id": "f49435d2-7ef0-4137-ac06-461584b690f1",
   "metadata": {},
   "outputs": [
    {
     "name": "stdout",
     "output_type": "stream",
     "text": [
      "4\n"
     ]
    }
   ],
   "source": [
    "from typing import List\n",
    "\n",
    "class Solution:\n",
    "    def longestConsecutive(self, nums: List[int]) -> int:\n",
    "        # Convert the list to a set to eliminate duplicates and allow O(1) lookups.\n",
    "        nums = set(nums)\n",
    "        # Initialize the variable to track the length of the longest consecutive sequence found.\n",
    "        long_seq = 0\n",
    "\n",
    "        # Iterate over each number in the set.\n",
    "        for i in nums:\n",
    "            # Only consider starting a new sequence if `i-1` is not in the set,\n",
    "            # which means `i` is the beginning of a potential sequence.\n",
    "            if i - 1 not in nums:\n",
    "                current_num = i\n",
    "                current_seq = 1\n",
    "\n",
    "                # Check for the rest of the sequence incrementally.\n",
    "                while current_num + 1 in nums:\n",
    "                    current_num += 1\n",
    "                    current_seq += 1\n",
    "\n",
    "                # Update the longest sequence found so far.\n",
    "                long_seq = max(current_seq, long_seq)\n",
    "\n",
    "        # Return the length of the longest consecutive sequence.\n",
    "        return long_seq\n",
    "\n",
    "# Test case\n",
    "nums = [100, 4, 200, 1, 3, 2]\n",
    "solution = Solution()\n",
    "print(solution.longestConsecutive(nums))  # Output: 4\n",
    "\n",
    "# Explanation of the test case:\n",
    "# The longest consecutive sequence in the list [100, 4, 200, 1, 3, 2] is [1, 2, 3, 4],\n",
    "# which has a length of 4."
   ]
  },
  {
   "cell_type": "markdown",
   "id": "d72dd0fd-f072-434f-946a-de9c22831b0f",
   "metadata": {},
   "source": [
    "- **Time Complexity:** O(n), where n is the number of elements in the input list. Hash set operations (insertions and lookups) are O(1) on average, and iterating through the list requires O(n) time.\n",
    "\n",
    "- **Space Complexity:** O(n), primarily due to storing all elements of the input list in a hash set to enable O(1) lookups."
   ]
  },
  {
   "cell_type": "markdown",
   "id": "7ba63a12-2ff3-4600-95c7-82864c63f114",
   "metadata": {},
   "source": [
    "## [27. Combination Sum](https://leetcode.com/problems/combination-sum/description/)\n",
    "\n",
    "### Description\n",
    "\n",
    "Given an array of distinct integers `candidates` and a target integer `target`, return a list of all unique combinations of `candidates` where the chosen numbers sum to `target`. You may return the combinations in any order.\n",
    "\n",
    "The same number may be chosen from `candidates` an unlimited number of times. Two combinations are unique if the **frequency** of at least one of the chosen numbers is different.\n",
    "\n",
    "The test cases are generated such that the number of unique combinations that sum up to `target` is less than 150 combinations for the given input.\n",
    "\n",
    "### Example\n",
    "\n",
    "- **Input:** `candidates = [2,3,6,7], target = 7`\n",
    "- **Output:** `[[2,2,3],[7]]`\n",
    "- **Explanation:**\n",
    "  - 2 and 3 are candidates, and 2 + 2 + 3 = 7. Note that 2 can be used multiple times.\n",
    "  - 7 is a candidate, and 7 = 7.\n",
    "  - These are the only two combinations."
   ]
  },
  {
   "cell_type": "code",
   "execution_count": 34,
   "id": "71f6fafa-a475-4a71-b5ab-b7f4aa37ff71",
   "metadata": {},
   "outputs": [
    {
     "name": "stdout",
     "output_type": "stream",
     "text": [
      "[[2, 2, 3], [7]]\n"
     ]
    }
   ],
   "source": [
    "from typing import List\n",
    "\n",
    "class Solution:\n",
    "    def combinationSum(self, candidates: List[int], target: int) -> List[List[int]]:\n",
    "        # The backtracking function to explore combinations.\n",
    "        def backtrack(remaining: int, start: int, path: List[int], res: List[List[int]]):\n",
    "            # If remaining is negative, the current combination exceeds the target.\n",
    "            if remaining < 0:\n",
    "                return  # Stop exploring this path as it's not valid.\n",
    "\n",
    "            # If remaining is zero, we have found a valid combination.\n",
    "            if remaining == 0:\n",
    "                # Append a copy of the current path to the results\n",
    "                res.append(list(path))\n",
    "                return  # Return to explore other possibilities.\n",
    "\n",
    "            # Iterate over the candidates starting from the current position.\n",
    "            for i in range(start, len(candidates)):\n",
    "                # Include the candidate number in the current path.\n",
    "                path.append(candidates[i])\n",
    "                # Recursively call backtrack with the updated target (remaining - current candidate).\n",
    "                # Crucially, we pass `i` again to allow the same element to be reused.\n",
    "                backtrack(remaining - candidates[i], i, path, res)\n",
    "                # Backtrack: Remove the last added number to try another possibility.\n",
    "                path.pop()\n",
    "\n",
    "        # This will hold all the valid combinations we find.\n",
    "        result = []\n",
    "        # Start the backtracking process with an empty path and the full target.\n",
    "        backtrack(target, 0, [], result)\n",
    "        return result  # Return the list of all valid combinations.\n",
    "\n",
    "# Example usage:\n",
    "sol = Solution()\n",
    "print(sol.combinationSum([2, 3, 6, 7], 7))  # Output: [[2, 2, 3], [7]]"
   ]
  },
  {
   "cell_type": "markdown",
   "id": "f7a80440-f3f9-45d2-90a4-e1a7e8acef7c",
   "metadata": {},
   "source": [
    "- **Time Complexity:** \\(O(N^{T/M + 1})\\) \\\n",
    "  Where \\(N\\) is the number of candidates, \\(T\\) is the target value, and \\(M\\) is the minimal value among the candidates. The complexity arises because, in the worst case, we explore all possible combinations to reach the target.\n",
    "\n",
    "- **Space Complexity:** \\(O(T/M)\\) \\\n",
    "  The space complexity is primarily due to the recursion stack, where \\(T/M\\) represents the maximum depth of the recursive calls. Each recursive call adds a new candidate to the current combination, potentially up to a maximum depth determined by the smallest candidate value needed to sum to the target."
   ]
  },
  {
   "cell_type": "markdown",
   "id": "2d6b2819-5d6f-444b-973c-8ef6cda6d8cb",
   "metadata": {},
   "source": [
    "## [28. Contiguous Array](https://leetcode.com/problems/contiguous-array/description/)\n",
    "\n",
    "Given a binary array `nums`, return the maximum length of a contiguous subarray with an equal number of `0` and `1`.\n",
    "\n",
    "### Problem Overview:\n",
    "\n",
    "The task is to identify the maximum length of any contiguous subarray that contains the same number of 0s and 1s in the given binary array `nums`.\n",
    "\n",
    "### Additional Information:\n",
    "\n",
    "### Example:\n",
    "\n",
    "- **Input:** `nums = [0, 1]`\n",
    "- **Output:** `2`\n",
    "- **Explanation:** `[0, 1]` is the longest contiguous subarray with an equal number of `0` and `1`.\n",
    "\n",
    "- **Constraints:**\n",
    "  - The array `nums` contains only binary values (0 and 1)."
   ]
  },
  {
   "cell_type": "code",
   "execution_count": 35,
   "id": "d26c3c71-ad17-4f4c-b077-d02f6631e09b",
   "metadata": {},
   "outputs": [],
   "source": [
    "class Solution:\n",
    "    def findMaxLength(self, nums: List[int]) -> int:\n",
    "        # Initialize variables to track the balance of 1s and 0s, and the maximum length of balanced subarray\n",
    "        balance = 0\n",
    "        max_length = 0\n",
    "\n",
    "        # A dictionary to store the first occurrence of each balance\n",
    "        # Starting with a balance of 0 at index -1 (to handle the entire array being balanced)\n",
    "        balance_map = {0: -1}\n",
    "\n",
    "        # Iterate through the array\n",
    "        for index, value in enumerate(nums):\n",
    "            # Update the balance: +1 for 1, -1 for 0\n",
    "            balance += 1 if value == 1 else -1\n",
    "\n",
    "            # Check if this balance was seen before\n",
    "            if balance in balance_map:\n",
    "                # Calculate the length of the balanced subarray\n",
    "                # It is the difference between the current index and the index of the first occurrence of this balance\n",
    "                max_length = max(max_length, index - balance_map[balance])\n",
    "            else:\n",
    "                # If this balance hasn't been seen, record its first occurrence\n",
    "                balance_map[balance] = index\n",
    "\n",
    "        # Return the maximum length of the balanced subarray found\n",
    "        return max_length"
   ]
  },
  {
   "cell_type": "code",
   "execution_count": 36,
   "id": "e524842e-bfe1-4def-9f56-950c2f9e41a4",
   "metadata": {},
   "outputs": [
    {
     "name": "stdout",
     "output_type": "stream",
     "text": [
      "6\n"
     ]
    }
   ],
   "source": [
    "# Test case: A sample input to test the functionality\n",
    "nums = [0, 1, 0, 1, 1, 0]\n",
    "\n",
    "# Instantiate the Solution class\n",
    "solution = Solution()\n",
    "\n",
    "# Call the method and print the result\n",
    "print(solution.findMaxLength(nums))  # Expected output: 4"
   ]
  },
  {
   "cell_type": "markdown",
   "id": "aa8db56e-858a-4d8b-9f36-392ad0fe2b95",
   "metadata": {},
   "source": [
    "- **Time Complexity**: O(n), where n is the length of the input list `nums`. The function makes exactly one pass through the list.\n",
    "- **Space Complexity**: O(n), due to the use of a hash map (dictionary) to store the first occurrences of each balance, which could potentially store up to n different keys."
   ]
  },
  {
   "cell_type": "code",
   "execution_count": null,
   "id": "c1897c69-c415-43af-afe1-f4e082b6d518",
   "metadata": {},
   "outputs": [],
   "source": []
  }
 ],
 "metadata": {
  "kernelspec": {
   "display_name": "Python 3 (ipykernel)",
   "language": "python",
   "name": "python3"
  },
  "language_info": {
   "codemirror_mode": {
    "name": "ipython",
    "version": 3
   },
   "file_extension": ".py",
   "mimetype": "text/x-python",
   "name": "python",
   "nbconvert_exporter": "python",
   "pygments_lexer": "ipython3",
   "version": "3.11.7"
  },
  "widgets": {
   "application/vnd.jupyter.widget-state+json": {
    "state": {},
    "version_major": 2,
    "version_minor": 0
   }
  }
 },
 "nbformat": 4,
 "nbformat_minor": 5
}
