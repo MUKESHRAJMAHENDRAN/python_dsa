{
 "cells": [
  {
   "cell_type": "code",
   "execution_count": 1,
   "id": "23c6141f-b23b-4e00-a38d-b2e744a5f41a",
   "metadata": {},
   "outputs": [
    {
     "name": "stdout",
     "output_type": "stream",
     "text": [
      "25°C is 77.0°F\n",
      "77°F is 25.0°C\n"
     ]
    }
   ],
   "source": [
    "def convert_temperature(temperature, from_unit, to_unit):\n",
    "    \"\"\"\n",
    "    Convert temperature between Celsius and Fahrenheit.\n",
    "\n",
    "    Args:\n",
    "        temperature (float): The temperature value to convert.\n",
    "        from_unit (str): The unit of the input temperature ('C' for Celsius, 'F' for Fahrenheit).\n",
    "        to_unit (str): The unit of the output temperature ('C' for Celsius, 'F' for Fahrenheit).\n",
    "\n",
    "    Returns:\n",
    "        float: The converted temperature.\n",
    "    \"\"\"\n",
    "    if from_unit == 'C' and to_unit == 'F':\n",
    "        return temperature * 9/5 + 32\n",
    "    elif from_unit == 'F' and to_unit == 'C':\n",
    "        return (temperature - 32) * 5/9\n",
    "    else:\n",
    "        raise ValueError(\"Invalid unit conversion specified. Use 'C' and 'F' only.\")\n",
    "\n",
    "# Example usage\n",
    "celsius = 25\n",
    "fahrenheit = convert_temperature(celsius, 'C', 'F')\n",
    "print(f\"{celsius}°C is {fahrenheit}°F\")\n",
    "\n",
    "fahrenheit = 77\n",
    "celsius = convert_temperature(fahrenheit, 'F', 'C')\n",
    "print(f\"{fahrenheit}°F is {celsius}°C\")"
   ]
  },
  {
   "cell_type": "code",
   "execution_count": 3,
   "id": "89e0b7a8-7099-48eb-8dac-c2dc880b02c2",
   "metadata": {},
   "outputs": [
    {
     "name": "stdout",
     "output_type": "stream",
     "text": [
      "5.8999999999999995\n"
     ]
    }
   ],
   "source": [
    "def calculate_total_cost(cart):\n",
    "    total_cost=0\n",
    "    for item in cart:\n",
    "        total_cost+=item['price']* item['quantity']\n",
    "\n",
    "    return total_cost\n",
    "\n",
    "\n",
    "## Example cart data\n",
    "\n",
    "cart=[\n",
    "    {'name':'Apple','price':0.5,'quantity':4},\n",
    "    {'name':'Banana','price':0.3,'quantity':6},\n",
    "    {'name':'Orange','price':0.7,'quantity':3}\n",
    "\n",
    "]\n",
    "\n",
    "## calling the function\n",
    "total_cost=calculate_total_cost(cart)\n",
    "print(total_cost)"
   ]
  },
  {
   "cell_type": "code",
   "execution_count": 4,
   "id": "23c20888-729e-4d2a-b744-6957c1c119e4",
   "metadata": {},
   "outputs": [
    {
     "name": "stdout",
     "output_type": "stream",
     "text": [
      "example@example.com is a valid email address.\n"
     ]
    }
   ],
   "source": [
    "import re\n",
    "\n",
    "def is_valid_email(email):\n",
    "    # Regular expression pattern for validating an email\n",
    "    pattern = r'^[a-zA-Z0-9_.+-]+@[a-zA-Z0-9-]+\\.[a-zA-Z0-9-.]+$'\n",
    "\n",
    "    # Match the input email with the pattern\n",
    "    if re.match(pattern, email):\n",
    "        return True\n",
    "    else:\n",
    "        return False\n",
    "\n",
    "# Example usage\n",
    "email_to_test = \"example@example.com\"\n",
    "if is_valid_email(email_to_test):\n",
    "    print(f\"{email_to_test} is a valid email address.\")\n",
    "else:\n",
    "    print(f\"{email_to_test} is not a valid email address.\")"
   ]
  },
  {
   "cell_type": "markdown",
   "id": "fcd098c1-43a1-45b8-aa45-192303f2371b",
   "metadata": {},
   "source": [
    "Regex Breakdown:\n",
    "1. ^ asserts the start of the string.\n",
    "2. [a-zA-Z0-9_.+-]+ matches one or more characters that can be a letter (lowercase or uppercase), a number, or one of _.+-.\n",
    "3. @ matches the '@' symbol, which separates the local part and the domain part of an email address.\n",
    "4. [a-zA-Z0-9-]+ matches one or more characters that can be a letter, a number, or a hyphen, representing the domain.\n",
    "5. \\. escapes the dot, which is a special character in regex that needs to be matched literally in the domain.\n",
    "6. [a-zA-Z0-9-.]+ matches one or more characters that can be a letter, a number, a dot (for subdomains), or a hyphen.\n",
    "7. $ asserts the end of the string."
   ]
  },
  {
   "cell_type": "code",
   "execution_count": null,
   "id": "a08fa59b-3c3c-4020-b26d-a4df1b4ddd84",
   "metadata": {},
   "outputs": [],
   "source": []
  }
 ],
 "metadata": {
  "kernelspec": {
   "display_name": "Python 3 (ipykernel)",
   "language": "python",
   "name": "python3"
  },
  "language_info": {
   "codemirror_mode": {
    "name": "ipython",
    "version": 3
   },
   "file_extension": ".py",
   "mimetype": "text/x-python",
   "name": "python",
   "nbconvert_exporter": "python",
   "pygments_lexer": "ipython3",
   "version": "3.11.7"
  },
  "widgets": {
   "application/vnd.jupyter.widget-state+json": {
    "state": {},
    "version_major": 2,
    "version_minor": 0
   }
  }
 },
 "nbformat": 4,
 "nbformat_minor": 5
}
