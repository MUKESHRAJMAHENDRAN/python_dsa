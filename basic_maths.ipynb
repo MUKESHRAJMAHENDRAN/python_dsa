{
 "cells": [
  {
   "cell_type": "markdown",
   "id": "92fbcce2-577e-4990-bd32-4696189d33ed",
   "metadata": {},
   "source": [
    "# Basic Math Problem"
   ]
  },
  {
   "cell_type": "code",
   "execution_count": 1,
   "id": "23c6141f-b23b-4e00-a38d-b2e744a5f41a",
   "metadata": {},
   "outputs": [
    {
     "name": "stdout",
     "output_type": "stream",
     "text": [
      "25°C is 77.0°F\n",
      "77°F is 25.0°C\n"
     ]
    }
   ],
   "source": [
    "def convert_temperature(temperature, from_unit, to_unit):\n",
    "    \"\"\"\n",
    "    Convert temperature between Celsius and Fahrenheit.\n",
    "\n",
    "    Args:\n",
    "        temperature (float): The temperature value to convert.\n",
    "        from_unit (str): The unit of the input temperature ('C' for Celsius, 'F' for Fahrenheit).\n",
    "        to_unit (str): The unit of the output temperature ('C' for Celsius, 'F' for Fahrenheit).\n",
    "\n",
    "    Returns:\n",
    "        float: The converted temperature.\n",
    "    \"\"\"\n",
    "    if from_unit == 'C' and to_unit == 'F':\n",
    "        return temperature * 9/5 + 32\n",
    "    elif from_unit == 'F' and to_unit == 'C':\n",
    "        return (temperature - 32) * 5/9\n",
    "    else:\n",
    "        raise ValueError(\"Invalid unit conversion specified. Use 'C' and 'F' only.\")\n",
    "\n",
    "# Example usage\n",
    "celsius = 25\n",
    "fahrenheit = convert_temperature(celsius, 'C', 'F')\n",
    "print(f\"{celsius}°C is {fahrenheit}°F\")\n",
    "\n",
    "fahrenheit = 77\n",
    "celsius = convert_temperature(fahrenheit, 'F', 'C')\n",
    "print(f\"{fahrenheit}°F is {celsius}°C\")"
   ]
  },
  {
   "cell_type": "code",
   "execution_count": 2,
   "id": "89e0b7a8-7099-48eb-8dac-c2dc880b02c2",
   "metadata": {},
   "outputs": [
    {
     "name": "stdout",
     "output_type": "stream",
     "text": [
      "5.8999999999999995\n"
     ]
    }
   ],
   "source": [
    "def calculate_total_cost(cart):\n",
    "    total_cost=0\n",
    "    for item in cart:\n",
    "        total_cost+=item['price']* item['quantity']\n",
    "\n",
    "    return total_cost\n",
    "\n",
    "\n",
    "## Example cart data\n",
    "\n",
    "cart=[\n",
    "    {'name':'Apple','price':0.5,'quantity':4},\n",
    "    {'name':'Banana','price':0.3,'quantity':6},\n",
    "    {'name':'Orange','price':0.7,'quantity':3}\n",
    "\n",
    "]\n",
    "\n",
    "## calling the function\n",
    "total_cost=calculate_total_cost(cart)\n",
    "print(total_cost)"
   ]
  },
  {
   "cell_type": "code",
   "execution_count": 3,
   "id": "23c20888-729e-4d2a-b744-6957c1c119e4",
   "metadata": {},
   "outputs": [
    {
     "name": "stdout",
     "output_type": "stream",
     "text": [
      "example@example.com is a valid email address.\n"
     ]
    }
   ],
   "source": [
    "import re\n",
    "\n",
    "def is_valid_email(email):\n",
    "    # Regular expression pattern for validating an email\n",
    "    pattern = r'^[a-zA-Z0-9_.+-]+@[a-zA-Z0-9-]+\\.[a-zA-Z0-9-.]+$'\n",
    "\n",
    "    # Match the input email with the pattern\n",
    "    if re.match(pattern, email):\n",
    "        return True\n",
    "    else:\n",
    "        return False\n",
    "\n",
    "# Example usage\n",
    "email_to_test = \"example@example.com\"\n",
    "if is_valid_email(email_to_test):\n",
    "    print(f\"{email_to_test} is a valid email address.\")\n",
    "else:\n",
    "    print(f\"{email_to_test} is not a valid email address.\")"
   ]
  },
  {
   "cell_type": "markdown",
   "id": "fcd098c1-43a1-45b8-aa45-192303f2371b",
   "metadata": {},
   "source": [
    "Regex Breakdown:\n",
    "1. ^ asserts the start of the string.\n",
    "2. [a-zA-Z0-9_.+-]+ matches one or more characters that can be a letter (lowercase or uppercase), a number, or one of _.+-.\n",
    "3. @ matches the '@' symbol, which separates the local part and the domain part of an email address.\n",
    "4. [a-zA-Z0-9-]+ matches one or more characters that can be a letter, a number, or a hyphen, representing the domain.\n",
    "5. \\. escapes the dot, which is a special character in regex that needs to be matched literally in the domain.\n",
    "6. [a-zA-Z0-9-.]+ matches one or more characters that can be a letter, a number, a dot (for subdomains), or a hyphen.\n",
    "7. $ asserts the end of the string."
   ]
  },
  {
   "cell_type": "code",
   "execution_count": 4,
   "id": "3e0f4c9f-4760-49e0-8845-4f53582b0926",
   "metadata": {},
   "outputs": [
    {
     "name": "stdout",
     "output_type": "stream",
     "text": [
      "Sum of first 10 numbers is: 55\n",
      "Sum of first 10 numbers is: 55\n"
     ]
    }
   ],
   "source": [
    "# Method 1\n",
    "def sum_of_n_numbers(n):\n",
    "    total = 0\n",
    "    for i in range(1, n + 1):\n",
    "        total += i\n",
    "    return total\n",
    "\n",
    "n = 10  # Example input\n",
    "print(\"Sum of first\", n, \"numbers is:\", sum_of_n_numbers(n))\n",
    "\n",
    "# Method 1\n",
    "def sum_of_n_numbers(n):\n",
    "    total = n * (n + 1) // 2  # Using integer division\n",
    "    return total\n",
    "\n",
    "n = 10  # Example input\n",
    "print(\"Sum of first\", n, \"numbers is:\", sum_of_n_numbers(n))"
   ]
  },
  {
   "cell_type": "code",
   "execution_count": 5,
   "id": "876eca19-8ee7-4e55-beaf-fc12ce85fda6",
   "metadata": {},
   "outputs": [
    {
     "name": "stdout",
     "output_type": "stream",
     "text": [
      "10 is even.\n"
     ]
    }
   ],
   "source": [
    "def is_even(number):\n",
    "    return number % 2 == 0\n",
    "\n",
    "# Example usage:\n",
    "number = 10\n",
    "if is_even(number):\n",
    "    print(f\"{number} is even.\")\n",
    "else:\n",
    "    print(f\"{number} is odd.\")"
   ]
  },
  {
   "cell_type": "code",
   "execution_count": 6,
   "id": "a35ed415-6884-4022-8fbf-93f540dda36e",
   "metadata": {},
   "outputs": [
    {
     "name": "stdout",
     "output_type": "stream",
     "text": [
      "29 is a prime number.\n"
     ]
    }
   ],
   "source": [
    "def is_prime(n):\n",
    "    \"\"\"Check if a number is prime.\"\"\"\n",
    "    # Prime numbers are greater than 1\n",
    "    if n <= 1:\n",
    "        return False\n",
    "    # Check divisibility from 2 to the square root of n\n",
    "    for i in range(2, int(n**0.5) + 1):\n",
    "        if n % i == 0:\n",
    "            return False\n",
    "    return True\n",
    "\n",
    "# Example usage:\n",
    "number = 29\n",
    "if is_prime(number):\n",
    "    print(f\"{number} is a prime number.\")\n",
    "else:\n",
    "    print(f\"{number} is not a prime number.\")"
   ]
  },
  {
   "cell_type": "code",
   "execution_count": 7,
   "id": "81e375f5-601a-4e74-9c77-740dc7c0b07d",
   "metadata": {},
   "outputs": [
    {
     "name": "stdout",
     "output_type": "stream",
     "text": [
      "True\n",
      "False\n"
     ]
    }
   ],
   "source": [
    "def is_perfect_square(n):\n",
    "    if n < 0:\n",
    "        return False  # Negative numbers cannot be perfect squares\n",
    "\n",
    "    # Start from 0 because 0 * 0 is a perfect square (0)\n",
    "    i = 0\n",
    "\n",
    "    # Loop to find an integer i such that i * i == n\n",
    "    while i * i <= n:\n",
    "        if i * i == n:\n",
    "            return True  # Found an integer i such that i^2 == n\n",
    "        i += 1  # Move to the next integer\n",
    "\n",
    "    return False  # If loop ends without finding, n is not a perfect square\n",
    "\n",
    "# Example usage:\n",
    "print(is_perfect_square(16))  # True, because 4*4 is 16\n",
    "print(is_perfect_square(14))  # False, because 14 is not a perfect square"
   ]
  },
  {
   "cell_type": "code",
   "execution_count": 8,
   "id": "fb9476a6-856d-433f-be01-4779d404628c",
   "metadata": {},
   "outputs": [
    {
     "name": "stdout",
     "output_type": "stream",
     "text": [
      "144\n"
     ]
    }
   ],
   "source": [
    "### 1. GCD (Greatest Common Divisor) using the Euclidean Algorithm\n",
    "\n",
    "# The Euclidean Algorithm for finding the GCD of two numbers is:\n",
    "# 1. If `b == 0`, then `GCD(a, b) = a`.\n",
    "# 2. Otherwise, set `a = b` and `b = a % b` and repeat until `b` becomes `0`.\n",
    "# See hcf is gcd\n",
    "def gcd(a, b):\n",
    "    while b != 0:\n",
    "        a, b = b, a % b\n",
    "    return a\n",
    "\n",
    "def lcm(a, b):\n",
    "    return abs(a * b) // gcd(a, b)\n",
    "\n",
    "# Example usage\n",
    "print(lcm(48, 18))  # Output: 144"
   ]
  },
  {
   "cell_type": "code",
   "execution_count": 9,
   "id": "f31b2f43-7c20-46d6-9f7b-c1331e384713",
   "metadata": {},
   "outputs": [
    {
     "name": "stdout",
     "output_type": "stream",
     "text": [
      "The sum of elements is: 15\n"
     ]
    }
   ],
   "source": [
    "def sum_of_elements(int_list):\n",
    "    total_sum = 0\n",
    "    for number in int_list:\n",
    "        total_sum += number\n",
    "    return total_sum\n",
    "\n",
    "# Example usage:\n",
    "numbers = [1, 2, 3, 4, 5]\n",
    "result = sum_of_elements(numbers)\n",
    "print(\"The sum of elements is:\", result)"
   ]
  },
  {
   "cell_type": "code",
   "execution_count": 10,
   "id": "be6b9172-e242-4f75-8e4b-7a923d50a64b",
   "metadata": {},
   "outputs": [
    {
     "name": "stdout",
     "output_type": "stream",
     "text": [
      "The largest element is: 9\n"
     ]
    }
   ],
   "source": [
    "def find_largest_element(int_list):\n",
    "    # Check if the list is empty and handle accordingly\n",
    "    if not int_list:\n",
    "        raise ValueError(\"The list is empty and has no largest element.\")\n",
    "\n",
    "    # Initialize the largest number with the first element of the list\n",
    "    largest_number = int_list[0]\n",
    "\n",
    "    # Iterate through the list starting from the second element\n",
    "    for number in int_list[1:]:\n",
    "        if number > largest_number:\n",
    "            largest_number = number\n",
    "\n",
    "    return largest_number\n",
    "\n",
    "# Example usage:\n",
    "numbers = [3, 7, 2, 9, 5]\n",
    "largest = find_largest_element(numbers)\n",
    "print(\"The largest element is:\", largest)"
   ]
  },
  {
   "cell_type": "code",
   "execution_count": 11,
   "id": "0690fe26-af5b-4707-8878-40675ef35e92",
   "metadata": {},
   "outputs": [
    {
     "name": "stdout",
     "output_type": "stream",
     "text": [
      "Odd count: 5\n",
      "Even count: 5\n"
     ]
    }
   ],
   "source": [
    "def count_odd_even(lst):\n",
    "    odd_count = 0\n",
    "    even_count = 0\n",
    "\n",
    "    for number in lst:\n",
    "        if number % 2 == 0:\n",
    "            even_count += 1\n",
    "        else:\n",
    "            odd_count += 1\n",
    "\n",
    "    return odd_count, even_count\n",
    "\n",
    "# Example usage\n",
    "numbers = [10, 21, 4, 45, 66, 93, 1, 0, -2, -5]\n",
    "odd_count, even_count = count_odd_even(numbers)\n",
    "print(f\"Odd count: {odd_count}\")\n",
    "print(f\"Even count: {even_count}\")"
   ]
  },
  {
   "cell_type": "code",
   "execution_count": 12,
   "id": "7e9ea1af-4705-4590-be98-5a9702b290c1",
   "metadata": {},
   "outputs": [
    {
     "name": "stdout",
     "output_type": "stream",
     "text": [
      "The maximum difference between two consecutive elements is: 8\n"
     ]
    }
   ],
   "source": [
    "def max_consecutive_difference(lst):\n",
    "    # Initialize a variable to store the maximum difference found\n",
    "    max_diff = 0\n",
    "\n",
    "    # Loop through the list to compute the difference of consecutive elements\n",
    "    for i in range(1, len(lst)):\n",
    "        # Calculate the absolute difference between consecutive elements\n",
    "        diff = abs(lst[i] - lst[i - 1])\n",
    "\n",
    "        # Update max_diff if the current difference is larger\n",
    "        if diff > max_diff:\n",
    "            max_diff = diff\n",
    "\n",
    "    return max_diff\n",
    "\n",
    "# Example usage:\n",
    "lst = [3, 8, 15, 7, 2, 10]\n",
    "result = max_consecutive_difference(lst)\n",
    "print(f\"The maximum difference between two consecutive elements is: {result}\")"
   ]
  },
  {
   "cell_type": "code",
   "execution_count": 13,
   "id": "8bdd277d-5469-484d-afa7-017f7169e5ba",
   "metadata": {},
   "outputs": [
    {
     "name": "stdout",
     "output_type": "stream",
     "text": [
      "{'a': 1, 'b': 2, 'c': 3}\n"
     ]
    }
   ],
   "source": [
    "def merge_lists_to_dictionary(keys, values):\n",
    "    \"\"\"\n",
    "    Merges two lists into a dictionary where elements of the first list are keys\n",
    "    and elements of the second list are values.\n",
    "\n",
    "    Parameters:\n",
    "    keys (list): The list of keys.\n",
    "    values (list): The list of values.\n",
    "\n",
    "    Returns:\n",
    "    dict: A dictionary formed by merging the two lists.\n",
    "    \"\"\"\n",
    "    # Zip the two lists to pair each key with the corresponding value\n",
    "    # for i in zip(keys, values):\n",
    "    #     print(i)\n",
    "    merged_dict = dict(zip(keys, values))\n",
    "    return merged_dict\n",
    "\n",
    "# Example usage:\n",
    "keys = ['a', 'b', 'c']\n",
    "values = [1, 2, 3]\n",
    "result = merge_lists_to_dictionary(keys, values)\n",
    "print(result)  # Output: {'a': 1, 'b': 2, 'c': 3}"
   ]
  },
  {
   "cell_type": "code",
   "execution_count": 14,
   "id": "6e66db89-ea8d-4ece-9952-e7d01507dc99",
   "metadata": {},
   "outputs": [
    {
     "name": "stdout",
     "output_type": "stream",
     "text": [
      "{'apple': 1, 'banana': 2, 'cherry': 3}\n"
     ]
    }
   ],
   "source": [
    "def merge_lists_to_dictionary(keys, values):\n",
    "    \"\"\"\n",
    "    Merges two lists into a dictionary where elements of the first list are keys\n",
    "    and elements of the second list are values. If the lists are of unequal lengths,\n",
    "    the resulting dictionary will only include pairs up to the length of the shorter list.\n",
    "\n",
    "    Parameters:\n",
    "    keys (list): The list of keys.\n",
    "    values (list): The list of values.\n",
    "\n",
    "    Returns:\n",
    "    dict: A dictionary created by merging the two lists.\n",
    "    \"\"\"\n",
    "    # Create the dictionary using dictionary comprehension with zip\n",
    "    merged_dict = {key: value for key, value in zip(keys, values)}\n",
    "    return merged_dict\n",
    "\n",
    "# Example usage:\n",
    "keys = ['apple', 'banana', 'cherry']\n",
    "values = [1, 2, 3]\n",
    "result = merge_lists_to_dictionary(keys, values)\n",
    "print(result)  # Output: {'apple': 1, 'banana': 2, 'cherry': 3}"
   ]
  },
  {
   "cell_type": "code",
   "execution_count": 15,
   "id": "f4bf6842-5581-4206-af57-c057c184bd94",
   "metadata": {},
   "outputs": [
    {
     "name": "stdout",
     "output_type": "stream",
     "text": [
      "{'a': 6, 'b': 3, 'c': 4, 'd': 5}\n"
     ]
    }
   ],
   "source": [
    "def merge_three_dictionaries(dict1, dict2, dict3):\n",
    "    \"\"\"\n",
    "    Merges three dictionaries into one.\n",
    "\n",
    "    Parameters:\n",
    "    dict1 (dict): The first dictionary to be merged.\n",
    "    dict2 (dict): The second dictionary to be merged.\n",
    "    dict3 (dict): The third dictionary to be merged.\n",
    "\n",
    "    Returns:\n",
    "    dict: A dictionary containing all key-value pairs from the three input dictionaries.\n",
    "          If there are duplicate keys, the value from the last dictionary with that key\n",
    "          will be used.\n",
    "    \"\"\"\n",
    "    # Use dictionary unpacking to merge the dictionaries\n",
    "    merged_dict = {**dict1, **dict2, **dict3}\n",
    "    return merged_dict\n",
    "\n",
    "# Example usage:\n",
    "dict1 = {'a': 1, 'b': 2}\n",
    "dict2 = {'b': 3, 'c': 4}\n",
    "dict3 = {'d': 5, 'a': 6}\n",
    "\n",
    "result = merge_three_dictionaries(dict1, dict2, dict3)\n",
    "print(result)  # Output: {'a': 6, 'b': 3, 'c': 4, 'd': 5}"
   ]
  },
  {
   "cell_type": "code",
   "execution_count": 16,
   "id": "997a6091-a1e3-48c3-867e-842abdd4fa27",
   "metadata": {},
   "outputs": [
    {
     "name": "stdout",
     "output_type": "stream",
     "text": [
      "{'a': 1, 'b': 5, 'c': 12, 'd': 11, 'e': 7}\n"
     ]
    }
   ],
   "source": [
    "def merge_dicts_with_overlapping_keys(dicts):\n",
    "    \"\"\"\n",
    "    Merges multiple dictionaries into one, summing values for overlapping keys.\n",
    "\n",
    "    Parameters:\n",
    "    dicts (list): A list of dictionaries where keys might overlap.\n",
    "\n",
    "    Returns:\n",
    "    dict: A dictionary where values for overlapping keys are summed.\n",
    "    \"\"\"\n",
    "    merged_dict = {}\n",
    "\n",
    "    # Iterate over each dictionary in the list\n",
    "    for dictionary in dicts:\n",
    "        # Iterate over each key-value pair in the dictionary\n",
    "        for key, value in dictionary.items():\n",
    "            # Sum values for overlapping keys\n",
    "            if key in merged_dict:\n",
    "                merged_dict[key] += value\n",
    "            else:\n",
    "                merged_dict[key] = value\n",
    "\n",
    "    return merged_dict\n",
    "\n",
    "# Example usage:\n",
    "dict1 = {'a': 1, 'b': 2, 'c': 3}\n",
    "dict2 = {'b': 3, 'c': 4, 'd': 5}\n",
    "dict3 = {'c': 5, 'd': 6, 'e': 7}\n",
    "\n",
    "dicts = [dict1, dict2, dict3]\n",
    "result = merge_dicts_with_overlapping_keys(dicts)\n",
    "print(result)  # Output: {'a': 1, 'b': 5, 'c': 12, 'd': 11, 'e': 7}"
   ]
  },
  {
   "cell_type": "code",
   "execution_count": 17,
   "id": "61076bd4-9589-42af-a552-55aea74ddad0",
   "metadata": {},
   "outputs": [
    {
     "name": "stdout",
     "output_type": "stream",
     "text": [
      "{'apple': 3, 'banana': 2, 'orange': 1}\n"
     ]
    }
   ],
   "source": [
    "def count_occurrences(lst):\n",
    "    # Create an empty dictionary to store counts of each element\n",
    "    counts = {}\n",
    "    for item in lst:\n",
    "        # Use the `get` method to return the current count of the item, or 0 if the item has not been seen before\n",
    "        counts[item] = counts.get(item, 0) + 1\n",
    "    return counts\n",
    "\n",
    "# Example\n",
    "lst = ['apple', 'banana', 'apple', 'orange', 'banana', 'apple']\n",
    "print(count_occurrences(lst))\n",
    "# Output: {'apple': 3, 'banana': 2, 'orange': 1}"
   ]
  },
  {
   "cell_type": "code",
   "execution_count": 18,
   "id": "6a947d46-2a8d-4d29-a970-ecb9dd23afa7",
   "metadata": {},
   "outputs": [
    {
     "name": "stdout",
     "output_type": "stream",
     "text": [
      "{'even': [2, 4, 6], 'odd': [1, 3, 5]}\n"
     ]
    }
   ],
   "source": [
    "def group_by_parity(lst):\n",
    "    # Create a dictionary with lists to hold even and odd numbers\n",
    "    grouped = {'even': [], 'odd': []}\n",
    "    for num in lst:\n",
    "        # Check if the number is even or odd and append it to the respective list\n",
    "        if num % 2 == 0:\n",
    "            grouped['even'].append(num)\n",
    "        else:\n",
    "            grouped['odd'].append(num)\n",
    "    return grouped\n",
    "\n",
    "# Example\n",
    "lst = [1, 2, 3, 4, 5, 6]\n",
    "print(group_by_parity(lst))\n",
    "# Output: {'even': [2, 4, 6], 'odd': [1, 3, 5]}"
   ]
  },
  {
   "cell_type": "code",
   "execution_count": 19,
   "id": "00af717a-d654-4033-a7e5-2aec264a51ef",
   "metadata": {},
   "outputs": [
    {
     "name": "stdout",
     "output_type": "stream",
     "text": [
      "apple\n"
     ]
    }
   ],
   "source": [
    "def most_frequent(lst):\n",
    "    # Create a dictionary to count occurrences of each element\n",
    "    counts = {}\n",
    "    for item in lst:\n",
    "        counts[item] = counts.get(item, 0) + 1\n",
    "    # Use `max` with a custom key to find the element with the maximum count\n",
    "    return max(counts, key=counts.get)\n",
    "\n",
    "# Example\n",
    "lst = ['apple', 'banana', 'apple', 'orange', 'banana', 'apple']\n",
    "print(most_frequent(lst))\n",
    "# Output: 'apple'"
   ]
  },
  {
   "cell_type": "code",
   "execution_count": 20,
   "id": "7bbddacd-e8a8-4a45-a84b-ca32163ddd0a",
   "metadata": {},
   "outputs": [
    {
     "name": "stdout",
     "output_type": "stream",
     "text": [
      "{'name': 'Alice', 'age': 25, 'city': 'New York'}\n"
     ]
    }
   ],
   "source": [
    "def map_lists_to_dict(keys, values):\n",
    "    # Use `zip` to pair elements of `keys` and `values`, then convert to a dictionary\n",
    "    return dict(zip(keys, values))\n",
    "\n",
    "# Example\n",
    "keys = ['name', 'age', 'city']\n",
    "values = ['Alice', 25, 'New York']\n",
    "print(map_lists_to_dict(keys, values))\n",
    "# Output: {'name': 'Alice', 'age': 25, 'city': 'New York'}"
   ]
  },
  {
   "cell_type": "code",
   "execution_count": 21,
   "id": "ceaf9181-3df6-4762-9c47-9bd79e671bc7",
   "metadata": {},
   "outputs": [
    {
     "name": "stdout",
     "output_type": "stream",
     "text": [
      "{1: 'a', 2: 'b', 3: 'c'}\n"
     ]
    }
   ],
   "source": [
    "def invert_dict(d):\n",
    "    # Use dictionary comprehension to swap keys and values\n",
    "    return {v: k for k, v in d.items()}\n",
    "\n",
    "# Example\n",
    "d = {'a': 1, 'b': 2, 'c': 3}\n",
    "print(invert_dict(d))\n",
    "# Output: {1: 'a', 2: 'b', 3: 'c'}"
   ]
  },
  {
   "cell_type": "code",
   "execution_count": 22,
   "id": "1eec4954-fcf1-481d-adc4-8f54657585b9",
   "metadata": {},
   "outputs": [
    {
     "name": "stdout",
     "output_type": "stream",
     "text": [
      "[3, 4]\n"
     ]
    }
   ],
   "source": [
    "def find_common_elements(lst1, lst2):\n",
    "    # Convert the first list to a dictionary to allow fast membership testing\n",
    "    dict1 = {item: True for item in lst1}\n",
    "    # Iterate through the second list and collect common elements\n",
    "    return [item for item in lst2 if item in dict1]\n",
    "\n",
    "# Example\n",
    "lst1 = [1, 2, 3, 4]\n",
    "lst2 = [3, 4, 5, 6]\n",
    "print(find_common_elements(lst1, lst2))\n",
    "# Output: [3, 4]"
   ]
  },
  {
   "cell_type": "code",
   "execution_count": 23,
   "id": "c8be1ba4-96f7-4740-ba27-77de909be408",
   "metadata": {},
   "outputs": [
    {
     "name": "stdout",
     "output_type": "stream",
     "text": [
      "{'a': 1, 'b': 5, 'c': 7, 'd': 5}\n"
     ]
    }
   ],
   "source": [
    "def merge_dicts(d1, d2):\n",
    "    # Copy the first dictionary to avoid altering it\n",
    "    merged = d1.copy()\n",
    "    for key, value in d2.items():\n",
    "        # Sum the value from the second dictionary to the value in the merged dictionary\n",
    "        merged[key] = merged.get(key, 0) + value\n",
    "    return merged\n",
    "\n",
    "# Example\n",
    "d1 = {'a': 1, 'b': 2, 'c': 3}\n",
    "d2 = {'b': 3, 'c': 4, 'd': 5}\n",
    "print(merge_dicts(d1, d2))\n",
    "# Output: {'a': 1, 'b': 5, 'c': 7, 'd': 5}"
   ]
  },
  {
   "cell_type": "code",
   "execution_count": 24,
   "id": "033afb88-b723-4c21-a697-e0b84bfd725e",
   "metadata": {},
   "outputs": [
    {
     "name": "stdout",
     "output_type": "stream",
     "text": [
      "2\n"
     ]
    }
   ],
   "source": [
    "def first_unique(lst):\n",
    "    # Dictionary to count occurrences of each element\n",
    "    counts = {}\n",
    "\n",
    "    for num in lst:\n",
    "        # Increment the count of the element\n",
    "        counts[num] = counts.get(num, 0) + 1\n",
    "\n",
    "    for num in lst:\n",
    "        # Return the first element with a count of 1\n",
    "        if counts[num] == 1:\n",
    "            return num\n",
    "\n",
    "    # Return None if no unique element is found\n",
    "    return None\n",
    "\n",
    "# Example\n",
    "lst = [4, 5, 1, 2, 1, 4, 5]\n",
    "print(first_unique(lst))\n",
    "# Output: 2"
   ]
  },
  {
   "cell_type": "code",
   "execution_count": 25,
   "id": "72d7dd5e-ede8-4e5d-b263-8be278a6719a",
   "metadata": {},
   "outputs": [
    {
     "name": "stdout",
     "output_type": "stream",
     "text": [
      "[1, 2, 3, 4, 5]\n"
     ]
    }
   ],
   "source": [
    "def flatten(nested_list):\n",
    "    # List to store the flattened elements\n",
    "    flat_list = []\n",
    "\n",
    "    for sublist in nested_list:\n",
    "        # Extend the flat_list by adding elements from each sublist\n",
    "        flat_list.extend(sublist)\n",
    "\n",
    "    return flat_list\n",
    "\n",
    "# Example\n",
    "nested_list = [[1, 2], [3, 4], [5]]\n",
    "print(flatten(nested_list))\n",
    "# Output: [1, 2, 3, 4, 5]"
   ]
  },
  {
   "cell_type": "code",
   "execution_count": 26,
   "id": "bbed6494-802d-43c7-8e99-a7fd82df6f2d",
   "metadata": {},
   "outputs": [
    {
     "name": "stdout",
     "output_type": "stream",
     "text": [
      "{'a': 3, 'b': 5, 'c': 4}\n"
     ]
    }
   ],
   "source": [
    "def merge_dict_list(dict_list):\n",
    "    # Dictionary to hold the merged result\n",
    "    merged = {}\n",
    "\n",
    "    for d in dict_list:\n",
    "        for key, value in d.items():\n",
    "            # Add the value to the existing value in the dictionary or initialize it\n",
    "            merged[key] = merged.get(key, 0) + value\n",
    "\n",
    "    return merged\n",
    "\n",
    "# Example\n",
    "dict_list = [{'a': 1, 'b': 2}, {'a': 2, 'c': 3}, {'b': 3, 'c': 1}]\n",
    "print(merge_dict_list(dict_list))\n",
    "# Output: {'a': 3, 'b': 5, 'c': 4}"
   ]
  },
  {
   "cell_type": "code",
   "execution_count": 27,
   "id": "9d528f0d-e403-4cdc-ba6e-1e2961a60237",
   "metadata": {},
   "outputs": [
    {
     "name": "stdout",
     "output_type": "stream",
     "text": [
      "[2, 2]\n"
     ]
    }
   ],
   "source": [
    "def intersect(lst1, lst2):\n",
    "    # Dictionary to count occurrences of each element in the first list\n",
    "    counts = {}\n",
    "\n",
    "    for num in lst1:\n",
    "        counts[num] = counts.get(num, 0) + 1\n",
    "\n",
    "    # List to hold the result of intersection\n",
    "    result = []\n",
    "\n",
    "    for num in lst2:\n",
    "        # If the element is in the dictionary and count is more than 0, add it to the result\n",
    "        if counts.get(num, 0) > 0:\n",
    "            result.append(num)\n",
    "            counts[num] -= 1  # Decrement the count\n",
    "\n",
    "    return result\n",
    "\n",
    "# Example\n",
    "lst1 = [1, 2, 2, 1]\n",
    "lst2 = [2, 2]\n",
    "print(intersect(lst1, lst2))\n",
    "# Output: [2, 2]"
   ]
  },
  {
   "cell_type": "code",
   "execution_count": 28,
   "id": "b53b6a9e-08a6-4300-a754-a042f342f182",
   "metadata": {},
   "outputs": [
    {
     "name": "stdout",
     "output_type": "stream",
     "text": [
      "{(1, 2): 2, (2, 3): 2, (3, 4): 1}\n"
     ]
    }
   ],
   "source": [
    "def count_pairs(pairs):\n",
    "    # Dictionary to hold the frequency of each tuple\n",
    "    counts = {}\n",
    "\n",
    "    for pair in pairs:\n",
    "        # Increment the count of occurrences for each pair\n",
    "        counts[pair] = counts.get(pair, 0) + 1\n",
    "\n",
    "    return counts\n",
    "\n",
    "# Example\n",
    "pairs = [(1, 2), (2, 3), (1, 2), (3, 4), (2, 3)]\n",
    "print(count_pairs(pairs))\n",
    "# Output: {(1, 2): 2, (2, 3): 2, (3, 4): 1}"
   ]
  },
  {
   "cell_type": "code",
   "execution_count": 29,
   "id": "0ccda8f7-963a-4a2f-ad2a-a74082d681ee",
   "metadata": {},
   "outputs": [
    {
     "name": "stdout",
     "output_type": "stream",
     "text": [
      "14\n"
     ]
    }
   ],
   "source": [
    "def dot_product(d1, d2):\n",
    "    product = 0\n",
    "    for key in d1:\n",
    "        if key in d2:\n",
    "            product += d1[key] * d2[key]\n",
    "    return product\n",
    "\n",
    "# Example\n",
    "d1 = {'a': 1, 'b': 2, 'c': 3}\n",
    "d2 = {'a': 4, 'b': 5, 'd': 6}\n",
    "print(dot_product(d1, d2))\n",
    "# Output: 14 (because 1*4 + 2*5 = 14)"
   ]
  },
  {
   "cell_type": "code",
   "execution_count": 31,
   "id": "90fcc5a4-dd3e-42ab-afa1-9deffd779cef",
   "metadata": {},
   "outputs": [
    {
     "name": "stdout",
     "output_type": "stream",
     "text": [
      "153 is an Armstrong number.\n",
      "153 is an Armstrong number.\n",
      "9474 is an Armstrong number.\n",
      "9475 is not an Armstrong number.\n"
     ]
    }
   ],
   "source": [
    "# An Armstrong number (also known as a narcissistic number) is a number that is equal to the sum of \n",
    "# its own digits each raised to the power of the number of digits. For example, the number 153 is an \n",
    "# Armstrong number because it has 3 digits, and:\n",
    "\n",
    "# [ 1^3 + 5^3 + 3^3 = 1 + 125 + 27 = 153 ]\n",
    "\n",
    "def is_armstrong(number):\n",
    "    # Convert the number to a string to easily iterate over digits\n",
    "    digits = str(number)\n",
    "    # Calculate the number of digits\n",
    "    power = len(digits)\n",
    "    # Calculate the sum of each digit raised to the power of the number of digits\n",
    "    total = sum(int(digit) ** power for digit in digits)\n",
    "    # Check if the calculated sum equals the original number\n",
    "    return total == number\n",
    "\n",
    "# Example usage\n",
    "number = 153\n",
    "if is_armstrong(number):\n",
    "    print(f\"{number} is an Armstrong number.\")\n",
    "else:\n",
    "    print(f\"{number} is not an Armstrong number.\")\n",
    "\n",
    "# Additional examples\n",
    "numbers_to_test = [153, 9474, 9475]\n",
    "for number in numbers_to_test:\n",
    "    if is_armstrong(number):\n",
    "        print(f\"{number} is an Armstrong number.\")\n",
    "    else:\n",
    "        print(f\"{number} is not an Armstrong number.\")"
   ]
  },
  {
   "cell_type": "code",
   "execution_count": 32,
   "id": "ba6f628e-fbf0-4cab-8f61-78428014ca92",
   "metadata": {},
   "outputs": [
    {
     "name": "stdout",
     "output_type": "stream",
     "text": [
      "Original number: 12345\n",
      "Reversed number: 54321\n"
     ]
    }
   ],
   "source": [
    "def reverse_number(n):\n",
    "    # To handle negative numbers\n",
    "    negative = n < 0\n",
    "    if negative:\n",
    "        n = -n\n",
    "\n",
    "    reversed_num = 0\n",
    "    while n > 0:\n",
    "        # Get the last digit\n",
    "        digit = n % 10\n",
    "        # Append the digit to the reversed number\n",
    "        reversed_num = reversed_num * 10 + digit\n",
    "        # Remove the last digit from n\n",
    "        n //= 10\n",
    "\n",
    "    # Restore negative sign if the original number was negative\n",
    "    if negative:\n",
    "        reversed_num = -reversed_num\n",
    "\n",
    "    return reversed_num\n",
    "\n",
    "# Example usage\n",
    "number = 12345\n",
    "reversed_number = reverse_number(number)\n",
    "print(\"Original number:\", number)\n",
    "print(\"Reversed number:\", reversed_number)"
   ]
  },
  {
   "cell_type": "code",
   "execution_count": 33,
   "id": "b8311c1a-6866-451e-b824-3ab21e989a21",
   "metadata": {},
   "outputs": [
    {
     "name": "stdout",
     "output_type": "stream",
     "text": [
      "Iterative: Factorial of 5 is 120\n"
     ]
    }
   ],
   "source": [
    "def factorial_iterative(n):\n",
    "    if n < 0:\n",
    "        return \"Undefined for negative numbers\"\n",
    "\n",
    "    result = 1\n",
    "    for i in range(1, n + 1):\n",
    "        result *= i  # Multiply result by the current number\n",
    "\n",
    "    return result\n",
    "\n",
    "# Sample input and output for iterative approach\n",
    "number = 5\n",
    "factorial_result = factorial_iterative(number)\n",
    "print(f\"Iterative: Factorial of {number} is {factorial_result}\")"
   ]
  },
  {
   "cell_type": "code",
   "execution_count": 34,
   "id": "557c15c5-5d4b-4f51-ac1e-70ab1d5b8382",
   "metadata": {},
   "outputs": [
    {
     "name": "stdout",
     "output_type": "stream",
     "text": [
      "Recursive: Factorial of 5 is 120\n"
     ]
    }
   ],
   "source": [
    "def factorial_recursive(n):\n",
    "    if n < 0:\n",
    "        return \"Undefined for negative numbers\"\n",
    "    elif n == 0 or n == 1:\n",
    "        return 1  # Base case: factorial(0) and factorial(1) are both 1\n",
    "\n",
    "    else:\n",
    "        return n * factorial_recursive(n - 1)  # Recursive case\n",
    "\n",
    "# Sample input and output for recursive approach\n",
    "number = 5\n",
    "factorial_result = factorial_recursive(number)\n",
    "print(f\"Recursive: Factorial of {number} is {factorial_result}\")"
   ]
  },
  {
   "cell_type": "code",
   "execution_count": 35,
   "id": "0f46ffe8-d03a-43f0-a522-c985c9c14e9e",
   "metadata": {},
   "outputs": [
    {
     "name": "stdout",
     "output_type": "stream",
     "text": [
      "Fibonacci Iterative (10): 55\n"
     ]
    }
   ],
   "source": [
    "def fibonacci_iterative(n):\n",
    "    # Handles the first two Fibonacci numbers\n",
    "    if n <= 0:\n",
    "        return 0\n",
    "    elif n == 1:\n",
    "        return 1\n",
    "\n",
    "    # Initialize the first two numbers in the sequence\n",
    "    a, b = 0, 1\n",
    "\n",
    "    # Iterate until we reach the nth Fibonacci number\n",
    "    for i in range(2, n + 1):\n",
    "        a, b = b, a + b\n",
    "        # b is now the current Fibonacci number\n",
    "\n",
    "    # Return the nth Fibonacci number\n",
    "    return b\n",
    "\n",
    "# Sample input and output\n",
    "n = 10\n",
    "print(f\"Fibonacci Iterative ({n}): {fibonacci_iterative(n)}\")"
   ]
  },
  {
   "cell_type": "code",
   "execution_count": 36,
   "id": "98e75efa-2d92-4395-b66e-cd831696495e",
   "metadata": {},
   "outputs": [
    {
     "name": "stdout",
     "output_type": "stream",
     "text": [
      "Fibonacci Recursive (10): 55\n"
     ]
    }
   ],
   "source": [
    "def fibonacci_recursive(n):\n",
    "    # Base cases: return 0 or 1 for the first two Fibonacci numbers\n",
    "    if n <= 0:\n",
    "        return 0\n",
    "    elif n == 1:\n",
    "        return 1\n",
    "\n",
    "    # Recursive call to calculate the nth Fibonacci number\n",
    "    return fibonacci_recursive(n - 1) + fibonacci_recursive(n - 2)\n",
    "\n",
    "# Sample input and output\n",
    "n = 10\n",
    "print(f\"Fibonacci Recursive ({n}): {fibonacci_recursive(n)}\")"
   ]
  },
  {
   "cell_type": "markdown",
   "id": "8f3a6599-be8e-4ef8-b7f6-254099befcc9",
   "metadata": {},
   "source": [
    "The formula used here, known as **Binet's formula**, is a closed-form expression for calculating Fibonacci numbers without recursion:\n",
    "\n",
    "\\[\n",
    "F(n) = \\frac{\\phi^n - \\psi^n}{\\sqrt{5}}\n",
    "\\]\n",
    "\n",
    "where:\n",
    "- \\( \\phi = \\frac{1 + \\sqrt{5}}{2} \\) is the **golden ratio** (approximately 1.618).\n",
    "- \\( \\psi = \\frac{1 - \\sqrt{5}}{2} \\) is the **conjugate of the golden ratio** (approximately -0.618).\n",
    "\n",
    "Since \\( \\psi^n \\) approaches zero as \\( n \\) grows (because it’s less than 1 in magnitude), we can approximate the \\( n \\)-th Fibonacci number using only the \\( \\phi \\) term:\n",
    "\n",
    "\\[\n",
    "F(n) \\approx \\frac{\\phi^n}{\\sqrt{5}}\n",
    "\\]\n",
    "\n",
    "This approximation provides an efficient way to compute Fibonacci numbers, especially for large \\( n \\), and the result is rounded to the nearest integer to match the actual sequence values."
   ]
  },
  {
   "cell_type": "code",
   "execution_count": 37,
   "id": "6df0b7c5-1e11-4eab-948d-91f9f565ddbb",
   "metadata": {},
   "outputs": [
    {
     "name": "stdout",
     "output_type": "stream",
     "text": [
      "Approximated Fibonacci number for n=10: 55\n"
     ]
    }
   ],
   "source": [
    "import math\n",
    "\n",
    "def fibonacci_golden_ratio(n):\n",
    "    phi = (1 + math.sqrt(5)) / 2  # Calculate the golden ratio\n",
    "    # Calculate the Fibonacci number using the approximation\n",
    "    fibonacci_approx = (phi**n) / math.sqrt(5)\n",
    "    # Round the result to get the nearest integer\n",
    "    return round(fibonacci_approx)\n",
    "\n",
    "# Sample input and output\n",
    "n = 10\n",
    "approximated_fib = fibonacci_golden_ratio(n)\n",
    "print(f\"Approximated Fibonacci number for n={n}: {approximated_fib}\")"
   ]
  },
  {
   "cell_type": "code",
   "execution_count": 38,
   "id": "a0a9c129-323f-42b5-b378-e11d6e152d35",
   "metadata": {},
   "outputs": [
    {
     "name": "stdout",
     "output_type": "stream",
     "text": [
      "\"A man, a plan, a canal, Panama\" is a palindrome.\n"
     ]
    }
   ],
   "source": [
    "def is_palindrome(s):\n",
    "    # Convert to lowercase and remove non-alphanumeric characters for an accurate check\n",
    "    clean_s = ''.join(char.lower() for char in s if char.isalnum())\n",
    "    # Check if the string reads the same forward and backward\n",
    "    return clean_s == clean_s[::-1]\n",
    "\n",
    "# Example usage\n",
    "string = \"A man, a plan, a canal, Panama\"\n",
    "if is_palindrome(string):\n",
    "    print(f'\"{string}\" is a palindrome.')\n",
    "else:\n",
    "    print(f'\"{string}\" is not a palindrome.')"
   ]
  },
  {
   "cell_type": "code",
   "execution_count": 39,
   "id": "1fd334ff-f3a3-4884-bf97-babbba92a506",
   "metadata": {},
   "outputs": [
    {
     "name": "stdout",
     "output_type": "stream",
     "text": [
      "\"A man, a plan, a canal, Panama\" is a palindrome.\n"
     ]
    }
   ],
   "source": [
    "def is_palindrome(s):\n",
    "    # Convert to lowercase and remove non-alphanumeric characters for an accurate check\n",
    "    clean_s = ''.join(char.lower() for char in s if char.isalnum())\n",
    "\n",
    "    # Initialize two pointers\n",
    "    left, right = 0, len(clean_s) - 1\n",
    "\n",
    "    # Move the pointers towards each other\n",
    "    while left < right:\n",
    "        if clean_s[left] != clean_s[right]:\n",
    "            return False\n",
    "        left += 1\n",
    "        right -= 1\n",
    "\n",
    "    return True\n",
    "\n",
    "# Example usage\n",
    "string = \"A man, a plan, a canal, Panama\"\n",
    "if is_palindrome(string):\n",
    "    print(f'\"{string}\" is a palindrome.')\n",
    "else:\n",
    "    print(f'\"{string}\" is not a palindrome.')"
   ]
  },
  {
   "cell_type": "code",
   "execution_count": null,
   "id": "7b53df07-4321-4f02-b170-8f4c690c3e2f",
   "metadata": {},
   "outputs": [],
   "source": []
  },
  {
   "cell_type": "code",
   "execution_count": null,
   "id": "d4b4a761-7301-4c7f-b1e9-1978d25ef6ed",
   "metadata": {},
   "outputs": [],
   "source": []
  },
  {
   "cell_type": "code",
   "execution_count": null,
   "id": "0a9f8f96-243a-407e-b32c-ac6ba2ec52af",
   "metadata": {},
   "outputs": [],
   "source": []
  },
  {
   "cell_type": "code",
   "execution_count": null,
   "id": "e95d101b-0e3e-4cc4-a6d0-d3971f1c2a7b",
   "metadata": {},
   "outputs": [],
   "source": []
  },
  {
   "cell_type": "code",
   "execution_count": null,
   "id": "12dea52b-36fd-47c4-b686-cc9aa6f01f5a",
   "metadata": {},
   "outputs": [],
   "source": []
  },
  {
   "cell_type": "code",
   "execution_count": null,
   "id": "ea116bfa-c789-4e7e-bbf6-e7d4b3dd1c1a",
   "metadata": {},
   "outputs": [],
   "source": []
  },
  {
   "cell_type": "code",
   "execution_count": null,
   "id": "d8caf34d-3977-4ed2-bb5f-6358fa9c8d18",
   "metadata": {},
   "outputs": [],
   "source": []
  },
  {
   "cell_type": "code",
   "execution_count": null,
   "id": "eb199b07-ca74-436b-8a33-96fb4a0d0704",
   "metadata": {},
   "outputs": [],
   "source": []
  },
  {
   "cell_type": "code",
   "execution_count": null,
   "id": "40d3f92e-96b2-4035-962a-763cfd0ae882",
   "metadata": {},
   "outputs": [],
   "source": []
  },
  {
   "cell_type": "code",
   "execution_count": null,
   "id": "b963f9b4-e7be-4008-a325-964e023220c7",
   "metadata": {},
   "outputs": [],
   "source": []
  },
  {
   "cell_type": "code",
   "execution_count": null,
   "id": "f2e283a8-8610-48dd-a498-22d8dbf3d9af",
   "metadata": {},
   "outputs": [],
   "source": []
  }
 ],
 "metadata": {
  "kernelspec": {
   "display_name": "Python 3 (ipykernel)",
   "language": "python",
   "name": "python3"
  },
  "language_info": {
   "codemirror_mode": {
    "name": "ipython",
    "version": 3
   },
   "file_extension": ".py",
   "mimetype": "text/x-python",
   "name": "python",
   "nbconvert_exporter": "python",
   "pygments_lexer": "ipython3",
   "version": "3.11.7"
  },
  "widgets": {
   "application/vnd.jupyter.widget-state+json": {
    "state": {},
    "version_major": 2,
    "version_minor": 0
   }
  }
 },
 "nbformat": 4,
 "nbformat_minor": 5
}
