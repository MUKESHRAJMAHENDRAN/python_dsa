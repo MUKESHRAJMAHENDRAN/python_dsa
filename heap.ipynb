{
 "cells": [
  {
   "cell_type": "markdown",
   "id": "cc6028eb-81a9-4e26-91d5-8c803acb4419",
   "metadata": {},
   "source": [
    "# Heap"
   ]
  },
  {
   "cell_type": "markdown",
   "id": "d57b0376-b0f6-4151-867e-0705209e1def",
   "metadata": {},
   "source": [
    "## [1. K Closest Points to Origin (Medium)](https://leetcode.com/problems/k-closest-points-to-origin/)\n",
    "\n",
    "#### Problem Statement:\n",
    "Given an array of points where `points[i] = [xi, yi]` represents a point on the **X-Y** plane and an integer `k`, return the `k` closest points to the origin `(0, 0)`.\n",
    "\n",
    "The distance between two points on the X-Y plane is the Euclidean distance (not squared):  \n",
    "**[text{Distance} = sqrt{(xi - 0)^2 + (yi - 0)^2}]**\n",
    "\n",
    "You may return the answer in **any order**. The answer is **guaranteed** to be unique (i.e., there will not be multiple points at the same distance).\n",
    "\n",
    "#### Sample Input and Output:\n",
    "\n",
    "**Example 1:**\n",
    "```plaintext\n",
    "Input: points = [[1,3],[-2,2]], k = 1\n",
    "Output: [[-2,2]]\n",
    "Explanation:\n",
    "The distance of the point (1, 3) from the origin is sqrt(10).\n",
    "The distance of the point (-2, 2) from the origin is sqrt(8).\n",
    "Since sqrt(8) < sqrt(10), the closest point is [-2, 2].\n",
    "```\n",
    "\n",
    "**Example 2:**\n",
    "```plaintext\n",
    "Input: points = [[3,3],[5,-1],[-2,4]], k = 2\n",
    "Output: [[3,3],[-2,4]]\n",
    "Explanation:\n",
    "The distance of the points from the origin are:\n",
    "(3, 3) -> sqrt(18)\n",
    "(5, -1) -> sqrt(26)\n",
    "(-2, 4) -> sqrt(20)\n",
    "The two closest points are (3, 3) and (-2, 4).\n",
    "```\n",
    "\n",
    "#### Notes:\n",
    "- The output points can be in any order, as long as they are among the `k` closest.\n"
   ]
  },
  {
   "cell_type": "code",
   "execution_count": 1,
   "id": "4b0ab848-4571-4c24-bfda-7ab3b0455a12",
   "metadata": {},
   "outputs": [],
   "source": [
    "# Importing the required module\n",
    "from typing import List\n",
    "import heapq\n",
    "\n",
    "class Solution:\n",
    "    def kClosest(self, points: List[List[int]], k: int) -> List[List[int]]:\n",
    "        # Initialize an empty list to use as a max heap\n",
    "        heap = []\n",
    "\n",
    "        # Iterate over each point (x, y) in the list of points\n",
    "        for (x, y) in points:\n",
    "            # Calculate the negative of the squared Euclidean \n",
    "            # distance from the origin\n",
    "            # This is because the `heapq` module in Python \n",
    "            # only supports a min-heap, \n",
    "            # so we store the negative distance to simulate a max-heap\n",
    "            dist = -(x*x + y*y)\n",
    "\n",
    "            # If the heap contains fewer than k elements, \n",
    "            # simply add the current point\n",
    "            if len(heap) < k:\n",
    "                heapq.heappush(heap, (dist, x, y))\n",
    "            # Otherwise, if the heap already contains k elements, \n",
    "            # add the current point and remove the farthest point from \n",
    "            # the origin if the current one is closer\n",
    "            else:\n",
    "                # `heappushpop` pushes a new element and pops the \n",
    "                # largest one (in terms of absolute value since distances \n",
    "                # are negative here) in a single operation\n",
    "                heapq.heappushpop(heap, (dist, x, y))\n",
    "\n",
    "        # Extract the (x, y) coordinates from the heap and return them as a list\n",
    "        return [(x, y) for (dist, x, y) in heap]"
   ]
  },
  {
   "cell_type": "code",
   "execution_count": 2,
   "id": "97c460a4-b66a-4bac-b438-e0e43013783f",
   "metadata": {},
   "outputs": [
    {
     "name": "stdout",
     "output_type": "stream",
     "text": [
      "The k closest points are: [(-2, 2), (0, 1)]\n"
     ]
    }
   ],
   "source": [
    "# Create an instance of the Solution class\n",
    "solution = Solution()\n",
    "\n",
    "# Define a sample list of points and the value of k\n",
    "points = [[1, 3], [-2, 2], [5, 8], [0, 1]]\n",
    "k = 2\n",
    "\n",
    "# Call the kClosest method and print the result\n",
    "result = solution.kClosest(points, k)\n",
    "print(\"The k closest points are:\", result)"
   ]
  },
  {
   "cell_type": "code",
   "execution_count": null,
   "id": "5a19aa1b-ac0f-419b-a390-ab1b42359998",
   "metadata": {},
   "outputs": [],
   "source": []
  },
  {
   "cell_type": "code",
   "execution_count": null,
   "id": "e17c5866-17dd-40d1-983c-6abf1c499ee3",
   "metadata": {},
   "outputs": [],
   "source": []
  }
 ],
 "metadata": {
  "kernelspec": {
   "display_name": "Python 3 (ipykernel)",
   "language": "python",
   "name": "python3"
  },
  "language_info": {
   "codemirror_mode": {
    "name": "ipython",
    "version": 3
   },
   "file_extension": ".py",
   "mimetype": "text/x-python",
   "name": "python",
   "nbconvert_exporter": "python",
   "pygments_lexer": "ipython3",
   "version": "3.11.7"
  },
  "widgets": {
   "application/vnd.jupyter.widget-state+json": {
    "state": {},
    "version_major": 2,
    "version_minor": 0
   }
  }
 },
 "nbformat": 4,
 "nbformat_minor": 5
}
