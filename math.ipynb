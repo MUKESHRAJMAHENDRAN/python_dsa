{
 "cells": [
  {
   "cell_type": "markdown",
   "id": "100c6cb7-f42d-4594-b108-3f29315889bf",
   "metadata": {},
   "source": [
    "### 1. [Roman to Integer](https://leetcode.com/problems/roman-to-integer/)\n",
    "**Difficulty**: Easy  \n",
    "**Time**: 20 mins\n",
    "\n",
    "**Problem Statement**:\n",
    "Given a Roman numeral, convert it to an integer. Roman numerals are represented by seven different symbols: `I`, `V`, `X`, `L`, `C`, `D`, and `M`.\n",
    "\n",
    "**Symbol Values**:\n",
    "- `I = 1`\n",
    "- `V = 5`\n",
    "- `X = 10`\n",
    "- `L = 50`\n",
    "- `C = 100`\n",
    "- `D = 500`\n",
    "- `M = 1000`\n",
    "\n",
    "For example, Roman numeral `2` is written as `II`, which is simply two ones added together.  \n",
    "12 is written as `XII`, which is `X + II`.  \n",
    "27 is written as `XXVII`, which is `XX + V + II`.\n",
    "\n",
    "**Sample Input**:\n",
    "```text\n",
    "\"III\"\n",
    "```\n",
    "\n",
    "**Sample Output**:\n",
    "```text\n",
    "3\n",
    "```"
   ]
  },
  {
   "cell_type": "code",
   "execution_count": 1,
   "id": "7f136c4e-366e-44ae-8a53-b162ac0ae505",
   "metadata": {},
   "outputs": [
    {
     "name": "stdout",
     "output_type": "stream",
     "text": [
      "1994\n"
     ]
    }
   ],
   "source": [
    "def romanToInt(s: str) -> int:\n",
    "    # Mapping of Roman numerals to integers\n",
    "    roman_map = {\n",
    "        'I': 1, 'V': 5, 'X': 10, 'L': 50,\n",
    "        'C': 100, 'D': 500, 'M': 1000\n",
    "    }\n",
    "    total = 0\n",
    "    prev_value = 0\n",
    "\n",
    "    # Process each character in the Roman numeral string\n",
    "    for char in reversed(s):\n",
    "        # Get the integer value of the current Roman character\n",
    "        value = roman_map[char]\n",
    "\n",
    "        # Determine if this should be added or subtracted\n",
    "        if value < prev_value:\n",
    "            # Subtract if it's a \"smaller\" number before a \"larger\" number\n",
    "            total -= value\n",
    "        else:\n",
    "            # Otherwise, add it to the total\n",
    "            total += value\n",
    "\n",
    "        # Update the previous value for the next iteration\n",
    "        prev_value = value\n",
    "\n",
    "    return total\n",
    "\n",
    "# Sample test case\n",
    "print(romanToInt(\"MCMXCIV\")) # Output: 1994"
   ]
  },
  {
   "cell_type": "markdown",
   "id": "862253ec-0eb2-4d52-8c22-53a62e6e90f8",
   "metadata": {},
   "source": [
    "### 2. [Random Pick with Weight](https://leetcode.com/problems/random-pick-with-weight/)\n",
    "**Difficulty**: Medium  \n",
    "**Time**: 25 mins\n",
    "\n",
    "**Problem Statement**:\n",
    "You are given a list of positive integers `w` where `w[i]` represents the weight of the ith element. Write a function that randomly picks an index `i` from the list `w`, with the probability of picking index `i` being proportional to its weight.\n",
    "\n",
    "**Sample Input**:\n",
    "```text\n",
    "w = [1, 3]\n",
    "```\n",
    "\n",
    "**Sample Output**:\n",
    "```text\n",
    "// Returns 0 with probability 1/4, and 1 with probability 3/4.\n",
    "```"
   ]
  },
  {
   "cell_type": "code",
   "execution_count": 2,
   "id": "14914ca5-ceb8-4f1f-9338-5cff77171418",
   "metadata": {},
   "outputs": [
    {
     "name": "stdout",
     "output_type": "stream",
     "text": [
      "1\n"
     ]
    }
   ],
   "source": [
    "import random\n",
    "import itertools\n",
    "\n",
    "class Solution:\n",
    "\n",
    "    def __init__(self, w: list):\n",
    "        # Compute the prefix sums\n",
    "        self.prefix_sums = list(itertools.accumulate(w))\n",
    "        self.total_sum = self.prefix_sums[-1]\n",
    "\n",
    "    def pickIndex(self) -> int:\n",
    "        # Generate a random number within the range of total sum\n",
    "        target = random.random() * self.total_sum\n",
    "        # Binary search for the right index\n",
    "        low, high = 0, len(self.prefix_sums) - 1\n",
    "        while low < high:\n",
    "            mid = (low + high) // 2\n",
    "            if target > self.prefix_sums[mid]:\n",
    "                low = mid + 1\n",
    "            else:\n",
    "                high = mid\n",
    "        return low\n",
    "\n",
    "# Sample test case\n",
    "solution = Solution([1, 3])\n",
    "print(solution.pickIndex()) # Output: 0 or 1 (1 with probability 25% and 3 with probability 75%)"
   ]
  },
  {
   "cell_type": "markdown",
   "id": "15922dbf-a1bf-497e-bd0d-13f85af3fe98",
   "metadata": {},
   "source": [
    "### 3. [Pow(x, n)](https://leetcode.com/problems/powx-n/)\n",
    "**Difficulty**: Medium  \n",
    "**Time**: 20 mins\n",
    "\n",
    "**Problem Statement**:\n",
    "Implement `pow(x, n)`, which calculates `x` raised to the power `n` (i.e., `x^n`).\n",
    "\n",
    "**Sample Input**:\n",
    "```text\n",
    "x = 2.00000, n = 10\n",
    "```\n",
    "\n",
    "**Sample Output**:\n",
    "```text\n",
    "1024.00000\n",
    "```"
   ]
  },
  {
   "cell_type": "code",
   "execution_count": 3,
   "id": "2aede489-ce29-47ef-b37f-f4bb0bddbfe6",
   "metadata": {},
   "outputs": [
    {
     "name": "stdout",
     "output_type": "stream",
     "text": [
      "1024.0\n"
     ]
    }
   ],
   "source": [
    "def myPow(x: float, n: int) -> float:\n",
    "    # If the power is negative, invert the problem\n",
    "    if n < 0:\n",
    "        x = 1 / x\n",
    "        n = -n\n",
    "\n",
    "    result = 1\n",
    "    current_product = x\n",
    "\n",
    "    while n > 0:\n",
    "        if n % 2 == 1:\n",
    "            # If n is odd, multiply result by the current product\n",
    "            result *= current_product\n",
    "        # Square the current product\n",
    "        current_product *= current_product\n",
    "        # Floor divide n by 2\n",
    "        n //= 2\n",
    "\n",
    "    return result\n",
    "\n",
    "# Sample test case\n",
    "print(myPow(2.0, 10)) # Output: 1024.0"
   ]
  },
  {
   "cell_type": "markdown",
   "id": "b8c4cbec-b992-41de-a8bc-a8f08a981642",
   "metadata": {},
   "source": [
    "### 4. [Reverse Integer](https://leetcode.com/problems/reverse-integer/)\n",
    "**Difficulty**: Medium  \n",
    "**Time**: 25 mins\n",
    "\n",
    "**Problem Statement**:\n",
    "Given a 32-bit signed integer, reverse digits of an integer.\n",
    "\n",
    "**Note**:\n",
    "- Assume we are dealing with a 32-bit signed integer. The integer's overflow condition will be handled by returning `0`.\n",
    "\n",
    "**Sample Input**:\n",
    "```text\n",
    "x = 123\n",
    "```\n",
    "\n",
    "**Sample Output**:\n",
    "```text\n",
    "321\n",
    "```"
   ]
  },
  {
   "cell_type": "code",
   "execution_count": 4,
   "id": "fc8900a6-7a06-421f-8e33-55314fbee49a",
   "metadata": {},
   "outputs": [
    {
     "name": "stdout",
     "output_type": "stream",
     "text": [
      "321\n"
     ]
    }
   ],
   "source": [
    "def reverse(x: int) -> int:\n",
    "    # Define the boundaries of a 32-bit signed integer\n",
    "    INT_MAX, INT_MIN = 2**31 - 1, -2**31\n",
    "\n",
    "    # Determine if the number is negative\n",
    "    negative = -1 if x < 0 else 1\n",
    "    x *= negative\n",
    "\n",
    "    # Reverse process\n",
    "    reversed_num = 0\n",
    "    while x != 0:\n",
    "        pop = x % 10\n",
    "        x //= 10\n",
    "        # Check for overflow/underflow\n",
    "        if reversed_num > INT_MAX // 10 or (reversed_num == INT_MAX // 10 and pop > 7):\n",
    "            return 0\n",
    "        if reversed_num < INT_MIN // 10 or (reversed_num == INT_MIN // 10 and pop < -8):\n",
    "            return 0\n",
    "        # Build the reversed number\n",
    "        reversed_num = reversed_num * 10 + pop\n",
    "\n",
    "    return reversed_num * negative\n",
    "\n",
    "# Sample test case\n",
    "print(reverse(123)) # Output: 321"
   ]
  },
  {
   "cell_type": "markdown",
   "id": "ebda1a4f-5469-4b28-9770-09e800c9e119",
   "metadata": {},
   "source": [
    "### 5. [Palindrome Number](https://leetcode.com/problems/palindrome-number/)\n",
    "**Difficulty**: Easy  \n",
    "**Time**: 15 mins\n",
    "\n",
    "**Problem Statement**:\n",
    "Determine whether an integer is a palindrome. An integer is a palindrome if it reads the same forward and backward.\n",
    "\n",
    "**Sample Input**:\n",
    "```text\n",
    "121\n",
    "```\n",
    "\n",
    "**Sample Output**:\n",
    "```text\n",
    "true\n",
    "```"
   ]
  },
  {
   "cell_type": "code",
   "execution_count": 5,
   "id": "62597fc2-c01e-4344-aeb8-5d3b796ae607",
   "metadata": {},
   "outputs": [
    {
     "name": "stdout",
     "output_type": "stream",
     "text": [
      "True\n"
     ]
    }
   ],
   "source": [
    "def isPalindrome(x: int) -> bool:\n",
    "    # Negative numbers cannot be palindromes\n",
    "    if x < 0:\n",
    "        return False\n",
    "    # Extract digits and reverse the number\n",
    "    original = x\n",
    "    reversed_num = 0\n",
    "    while x != 0:\n",
    "        pop = x % 10\n",
    "        x //= 10\n",
    "        reversed_num = reversed_num * 10 + pop\n",
    "    # The number is a palindrome if it reads the same forwards and backwards\n",
    "    return original == reversed_num\n",
    "\n",
    "# Sample test case\n",
    "print(isPalindrome(121)) # Output: True"
   ]
  }
 ],
 "metadata": {
  "kernelspec": {
   "display_name": "Python 3 (ipykernel)",
   "language": "python",
   "name": "python3"
  },
  "language_info": {
   "codemirror_mode": {
    "name": "ipython",
    "version": 3
   },
   "file_extension": ".py",
   "mimetype": "text/x-python",
   "name": "python",
   "nbconvert_exporter": "python",
   "pygments_lexer": "ipython3",
   "version": "3.11.7"
  },
  "widgets": {
   "application/vnd.jupyter.widget-state+json": {
    "state": {},
    "version_major": 2,
    "version_minor": 0
   }
  }
 },
 "nbformat": 4,
 "nbformat_minor": 5
}
