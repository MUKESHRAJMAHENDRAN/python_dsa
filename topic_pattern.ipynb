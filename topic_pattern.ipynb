{
 "cells": [
  {
   "cell_type": "markdown",
   "id": "1e902c94-391f-4c3f-bbc6-d76d291c8d89",
   "metadata": {},
   "source": [
    "### Two-Pointer and Sliding Window Patterns\n",
    "1. **Two Sum**\n",
    "2. **Container With Most Water**\n",
    "3. **3Sum**\n",
    "4. **3Sum Closest**\n",
    "5. **Longest Substring Without Repeating Characters**\n",
    "6. **Valid Palindrome**\n",
    "\n",
    "### Anagram and Frequency-Based Patterns\n",
    "1. **Valid Anagram**\n",
    "2. **Find All Anagrams in a String**\n",
    "3. **Minimum Window Substring**\n",
    "4. **Longest Repeating Character Replacement**\n",
    "\n",
    "### String Manipulation\n",
    "1. **Longest Common Prefix**\n",
    "\n",
    "---\n",
    "\n",
    "### Sorting and Intervals\n",
    "1. **Merge Intervals**\n",
    "2. **Insert Interval**\n",
    "3. **Non-overlapping Intervals**\n",
    "4. **Meeting Rooms**\n",
    "5. **Meeting Rooms II**\n",
    "6. **Employee Free Time**\n",
    "\n",
    "---\n",
    "\n",
    "### Hash Maps and Frequency Counting\n",
    "1. **Contains Duplicate**\n",
    "2. **Majority Element**\n",
    "3. **Subarray Sum Equals K**\n",
    "4. **Longest Consecutive Sequence**\n",
    "5. **Group Anagrams**\n",
    "\n",
    "---\n",
    "\n",
    "### Greedy Patterns\n",
    "1. **Best Time to Buy and Sell Stock**\n",
    "2. **Gas Station**\n",
    "3. **Container With Most Water** (review for Greedy perspective)\n",
    "4. **Largest Number**\n",
    "\n",
    "---\n",
    "\n",
    "### Array Manipulation\n",
    "1. **Product of Array Except Self**\n",
    "2. **Move Zeroes**\n",
    "3. **Rotate Array**\n",
    "4. **Squares of a Sorted Array**\n",
    "\n",
    "---\n",
    "\n",
    "### Stack-Based and Monotonic Queue Patterns\n",
    "1. **Sliding Window Maximum**\n",
    "2. **Largest Rectangle in Histogram**\n",
    "3. **Trapping Rain Water**\n",
    "\n",
    "---\n",
    "\n",
    "### Dynamic Programming\n",
    "1. **Palindrome Pairs**\n",
    "2. **Longest Palindromic Substring**\n",
    "3. **Longest Common Subsequence**\n",
    "\n",
    "---"
   ]
  },
  {
   "cell_type": "code",
   "execution_count": null,
   "id": "3703ef38-2931-49af-a0dc-97b48dc6b772",
   "metadata": {},
   "outputs": [],
   "source": []
  }
 ],
 "metadata": {
  "kernelspec": {
   "display_name": "Python 3 (ipykernel)",
   "language": "python",
   "name": "python3"
  },
  "language_info": {
   "codemirror_mode": {
    "name": "ipython",
    "version": 3
   },
   "file_extension": ".py",
   "mimetype": "text/x-python",
   "name": "python",
   "nbconvert_exporter": "python",
   "pygments_lexer": "ipython3",
   "version": "3.11.7"
  },
  "widgets": {
   "application/vnd.jupyter.widget-state+json": {
    "state": {},
    "version_major": 2,
    "version_minor": 0
   }
  }
 },
 "nbformat": 4,
 "nbformat_minor": 5
}
