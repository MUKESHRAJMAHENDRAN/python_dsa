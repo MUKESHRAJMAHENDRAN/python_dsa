{
 "cells": [
  {
   "cell_type": "markdown",
   "id": "1e902c94-391f-4c3f-bbc6-d76d291c8d89",
   "metadata": {},
   "source": [
    "# LeetCode Problems Organized by Pattern\n",
    "\n",
    "## Hash Maps and Counting\n",
    "1. **Two Sum** - Easy\n",
    "2. **Contains Duplicate** - Easy\n",
    "3. **Majority Element** - Easy\n",
    "4. **Valid Anagram** - Easy\n",
    "5. **Group Anagrams** - Medium\n",
    "6. **Longest Substring Without Repeating Characters** - Medium\n",
    "7. **Subarray Sum Equals K** - Medium\n",
    "8. **Find All Anagrams in a String** - Medium\n",
    "\n",
    "## Sorting and Two Pointers\n",
    "9. **Squares of a Sorted Array** - Easy\n",
    "10. **3Sum** - Medium\n",
    "11. **3Sum Closest** - Medium\n",
    "12. **Sort Colors** - Medium\n",
    "13. **Container With Most Water** - Medium\n",
    "\n",
    "## Sliding Window\n",
    "14. **Minimum Window Substring** - Hard\n",
    "15. **Sliding Window Maximum** - Hard\n",
    "16. **Longest Repeating Character Replacement** - Medium\n",
    "\n",
    "## Greedy and Interval Merging\n",
    "17. **Best Time to Buy and Sell Stock** - Easy\n",
    "18. **Meeting Rooms** - Easy\n",
    "19. **Insert Interval** - Medium\n",
    "20. **Merge Intervals** - Medium\n",
    "21. **Non-overlapping Intervals** - Medium\n",
    "22. **Meeting Rooms II** - Medium\n",
    "23. **Gas Station** - Medium\n",
    "24. **Employee Free Time** - Hard\n",
    "\n",
    "## Dynamic Programming and Arrays\n",
    "25. **Product of Array Except Self** - Medium\n",
    "26. **Rotate Array** - Medium\n",
    "27. **Longest Consecutive Sequence** - Medium\n",
    "28. **Combination Sum** - Medium\n",
    "29. **Contiguous Array** - Medium\n",
    "\n",
    "## String Manipulation and Palindrome\n",
    "30. **Valid Palindrome** - Easy\n",
    "31. **String to Integer (atoi)** - Medium\n",
    "32. **Longest Palindrome** - Easy\n",
    "33. **Longest Palindromic Substring** - Medium\n",
    "34. **Palindrome Pairs** - Hard\n",
    "\n",
    "## Miscellaneous\n",
    "35. **Move Zeroes** - Easy\n",
    "36. **Longest Common Prefix** - Easy\n",
    "37. **Largest Number** - Medium\n",
    "38. **Encode and Decode Strings** - Medium\n",
    "\n",
    "### Strategy\n",
    "- **Python Tips**: Use built-in functions like `sorted()`, list comprehensions, and dictionary comprehensions to enhance code clarity and efficiency.\n",
    "- **Pattern Recognition**: Pay attention to common data structures like lists and dictionaries. Python's `set` and `collections.Counter` can be particularly useful.\n",
    "- **Implementation Details**: Carefully handle edge cases, especially with interval-related problems and string manipulations, to become adept at handling diverse data scenarios in Python."
   ]
  }
 ],
 "metadata": {
  "kernelspec": {
   "display_name": "Python 3 (ipykernel)",
   "language": "python",
   "name": "python3"
  },
  "language_info": {
   "codemirror_mode": {
    "name": "ipython",
    "version": 3
   },
   "file_extension": ".py",
   "mimetype": "text/x-python",
   "name": "python",
   "nbconvert_exporter": "python",
   "pygments_lexer": "ipython3",
   "version": "3.11.7"
  },
  "widgets": {
   "application/vnd.jupyter.widget-state+json": {
    "state": {},
    "version_major": 2,
    "version_minor": 0
   }
  }
 },
 "nbformat": 4,
 "nbformat_minor": 5
}
